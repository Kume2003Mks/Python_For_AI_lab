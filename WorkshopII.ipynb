{
  "nbformat": 4,
  "nbformat_minor": 0,
  "metadata": {
    "colab": {
      "provenance": []
    },
    "kernelspec": {
      "name": "python3",
      "display_name": "Python 3"
    },
    "language_info": {
      "name": "python"
    }
  },
  "cells": [
    {
      "cell_type": "code",
      "source": [
        "from google.colab import drive\n",
        "drive.mount('/content/drive')\n",
        "\n",
        "!ls \"/content/drive/MyDrive/Colab/w_file\""
      ],
      "metadata": {
        "colab": {
          "base_uri": "https://localhost:8080/"
        },
        "outputId": "b1ab326b-08e5-40d9-a484-92ac253ae964",
        "id": "ksk4_Gwsal7L"
      },
      "execution_count": 72,
      "outputs": [
        {
          "output_type": "stream",
          "name": "stdout",
          "text": [
            "Drive already mounted at /content/drive; to attempt to forcibly remount, call drive.mount(\"/content/drive\", force_remount=True).\n",
            "weather1.csv  weather2.csv\n"
          ]
        }
      ]
    },
    {
      "cell_type": "markdown",
      "source": [
        "Problem 1"
      ],
      "metadata": {
        "id": "4htF7r82cVjg"
      }
    },
    {
      "cell_type": "code",
      "source": [
        "import pandas as pd\n",
        "df1 = pd.read_csv('/content/drive/MyDrive/Colab/w_file/weather1.csv')\n",
        "df2 = pd.read_csv('/content/drive/MyDrive/Colab/w_file/weather2.csv')\n",
        "print(df1)\n",
        "print(\"\\n\")\n",
        "print(df2)"
      ],
      "metadata": {
        "colab": {
          "base_uri": "https://localhost:8080/"
        },
        "id": "o9p-yOrnbXq7",
        "outputId": "933d214d-7994-48d7-afe6-40fa61fcabde"
      },
      "execution_count": 73,
      "outputs": [
        {
          "output_type": "stream",
          "name": "stdout",
          "text": [
            "         Day   Province   outlook humidity\n",
            "0   1/1/2562    Bangkok     sunny     high\n",
            "1   1/1/2562     Phuket     sunny     high\n",
            "2   1/1/2562  ChiangMai  overcast     high\n",
            "3   2/1/2562    Bangkok     rainy     high\n",
            "4   2/1/2562     Phuket     rainy   normal\n",
            "5   2/1/2562  ChiangMai     rainy   normal\n",
            "6   3/1/2562    Bangkok  overcast   normal\n",
            "7   3/1/2562     Phuket     sunny     high\n",
            "8   3/1/2562  ChiangMai     sunny   normal\n",
            "9   4/1/2562    Bangkok     rainy   normal\n",
            "10  4/1/2562     Phuket     sunny   normal\n",
            "11  4/1/2562  ChiangMai  overcast     high\n",
            "\n",
            "\n",
            "        Day Province   outlook humidity\n",
            "0  1/1/2562    Korat     sunny   normal\n",
            "1  2/1/2562    Korat     rainy     high\n",
            "2  3/1/2562    Korat  overcast     high\n",
            "3  4/1/2562    Korat     sunny      low\n"
          ]
        }
      ]
    },
    {
      "cell_type": "markdown",
      "source": [
        "Problem 2"
      ],
      "metadata": {
        "id": "CoUTYnUOfGqH"
      }
    },
    {
      "cell_type": "code",
      "source": [
        "import pandas as pd\n",
        "df1 = pd.read_csv('/content/drive/MyDrive/Colab/w_file/weather1.csv')\n",
        "df2 = pd.read_csv('/content/drive/MyDrive/Colab/w_file/weather2.csv')\n",
        "\n",
        "temp_dict = [33,39,28,28,30,25,27,40,38,29,39,28,35,25,27,35]\n",
        "\n",
        "df1 = df1.append(df2,ignore_index=True)\n",
        "\n",
        "df1['Temperature'] = temp_dict\n",
        "df1\n"
      ],
      "metadata": {
        "colab": {
          "base_uri": "https://localhost:8080/",
          "height": 551
        },
        "id": "GwJD05JlfM-X",
        "outputId": "7f55d6f9-bb1c-4f9f-8adb-23e89ac168c8"
      },
      "execution_count": 74,
      "outputs": [
        {
          "output_type": "execute_result",
          "data": {
            "text/plain": [
              "         Day   Province   outlook humidity  Temperature\n",
              "0   1/1/2562    Bangkok     sunny     high           33\n",
              "1   1/1/2562     Phuket     sunny     high           39\n",
              "2   1/1/2562  ChiangMai  overcast     high           28\n",
              "3   2/1/2562    Bangkok     rainy     high           28\n",
              "4   2/1/2562     Phuket     rainy   normal           30\n",
              "5   2/1/2562  ChiangMai     rainy   normal           25\n",
              "6   3/1/2562    Bangkok  overcast   normal           27\n",
              "7   3/1/2562     Phuket     sunny     high           40\n",
              "8   3/1/2562  ChiangMai     sunny   normal           38\n",
              "9   4/1/2562    Bangkok     rainy   normal           29\n",
              "10  4/1/2562     Phuket     sunny   normal           39\n",
              "11  4/1/2562  ChiangMai  overcast     high           28\n",
              "12  1/1/2562      Korat     sunny   normal           35\n",
              "13  2/1/2562      Korat     rainy     high           25\n",
              "14  3/1/2562      Korat  overcast     high           27\n",
              "15  4/1/2562      Korat     sunny      low           35"
            ],
            "text/html": [
              "\n",
              "  <div id=\"df-8232a60f-7679-439f-ac9d-4163d09eee6d\">\n",
              "    <div class=\"colab-df-container\">\n",
              "      <div>\n",
              "<style scoped>\n",
              "    .dataframe tbody tr th:only-of-type {\n",
              "        vertical-align: middle;\n",
              "    }\n",
              "\n",
              "    .dataframe tbody tr th {\n",
              "        vertical-align: top;\n",
              "    }\n",
              "\n",
              "    .dataframe thead th {\n",
              "        text-align: right;\n",
              "    }\n",
              "</style>\n",
              "<table border=\"1\" class=\"dataframe\">\n",
              "  <thead>\n",
              "    <tr style=\"text-align: right;\">\n",
              "      <th></th>\n",
              "      <th>Day</th>\n",
              "      <th>Province</th>\n",
              "      <th>outlook</th>\n",
              "      <th>humidity</th>\n",
              "      <th>Temperature</th>\n",
              "    </tr>\n",
              "  </thead>\n",
              "  <tbody>\n",
              "    <tr>\n",
              "      <th>0</th>\n",
              "      <td>1/1/2562</td>\n",
              "      <td>Bangkok</td>\n",
              "      <td>sunny</td>\n",
              "      <td>high</td>\n",
              "      <td>33</td>\n",
              "    </tr>\n",
              "    <tr>\n",
              "      <th>1</th>\n",
              "      <td>1/1/2562</td>\n",
              "      <td>Phuket</td>\n",
              "      <td>sunny</td>\n",
              "      <td>high</td>\n",
              "      <td>39</td>\n",
              "    </tr>\n",
              "    <tr>\n",
              "      <th>2</th>\n",
              "      <td>1/1/2562</td>\n",
              "      <td>ChiangMai</td>\n",
              "      <td>overcast</td>\n",
              "      <td>high</td>\n",
              "      <td>28</td>\n",
              "    </tr>\n",
              "    <tr>\n",
              "      <th>3</th>\n",
              "      <td>2/1/2562</td>\n",
              "      <td>Bangkok</td>\n",
              "      <td>rainy</td>\n",
              "      <td>high</td>\n",
              "      <td>28</td>\n",
              "    </tr>\n",
              "    <tr>\n",
              "      <th>4</th>\n",
              "      <td>2/1/2562</td>\n",
              "      <td>Phuket</td>\n",
              "      <td>rainy</td>\n",
              "      <td>normal</td>\n",
              "      <td>30</td>\n",
              "    </tr>\n",
              "    <tr>\n",
              "      <th>5</th>\n",
              "      <td>2/1/2562</td>\n",
              "      <td>ChiangMai</td>\n",
              "      <td>rainy</td>\n",
              "      <td>normal</td>\n",
              "      <td>25</td>\n",
              "    </tr>\n",
              "    <tr>\n",
              "      <th>6</th>\n",
              "      <td>3/1/2562</td>\n",
              "      <td>Bangkok</td>\n",
              "      <td>overcast</td>\n",
              "      <td>normal</td>\n",
              "      <td>27</td>\n",
              "    </tr>\n",
              "    <tr>\n",
              "      <th>7</th>\n",
              "      <td>3/1/2562</td>\n",
              "      <td>Phuket</td>\n",
              "      <td>sunny</td>\n",
              "      <td>high</td>\n",
              "      <td>40</td>\n",
              "    </tr>\n",
              "    <tr>\n",
              "      <th>8</th>\n",
              "      <td>3/1/2562</td>\n",
              "      <td>ChiangMai</td>\n",
              "      <td>sunny</td>\n",
              "      <td>normal</td>\n",
              "      <td>38</td>\n",
              "    </tr>\n",
              "    <tr>\n",
              "      <th>9</th>\n",
              "      <td>4/1/2562</td>\n",
              "      <td>Bangkok</td>\n",
              "      <td>rainy</td>\n",
              "      <td>normal</td>\n",
              "      <td>29</td>\n",
              "    </tr>\n",
              "    <tr>\n",
              "      <th>10</th>\n",
              "      <td>4/1/2562</td>\n",
              "      <td>Phuket</td>\n",
              "      <td>sunny</td>\n",
              "      <td>normal</td>\n",
              "      <td>39</td>\n",
              "    </tr>\n",
              "    <tr>\n",
              "      <th>11</th>\n",
              "      <td>4/1/2562</td>\n",
              "      <td>ChiangMai</td>\n",
              "      <td>overcast</td>\n",
              "      <td>high</td>\n",
              "      <td>28</td>\n",
              "    </tr>\n",
              "    <tr>\n",
              "      <th>12</th>\n",
              "      <td>1/1/2562</td>\n",
              "      <td>Korat</td>\n",
              "      <td>sunny</td>\n",
              "      <td>normal</td>\n",
              "      <td>35</td>\n",
              "    </tr>\n",
              "    <tr>\n",
              "      <th>13</th>\n",
              "      <td>2/1/2562</td>\n",
              "      <td>Korat</td>\n",
              "      <td>rainy</td>\n",
              "      <td>high</td>\n",
              "      <td>25</td>\n",
              "    </tr>\n",
              "    <tr>\n",
              "      <th>14</th>\n",
              "      <td>3/1/2562</td>\n",
              "      <td>Korat</td>\n",
              "      <td>overcast</td>\n",
              "      <td>high</td>\n",
              "      <td>27</td>\n",
              "    </tr>\n",
              "    <tr>\n",
              "      <th>15</th>\n",
              "      <td>4/1/2562</td>\n",
              "      <td>Korat</td>\n",
              "      <td>sunny</td>\n",
              "      <td>low</td>\n",
              "      <td>35</td>\n",
              "    </tr>\n",
              "  </tbody>\n",
              "</table>\n",
              "</div>\n",
              "      <button class=\"colab-df-convert\" onclick=\"convertToInteractive('df-8232a60f-7679-439f-ac9d-4163d09eee6d')\"\n",
              "              title=\"Convert this dataframe to an interactive table.\"\n",
              "              style=\"display:none;\">\n",
              "        \n",
              "  <svg xmlns=\"http://www.w3.org/2000/svg\" height=\"24px\"viewBox=\"0 0 24 24\"\n",
              "       width=\"24px\">\n",
              "    <path d=\"M0 0h24v24H0V0z\" fill=\"none\"/>\n",
              "    <path d=\"M18.56 5.44l.94 2.06.94-2.06 2.06-.94-2.06-.94-.94-2.06-.94 2.06-2.06.94zm-11 1L8.5 8.5l.94-2.06 2.06-.94-2.06-.94L8.5 2.5l-.94 2.06-2.06.94zm10 10l.94 2.06.94-2.06 2.06-.94-2.06-.94-.94-2.06-.94 2.06-2.06.94z\"/><path d=\"M17.41 7.96l-1.37-1.37c-.4-.4-.92-.59-1.43-.59-.52 0-1.04.2-1.43.59L10.3 9.45l-7.72 7.72c-.78.78-.78 2.05 0 2.83L4 21.41c.39.39.9.59 1.41.59.51 0 1.02-.2 1.41-.59l7.78-7.78 2.81-2.81c.8-.78.8-2.07 0-2.86zM5.41 20L4 18.59l7.72-7.72 1.47 1.35L5.41 20z\"/>\n",
              "  </svg>\n",
              "      </button>\n",
              "      \n",
              "  <style>\n",
              "    .colab-df-container {\n",
              "      display:flex;\n",
              "      flex-wrap:wrap;\n",
              "      gap: 12px;\n",
              "    }\n",
              "\n",
              "    .colab-df-convert {\n",
              "      background-color: #E8F0FE;\n",
              "      border: none;\n",
              "      border-radius: 50%;\n",
              "      cursor: pointer;\n",
              "      display: none;\n",
              "      fill: #1967D2;\n",
              "      height: 32px;\n",
              "      padding: 0 0 0 0;\n",
              "      width: 32px;\n",
              "    }\n",
              "\n",
              "    .colab-df-convert:hover {\n",
              "      background-color: #E2EBFA;\n",
              "      box-shadow: 0px 1px 2px rgba(60, 64, 67, 0.3), 0px 1px 3px 1px rgba(60, 64, 67, 0.15);\n",
              "      fill: #174EA6;\n",
              "    }\n",
              "\n",
              "    [theme=dark] .colab-df-convert {\n",
              "      background-color: #3B4455;\n",
              "      fill: #D2E3FC;\n",
              "    }\n",
              "\n",
              "    [theme=dark] .colab-df-convert:hover {\n",
              "      background-color: #434B5C;\n",
              "      box-shadow: 0px 1px 3px 1px rgba(0, 0, 0, 0.15);\n",
              "      filter: drop-shadow(0px 1px 2px rgba(0, 0, 0, 0.3));\n",
              "      fill: #FFFFFF;\n",
              "    }\n",
              "  </style>\n",
              "\n",
              "      <script>\n",
              "        const buttonEl =\n",
              "          document.querySelector('#df-8232a60f-7679-439f-ac9d-4163d09eee6d button.colab-df-convert');\n",
              "        buttonEl.style.display =\n",
              "          google.colab.kernel.accessAllowed ? 'block' : 'none';\n",
              "\n",
              "        async function convertToInteractive(key) {\n",
              "          const element = document.querySelector('#df-8232a60f-7679-439f-ac9d-4163d09eee6d');\n",
              "          const dataTable =\n",
              "            await google.colab.kernel.invokeFunction('convertToInteractive',\n",
              "                                                     [key], {});\n",
              "          if (!dataTable) return;\n",
              "\n",
              "          const docLinkHtml = 'Like what you see? Visit the ' +\n",
              "            '<a target=\"_blank\" href=https://colab.research.google.com/notebooks/data_table.ipynb>data table notebook</a>'\n",
              "            + ' to learn more about interactive tables.';\n",
              "          element.innerHTML = '';\n",
              "          dataTable['output_type'] = 'display_data';\n",
              "          await google.colab.output.renderOutput(dataTable, element);\n",
              "          const docLink = document.createElement('div');\n",
              "          docLink.innerHTML = docLinkHtml;\n",
              "          element.appendChild(docLink);\n",
              "        }\n",
              "      </script>\n",
              "    </div>\n",
              "  </div>\n",
              "  "
            ]
          },
          "metadata": {},
          "execution_count": 74
        }
      ]
    },
    {
      "cell_type": "markdown",
      "source": [
        "Problem 3"
      ],
      "metadata": {
        "id": "QK8rtzk9k2aN"
      }
    },
    {
      "cell_type": "code",
      "source": [
        "dataframeshot = df1[['Day','Province','Temperature']]\n",
        "\n",
        "dataframeshot = dataframeshot.sort_values(by='Temperature', ascending=False).query(\"Day == '1/1/2562'\")\n",
        "dataframeshot"
      ],
      "metadata": {
        "id": "fszCMCZOk6u6",
        "outputId": "65bafd21-c41f-4833-b925-3e573f21ac76",
        "colab": {
          "base_uri": "https://localhost:8080/",
          "height": 175
        }
      },
      "execution_count": 75,
      "outputs": [
        {
          "output_type": "execute_result",
          "data": {
            "text/plain": [
              "         Day   Province  Temperature\n",
              "1   1/1/2562     Phuket           39\n",
              "12  1/1/2562      Korat           35\n",
              "0   1/1/2562    Bangkok           33\n",
              "2   1/1/2562  ChiangMai           28"
            ],
            "text/html": [
              "\n",
              "  <div id=\"df-dd4aa8e3-6ec6-4164-9baf-ed7c85276cc9\">\n",
              "    <div class=\"colab-df-container\">\n",
              "      <div>\n",
              "<style scoped>\n",
              "    .dataframe tbody tr th:only-of-type {\n",
              "        vertical-align: middle;\n",
              "    }\n",
              "\n",
              "    .dataframe tbody tr th {\n",
              "        vertical-align: top;\n",
              "    }\n",
              "\n",
              "    .dataframe thead th {\n",
              "        text-align: right;\n",
              "    }\n",
              "</style>\n",
              "<table border=\"1\" class=\"dataframe\">\n",
              "  <thead>\n",
              "    <tr style=\"text-align: right;\">\n",
              "      <th></th>\n",
              "      <th>Day</th>\n",
              "      <th>Province</th>\n",
              "      <th>Temperature</th>\n",
              "    </tr>\n",
              "  </thead>\n",
              "  <tbody>\n",
              "    <tr>\n",
              "      <th>1</th>\n",
              "      <td>1/1/2562</td>\n",
              "      <td>Phuket</td>\n",
              "      <td>39</td>\n",
              "    </tr>\n",
              "    <tr>\n",
              "      <th>12</th>\n",
              "      <td>1/1/2562</td>\n",
              "      <td>Korat</td>\n",
              "      <td>35</td>\n",
              "    </tr>\n",
              "    <tr>\n",
              "      <th>0</th>\n",
              "      <td>1/1/2562</td>\n",
              "      <td>Bangkok</td>\n",
              "      <td>33</td>\n",
              "    </tr>\n",
              "    <tr>\n",
              "      <th>2</th>\n",
              "      <td>1/1/2562</td>\n",
              "      <td>ChiangMai</td>\n",
              "      <td>28</td>\n",
              "    </tr>\n",
              "  </tbody>\n",
              "</table>\n",
              "</div>\n",
              "      <button class=\"colab-df-convert\" onclick=\"convertToInteractive('df-dd4aa8e3-6ec6-4164-9baf-ed7c85276cc9')\"\n",
              "              title=\"Convert this dataframe to an interactive table.\"\n",
              "              style=\"display:none;\">\n",
              "        \n",
              "  <svg xmlns=\"http://www.w3.org/2000/svg\" height=\"24px\"viewBox=\"0 0 24 24\"\n",
              "       width=\"24px\">\n",
              "    <path d=\"M0 0h24v24H0V0z\" fill=\"none\"/>\n",
              "    <path d=\"M18.56 5.44l.94 2.06.94-2.06 2.06-.94-2.06-.94-.94-2.06-.94 2.06-2.06.94zm-11 1L8.5 8.5l.94-2.06 2.06-.94-2.06-.94L8.5 2.5l-.94 2.06-2.06.94zm10 10l.94 2.06.94-2.06 2.06-.94-2.06-.94-.94-2.06-.94 2.06-2.06.94z\"/><path d=\"M17.41 7.96l-1.37-1.37c-.4-.4-.92-.59-1.43-.59-.52 0-1.04.2-1.43.59L10.3 9.45l-7.72 7.72c-.78.78-.78 2.05 0 2.83L4 21.41c.39.39.9.59 1.41.59.51 0 1.02-.2 1.41-.59l7.78-7.78 2.81-2.81c.8-.78.8-2.07 0-2.86zM5.41 20L4 18.59l7.72-7.72 1.47 1.35L5.41 20z\"/>\n",
              "  </svg>\n",
              "      </button>\n",
              "      \n",
              "  <style>\n",
              "    .colab-df-container {\n",
              "      display:flex;\n",
              "      flex-wrap:wrap;\n",
              "      gap: 12px;\n",
              "    }\n",
              "\n",
              "    .colab-df-convert {\n",
              "      background-color: #E8F0FE;\n",
              "      border: none;\n",
              "      border-radius: 50%;\n",
              "      cursor: pointer;\n",
              "      display: none;\n",
              "      fill: #1967D2;\n",
              "      height: 32px;\n",
              "      padding: 0 0 0 0;\n",
              "      width: 32px;\n",
              "    }\n",
              "\n",
              "    .colab-df-convert:hover {\n",
              "      background-color: #E2EBFA;\n",
              "      box-shadow: 0px 1px 2px rgba(60, 64, 67, 0.3), 0px 1px 3px 1px rgba(60, 64, 67, 0.15);\n",
              "      fill: #174EA6;\n",
              "    }\n",
              "\n",
              "    [theme=dark] .colab-df-convert {\n",
              "      background-color: #3B4455;\n",
              "      fill: #D2E3FC;\n",
              "    }\n",
              "\n",
              "    [theme=dark] .colab-df-convert:hover {\n",
              "      background-color: #434B5C;\n",
              "      box-shadow: 0px 1px 3px 1px rgba(0, 0, 0, 0.15);\n",
              "      filter: drop-shadow(0px 1px 2px rgba(0, 0, 0, 0.3));\n",
              "      fill: #FFFFFF;\n",
              "    }\n",
              "  </style>\n",
              "\n",
              "      <script>\n",
              "        const buttonEl =\n",
              "          document.querySelector('#df-dd4aa8e3-6ec6-4164-9baf-ed7c85276cc9 button.colab-df-convert');\n",
              "        buttonEl.style.display =\n",
              "          google.colab.kernel.accessAllowed ? 'block' : 'none';\n",
              "\n",
              "        async function convertToInteractive(key) {\n",
              "          const element = document.querySelector('#df-dd4aa8e3-6ec6-4164-9baf-ed7c85276cc9');\n",
              "          const dataTable =\n",
              "            await google.colab.kernel.invokeFunction('convertToInteractive',\n",
              "                                                     [key], {});\n",
              "          if (!dataTable) return;\n",
              "\n",
              "          const docLinkHtml = 'Like what you see? Visit the ' +\n",
              "            '<a target=\"_blank\" href=https://colab.research.google.com/notebooks/data_table.ipynb>data table notebook</a>'\n",
              "            + ' to learn more about interactive tables.';\n",
              "          element.innerHTML = '';\n",
              "          dataTable['output_type'] = 'display_data';\n",
              "          await google.colab.output.renderOutput(dataTable, element);\n",
              "          const docLink = document.createElement('div');\n",
              "          docLink.innerHTML = docLinkHtml;\n",
              "          element.appendChild(docLink);\n",
              "        }\n",
              "      </script>\n",
              "    </div>\n",
              "  </div>\n",
              "  "
            ]
          },
          "metadata": {},
          "execution_count": 75
        }
      ]
    },
    {
      "cell_type": "markdown",
      "source": [
        "Problem 4\n"
      ],
      "metadata": {
        "id": "sq34pws9a__P"
      }
    },
    {
      "cell_type": "code",
      "source": [
        "bardata = dataframeshot.plot.bar(x='Province', y='Temperature', rot=0)"
      ],
      "metadata": {
        "colab": {
          "base_uri": "https://localhost:8080/",
          "height": 279
        },
        "id": "HmOb3QbTbDAV",
        "outputId": "756a0daf-bd59-4d5a-df9c-b6f45b831cc3"
      },
      "execution_count": 76,
      "outputs": [
        {
          "output_type": "display_data",
          "data": {
            "text/plain": [
              "<Figure size 432x288 with 1 Axes>"
            ],
            "image/png": "[encoded data removed]"
          },
          "metadata": {
            "needs_background": "light"
          }
        }
      ]
    },
    {
      "cell_type": "markdown",
      "source": [
        "Problem 5"
      ],
      "metadata": {
        "id": "XdL5GezgdfiW"
      }
    },
    {
      "cell_type": "code",
      "source": [
        "dataSelect1 = df1[['Day','Province','Temperature']]\n",
        "dataSelect1 = dataSelect1.sort_values(by='Day').query(\"Province == 'Bangkok'\")\n",
        "dataPrint1 = dataSelect1.to_string(index=False)\n",
        "\n",
        "dataSelect2 = df1[['Day','Province','Temperature']]\n",
        "dataSelect2 = dataSelect2.sort_values(by='Day').query(\"Province == 'Phuket'\")\n",
        "dataPrint2 = dataSelect2.to_string(index=False)\n",
        "\n",
        "\n",
        "print(dataPrint1)\n",
        "print(\"\\n\")\n",
        "print(dataPrint2)"
      ],
      "metadata": {
        "colab": {
          "base_uri": "https://localhost:8080/"
        },
        "id": "m4kfbHRqdk_Z",
        "outputId": "6d73ecac-4760-4b6c-f5c0-9e3792e2cd36"
      },
      "execution_count": 77,
      "outputs": [
        {
          "output_type": "stream",
          "name": "stdout",
          "text": [
            "     Day Province  Temperature\n",
            "1/1/2562  Bangkok           33\n",
            "2/1/2562  Bangkok           28\n",
            "3/1/2562  Bangkok           27\n",
            "4/1/2562  Bangkok           29\n",
            "\n",
            "\n",
            "     Day Province  Temperature\n",
            "1/1/2562   Phuket           39\n",
            "2/1/2562   Phuket           30\n",
            "3/1/2562   Phuket           40\n",
            "4/1/2562   Phuket           39\n"
          ]
        }
      ]
    },
    {
      "cell_type": "markdown",
      "source": [
        "Problem 6"
      ],
      "metadata": {
        "id": "UCiHiMvNkj9o"
      }
    },
    {
      "cell_type": "code",
      "source": [
        "import matplotlib.pyplot as plt\n",
        "\n",
        "plt.title('Temperature of Bangkok and Phuket')\n",
        "plt.xlabel('Day')\n",
        "plt.ylabel('Temperature')\n",
        "plt.plot(dataSelect1['Day'],dataSelect1['Temperature'],label = \"Bangkok\",color = '#000CFF',linestyle = 'dashdot')\n",
        "plt.plot(dataSelect2['Day'],dataSelect2['Temperature'],label = 'Phuket',color = '#00FFBD',linestyle = 'dashed')\n",
        "plt.legend(loc='lower left')\n",
        "\n",
        "plt.show"
      ],
      "metadata": {
        "colab": {
          "base_uri": "https://localhost:8080/",
          "height": 312
        },
        "id": "vOUbOI9pkpBx",
        "outputId": "d69476f6-08f6-4ec6-abc0-95e8053e1b84"
      },
      "execution_count": 81,
      "outputs": [
        {
          "output_type": "execute_result",
          "data": {
            "text/plain": [
              "<function matplotlib.pyplot.show(*args, **kw)>"
            ]
          },
          "metadata": {},
          "execution_count": 81
        },
        {
          "output_type": "display_data",
          "data": {
            "text/plain": [
              "<Figure size 432x288 with 1 Axes>"
            ],
            "image/png": "[encoded data removed]"
          },
          "metadata": {
            "needs_background": "light"
          }
        }
      ]
    }
  ]
}
