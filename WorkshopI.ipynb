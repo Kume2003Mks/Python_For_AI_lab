{
  "cells": [
    {
      "cell_type": "markdown",
      "metadata": {
        "id": "T5WqLn5QWk5T"
      },
      
    },
    {
      "cell_type": "markdown",
      "metadata": {
        "id": "JSXCgyTuEYGG"
      },
      "source": [
        "**Problem 1**\n",
        "\n",
        "---\n",
        "\n",
        "\n",
        "1. นาย A ต้องการกดเงิน xxxx บาท ผ่านตู้ ATM ซึ่งบรรจุเฉพาะธนบัตร 500 บาท และเหรียญ 1 บาท\n",
        "\n",
        "จงเขียนโปรแกรมเพื่อควบคุมตู้ ATM นี้ ให้สามารถแลกธนบัตรได้ถูกต้อง และครบถ้วน โดยให้แสดงผลลัพธ์เป็นจำนวนธนบัตร หรือเหรียญทั้งหมดที่แลกได้ โดยต้องทอนธนบัตรใหญ่ที่สุดก่อนเสมอ \n",
        "\n",
        "Input : จำนวนเงินที่นาย A ต้องการกด\n",
        "\n",
        "Output : \"ธนบัตร 500 จำนวน xx ใบ และเหรียญ 1 บาท จำนวน xx ใบ\"\n",
        "\n",
        "(Hint: Mod(%)(การหารเหลือเศษ)) \n",
        "\n",
        "(Hint2 : print(\"value = %d %d\", % (var1,var2))\n",
        "\n",
        "(1 คะแนน)"
      ]
    },
    {
      "cell_type": "code",
      "execution_count": 1,
      "metadata": {
        "id": "6KI7_TPmDdWc"
      },
      "outputs": [],
      "source": [
        "############################################################\n",
        "#                      Answer: Problem 1                   #\n",
        "############################################################\n",
        "\n",
        "price = input()\n",
        "price = float(price)\n",
        "\n",
        "var1 = price/500 \n",
        "var2 = price%500\n",
        "\n",
        "print (\"ธนบัตร 500 จำนวน %d ใบ และเหรียญ 1 บาท จำนวน %d เหรียญ\" %(var1,var2))"
      ]
    },
    {
      "cell_type": "markdown",
      "metadata": {
        "id": "OBoxKa1SWUq8"
      },
      "source": [
        "**Problem 2**\n",
        "\n",
        "---\n",
        "\n",
        "\n",
        "2.   นาย B ต้องการซื้อผลไม้ในตลาด โดยมีรายการซื้อของดังนี้ มะม่วง 1 กิโลกรัม \n",
        "ส้ม 2 กิโลกรัม และฝรั่ง 3 กิโลกรัม ซึ่งมี่ราคา 70, 60, 40 บาทต่อกิโลกรัม ตามลำดับ ถ้านาย B มีเงินอยู่ 200 บาท จะมีเงินพอซื้อของทั้งหมดหรือไม่  จงแสดงผลลัพธ์ว่าต้องได้รับเงินทอน หรือยังขาดเงินอยู่เท่าใด\n",
        "\n",
        "Input: ชนิดผลไม้, จำนวนผลไม้, ราคาของผลไม้ และจำนวนเงินของนาย B\n",
        "\n",
        "Output: \n",
        "\n",
        "\"ราคาสินค้าทั้งหมด xx บาท\"\n",
        "\n",
        "\"นาย B ขาดเงินอยู่ xx บาท\" หรือ \"นาย B ได้รับเงินทอน xx บาท\"\n",
        "\n",
        "(Hint : list[] และ if-else)\n",
        "\n",
        "(1 คะแนน)"
      ]
    },
    {
      "cell_type": "code",
      "execution_count": 1,
      "metadata": {
        "colab": {
          "base_uri": "https://localhost:8080/"
        },
        "id": "tjLYCe8xdp1l",
        "outputId": "7709ac4f-12b8-4772-acd6-3b4f7aeb92cc"
      },
      "outputs": [
        {
          "name": "stdout",
          "output_type": "stream",
          "text": [
            "ราคาสินค้าทั้งหมด 310 บาท\n",
            "นาย B ได้รับเงินทอน 1690 บาท\n"
          ]
        }
      ],
      "source": [
        "############################################################\n",
        "#                      Answer: Problem 2                   #\n",
        "############################################################\n",
        "\n",
        "fruit = [\"มะม่วง\", \"ส้ม\", \"ฝรั่ง\"]\n",
        "weight = [1,2,3]\n",
        "price = [70,60,40]\n",
        "B_money = 2000\n",
        "\n",
        "price = (weight[0]*price[0]) + (weight[1]*price[1]) + (weight[2]*price[2])\n",
        "\n",
        "print (\"ราคาสินค้าทั้งหมด %d บาท\" %(price))\n",
        "\n",
        "if price > B_money:\n",
        "  price = price -  B_money\n",
        "  print (\"นาย B ขาดเงินอยู่ %d บาท\"%(price))\n",
        "elif price < B_money:\n",
        "  price = B_money - price \n",
        "  print (\"นาย B ได้รับเงินทอน %d บาท\"%(price))"
      ]
    },
    {
      "cell_type": "markdown",
      "metadata": {
        "id": "-iP0LHXuA2nj"
      },
      "source": [
        "**Problem 3**\n",
        "\n",
        "---\n",
        "จงสร้าง Dictionary ที่เหมาะสม ชื่อ dict1 เพื่อเก็บข้อมูลของนักศึกษา ดังนี้\n",
        "*   B5601: 80, B5602: 75, B5603: 90, B5604: 80, B5605: 75, B5606: 101\n",
        "*   โดยข้อมูลที่มีคะแนนเท่ากัน ต้องมี Key เดียวกัน\n",
        "\n",
        "เนื่องจากมีคะแนนผิดพลาดของ B5603 ต้องลดลง 5 คะแนน และรหัส B5606 ไม่ใช่นักศึกษา\n",
        "พิมพ์เกินมา ต้องลบทิ้ง\n",
        "*   จง Backup ข้อมูลเป็นอีกชุดหนึ่ง เพื่อเก็บข้อมูลเก่าไว้ชื่อ dict2\n",
        "*   และแก้ไข dict1 ให้ถูกต้อง \n",
        "\n",
        "แสดงผลข้อมูลดังนี้\n",
        "*   Dict2\n",
        "*   Dict1 หลังแก้ไขข้อผิดพลาด"
      ]
    },
    {
      "cell_type": "code",
      "execution_count": null,
      "metadata": {
        "colab": {
          "base_uri": "https://localhost:8080/"
        },
        "id": "yynnQndWA0d3",
        "outputId": "8a7127cb-6330-4749-bca7-9fc97ec2dc2b"
      },
      "outputs": [
        {
          "name": "stdout",
          "output_type": "stream",
          "text": [
            "{('B5601', 'B5604'): '80', ('B5602', 'B5605'): '75', 'B5603': '90', 'B5606': '101'}\n",
            "{('B5601', 'B5604'): '80', ('B5602', 'B5605'): '75', 'B5603': 85}\n"
          ]
        }
      ],
      "source": [
        "############################################################\n",
        "#                      Answer: Problem 3                   #\n",
        "############################################################\n",
        "\n",
        "# Create dictionary (dict1)\n",
        "dict1 = {('B5601','B5604'):'80',('B5602','B5605'):'75','B5603':'90','B5606':'101'}\n",
        "\n",
        "# Backup dictionary (dict1 -> dict2)\n",
        "dict2 = dict1.copy()\n",
        "print(dict2)\n",
        "\n",
        "# Revise a score of B5603 and delete B5606\n",
        "dict1['B5603'] = int(dict1['B5603']) - 5\n",
        "del dict1['B5606']\n",
        "\n",
        "# Show dict1 after revision\n",
        "print(dict1)\n"
      ]
    },
    {
      "cell_type": "markdown",
      "metadata": {
        "id": "muyefFPKdodR"
      },
      "source": [
        "**Problem 4**\n",
        "\n",
        "---\n",
        "\n",
        "4. นาย C จะต้องจัดเก็บประวัติลูกค้า โดยมีข้อมูลสำคัญที่ต้องจัดเก็บ คือ ชื่อ วันเดือนปีเกิด และเบอร์โทรศัพท์ โดยมีรายการลูกค้าดังนี้\n",
        "*   นาย A, 11/04/1988, 0861112222 \n",
        "*   นาย B, 25/01/2000, 0893334422\n",
        "*   นาย C, 08/11/1992, 0820400202\n",
        "\n",
        "ทั้งนี้ข้อมูลดังกล่าว ต้องสามารถแสดงผลในรูปแบบตาราง เช่น\n",
        "\n",
        "![Workshop1_3.png](data:image/png;base64,iVBORw0KGgoAAAANSUhEUgAAAV8AAACtCAYAAAAXmHwnAAAAAXNSR0IArs4c6QAAAARnQU1BAACxjwv8YQUAAAAJcEhZcwAAEnQAABJ0Ad5mH3gAAP+lSURBVHhe7P0HmFXFti4M7+9+937nnnP2OTsbgM65gSbnnMSEmaBizggiiDlnUcw5J8w5KyomVERRMZFzppvOOb3/+44xa63VgHur7H30ef4uHb3mrDBq5BpVc67F7/Brl+YEiJUmQkMLaGadwzZDmhvR1NRgvarRyM96+9vERmu3Inz+2Wy41PufVIQ6oDfc9RE4rf4nlES+oqJ26+P1+tuoW9U1sb+1+yS6rIvA6gix4eqigQJdW/8mu20OOJrrvbPabZBKLS+r+WmDEoruRQ3HxPhxfAEMheHWRfhIHON6C3131D9+qzG1hIiOqMHnFU7VE2L1Don1ug+0WUmo836aw/vH63/FIiJETgKdAl0HOu3G2iXHuCzDuGAbcfASDYtBvGzTP6HDtv0l90azD8otEMcxdm8Q9PJLi+vWIZqbf8L8cVuSXex4LvVtIbfAGotk5uMIhpz/C9QY4Xb7igY1R32tLgGn/pj/CI+3t5hzByXgtaFe5SVUEH47wbdFiYSRAAk0t4DQrh4uEAZe/m1UNTvE+4USBPxPKoFEK8GQ4sYUn1ydwtyxAQnF21qMM4WHCpeBeolPw5EYfPVHaNVo6NWW4KxRf2uLDVKf+GKxfVFdoFm0xeeLoYhdhJLYv+WYHZV4m8ZEwTFhgF8GOuJt8S5qE8TrtgUvAYcXp8vH/WpFxIkEI3IHDh0YIIjWFsE3oS0ugzg/ic3WJVYS+ybCtv1UNJ/rMd5NcnP9hnE7VxzxjulVW5jrx+dT/xZyibo5njCWRRUBrC4EXxUOsoXM51Hd9rJm2zbBNxq8XQn2FYbGSgzXbyH4xooYT4SEksBBnHZnrlEBSMuZssQmd15jmf83Uk4xIaloYKQMx/FPKC0QxQW+neIssGgFdxpDn1g/1rly9RmB6lgS+8ZLaE+AMFcA8inncQeKSqxNNKhtWzpYQp+EvkFufs0Sa4tKrJ9DovH9aEloVGBRf6uLcJl+w63NTdlFY2LdNMaAJVQSArXWZvJs0ez1ifz8WiVGUFxeTl9Uogpviy9m9ifALy7C5YtvTA6JeAn6cB2oPUFWif1iZZs+25UdtG+DYzu0iRWxyoTb6MKbiDsEyGiaeHJhNwkkuDzd7lj0xy68QwufCG0WeF1Wod2KdfqZhWN+5eAbJCGmAphkvMSYjkP8UkJzwTXUUSBKdZskdDkohcpLayOYkGIDfT5dxoS3MyXgjUpsmgi8aE4FXm3vXXlqCwr0fqI/gm0C73a4rD26Ng6FU58ssc7e1sg2D8DxuRxUt3197ELDA1iD8AtYEfoE+CllR/0Sxgc6EucL+vUu4lGQiEqdvcT6ReMdn24S6I0+/DJq+7VLjKBATxQMQoluvJvb/D+rOL5tgm/4jNG1g7lDW9QeL05/HFdiSWyL2jU+dusXYZ4Y+nARq/CPYLP+JyCJfCEEX7btMPjajX8EiF84rmCPLdviPhCrUold/IzCMb+B4CvFh4wwcu5QAocBdlAaGjhGbSYXiqu+gp9VVlUTVUuILfG4gq1+p4srq0VJnMvmExWJfLJ/rC0qLfr7R0z5KroIU/Ha23UTcOszEW/c6ITHIW5UAWLdVcJNNEfs04puIgj9EvqEW/8TfSbUW7X9CXhYYg1xWuJ1CVmeFecz1mwlwsOiuhgOlSgDivWPXWgB1DlmdPsvLmGeHYEVu4hkuoPSou+PlB22h4E/giBeFdeHd5WMXW7+x+UYNUZ1CZcJdY4nskOVHbYFYFFbbHpvT8zubWi4sBvvrMuW9iJ88gFCtMtJ7G8lVpdQtqsL/VvOEe8Sx7fjem/7aaXptxh8f2IJnEdSMPkr+y1eg337dsa7H8wDw7BhtK5RP7/x4CvY+bIDoYd5VB3NFzcsURT1j7URwpioSPHxYMJ2ZcSW3VuF1fuWSfginAEHQfXhuCE8ZAhGLbwmLoIXjU0EVkWQcGlgZdtKQrj0P9FnQn2o9gvO8Q9KTD+xwc5nkIvjUF28S6yrjZMjRvyrKnah4Fvtt3b/ry1h2h2BFbsQL9vKJNS5zlRiYxJKC1yJJTT8SIdYVUIf/4gv2oJYUBMpscodZIZW1CmyRZVYf5XQluDnanMWoz+u49iwxPH26biDHVuxPhqrGELQveGLhlh7uNFH5IOJ9dYW5tenI1B1nM+oPuofGxbrH+CnFO/7Gwm+gh8jXAIJfRKEFnhtoigbqAzVKThVbcRB/Tvh1Xc/QTGrNNoK211YoQQEO1dCkGiBO5E+Mwxv395g1RYUzqK6ALHL0If8RxlI1MwS5mYfVfpUdq15NMr66k8isKhNwdkNVhDwByTeNeDx/l7nJdQKovnjjfH7xLrtSkR7GB99tJhHzXbjfdUm8AY5UrSDUZ8WgyKbCfUE/3DnC9X/qhLw/z2wYheiN0Ao0X3UUR9BLrGxLOE+sa5FZSJEpUVVdGH+Y6A5I50aRHJMoC3WNfHG2ndgD9amovqAS9dRaTE+AEvCeGu2+jA2YQ5V81PHa80JwTduJyyOwMp2wTca77e6iSAao5nqeB/DldDsXVQR0dOywcu291a872/ggVtE9A6L6iXwaFWz64jBhGG6NeE01gGV67FPn/Z4dfZclLJKYlEJMojLIQHBTpTt8CZW/N3z21Afb09ojJUWBhH6JZTYEP0JXXgtvgPvLdqiduFVhhPPGNi7RfD1wCYc4fU2XYcAENdLpJNtizoFsBLwhhKfw66jvvoIjmNDE4a1qE8YrzorEQ5vE10E3Ufow1jnPer6LyoB/98DKyLVbjwoOG3OmzVG7c6n8xobG13oI1anEiq2hajssCl2I2El2oFDoCtxjCB+oX6iOaK7RScV1Uc6sWsvLbokjokq9eE8SzZhvPRKsGc83kmWGHsFk/9rBru3EtFjRS2EMEc0XpexZwQJ/R2P+4FVRf29hP5qTRgXa2fZ9t6Kj/kNBN+/V5qY2LqDNzZED6vsgZoz2UytiC8pp6FJf9m3vpB9KlDFuzLVExQD9dnCcIOw9FcdWPTWRLhWsbco/kFRjxY4EyvCtRmEQAQ7ftEjMwqvxDktqnUjq6/3rZ8N44VotyJ5NNVYm/eOhkdFMlHRh8YZWj2Q1KcqhJCLVHOTh1PD0yi+ecHSLINWfVMkdw4UnWGuIMNmM232aXY89tYJr2Li805WXKYCYpDTGCava0ocH41Rf/WQ0UfdYjLQO91WEfXTENO9Loy/6FNUC3fUprEa6XaiTqzWhOrK+8ZG1Ud1LEKhqwDbl4iwbUrimADSsT4NZ4Q/ZlsxNNQ55elHSaogteF1HY3jvd5hl1UYB2ImoIg+VSQTk7fqImgmAdvassaIrgi9V5hfSR+UHW3CGm0y/U+NU3fqG8bVRzoPpdmMj41RMVGzQ6L+PYB6H8NFqOeF4dGfIHjr4wtOLed1uYhpjm+oYJOgkuDv9JezRWD0N9ZaMFbEMIoafc5g27K5QFsMYh+B1jC/22Gse7AZe7OKuCLcKi57u4w6++X2RZ1+C8E3ENmC0Djzgro6PTpzgtHgQcHBnVaCmTxlIg4dMwpvvvAQ0pL+ilc//NyCb52GEbf6BAFaCUrWxzaGqXt7kPcTSoSCJaLPPuPzWaM0UktTEO22eITHPt6utzVkgLWct77RHxP6MI7TBUsdkdmlDK+52gKmZtMcYkXjPQj5mJhB17NORmfAueu4LEWBVc5TzmrNKJer5bXLQpjpaOwnhwpmr7n06S4nGhXEGTDUL6qtr/OJ5fC+EjCQmqFSTw2aSXPXJBhtLdeGSptfuI028mf06N5RGD+61E1zvVp5xTqflTYi+RrvDr5Y0zkoQ+vBao33gNGEqirKQQ22gjtmFfFvTsQ2a45g+yLaBS1L4pgAddRBuFbRHAr2JiORKxJIaz25FiXq11QnfiiRSExaAmspt6CHRIRSWSPtwVS3bUmo05w6olNRXzXJZhqlCzt2ksRraVucWwKjmKkKT4RJgY6p7IhPvUiEtBDQy19C8HX+vEVovPhCGxZP459XupPdW2/9MaDN1Lv+dMofMs+6BtIo+7CguxWrvpuDIX27o3O33nj100Xm7wq+X33xMbK6DMCKQvLGqsYGMaIrYtN44lMJ7qI5bYEy2ljPz9p6JThuKwK1GC72V2Jk8pKc1E76fYHxIhkFP9hxUd/fwrFDEHisiE1BxExoF5hHsK1Rj9IqUFi4EudfeB5y2ucjJTMJ/fp1woVnnozMjGS89NFXKGT3+ki49cwi5HgSpZVE79KHDEAWGZXE679XYihEl3mKB06pWMapaSDjrq/Ayw/cjs5p7TB2zCFYVVJtQQ8N5bjhyotw8lmXoiSMCYq06KKxlVxkZIaqj89hxkCopUVodhkJIzmR6IGSv2JmtJmV0VDqaZ4Vhdinb1ecMW0iLr/5ZiR1HoJPl1ZY1iCahcejAa8MiJNIEsURk1Vk0E6PwPtaf1mptYleQbgnbebRqmJ9cxleeeUZ/CW9B954/yvcNf0sdEn7D2QVdMMaCsQSUvatrdcbLBwvNJpGc/DS/pAOXx4kK0q1Xg5KekiD5CmQ3yog6Cs4/j1CFuEyJB4MQvar8s8KvgGPijmtGYQYkIx5SWhq8ECk2SN2WUijsrioj2Qr/ddxvIlW1bowfF6Czcp+LBjbne6ji4SSGCx4x/8Z0BpKOGstqhqrsHndarzz8ksY2rc3sulPqWm7IzWjHTIzM7F72xxkd9wL64s4hJO0xBWnI8hTn94n3i8E37CoGk/ixVJS2Yuy7HrS45qNycVskv5fux4XnXEUZj50Jz789HOMOvJ0bKTqq2vKcdDBo3DW1TdbMI5Na1FW2q9HVQ15JbKgAusT+a8tIryKzccxWghCXWQ5HEQbpu8qiaita8Cq1Wsx6+130bffABxz7PEm/7DQbV+cqN9Y8HUBJbDoulC70xsJqRKbN3yPwQM74Y47b4lWqXp8880nGNgzD8lJu+Pp97/EVvbUcI1vsSWiku02Nq+XbQPutvfbFrUGcKOQ0chJPJDZGqtGrbabVmHPztnYsvgbXHXl5bh15rP2NsYP8+egb5d8vPnJV0avAoWVgNgClDJLZUYMwFFGpyYtLCGrklT0Gfo3MbTbV0MbZGi1WLP0e5xx8rHomrI7ClJ2w557D8JxU6bgr/lD8MHiKjsfLyfhLi8FCWLUq3syIKOj5epudQTPZJRh6tOLrfoqZt3iiNlxdGxUuGU9rrziEvTu2QtZackYve8AXHzBmfhjah+89sECPHrDGeiW/P8gp0s/rFE8MDSalzzrqESXIitGq0C9uEA1lqKmZCvuuP4G9O/ZE1lZWdjn4NGY88VX1lfq1Ba2zjI8VQTc0VY9oUhvhjqC7YuP27YkjmkBnDxug4QEe1S7xR2Crj24KhPTzkK8+eJgtVEfu47aDIgv8KD2AKF/S/Z8jO0+1Kj7xq34aPYz6NW/B9rQRs4+7SRMO+U4pLbdDWmpCr7tkJ6ZhqTkVCSnFyCzgMFXiyNHh+C6vb/4PCphJxkyYhUlQroTxOtdz9pVKVAafoJ2ft6ZeJRE1G/GtRdPog3thnapGRh7/DR8tXQzxowbi2OOOxYbGIiVUJjYRALHaeelRUxoEmWl3bPvBt0urI6g3aU9RyIdqpNZm4drbEMZvnjvdfTs0Q1p6Tk4fcpZuOHGW/H5F1/buH8QOlh+Ew/cEosEEiAqZEKyMRmYAih8rjgXnHUycjN3Q0ry7sjITKFR7Ias9N3RIfWvSE1pi2c+/gGb2V0rK+pcgDaW0byJy7WqBVJ6MGwVGVBMMf9AggGH9RJuQaRczSgwh+Mq2bhpOQ4Z2I2Brw2S2rbDbY+9gGfe/QzdevfHww8/bE5i7HG8nEoOKDyWLbHo+MTnUdZYa9s+zWay4hz1vPHx+mxgfilDY3hvLMLqL99Ht4L2eOHFl20HoK3XrDeeR/uOHdC2w2DMXVZjhloZ5rAALoSsUJ2d3XhxWamemaKy7IjfRq4EkmushEvhskOWCqxfvxQDBgzAHbffg5oqGjoD4cL5H6Bf7274W3ZvvPL2J5h53ST0Tv3fSMnvj+UkSu5gW8XwrRl9ck5RocXHAxXnaNyIko3fYWCfQbjlpvtRU0PnZeD/8qtP0bNvH9zx4Itx/uTUpD0ENuMh0nWQt+7qoy22t2xbfNy2JfRPHGcysxv2J/3Nys4pXwUZ6V26TByUSENsHnWUMfNTC0bY/kuG4fxe/SzIq5oQskq1uJxU2Ef95VAK2IZEst2E+++8GC+9+AymnD4R6xfOwxknHkGf6oinnn6H8zmuEKKkUdONZZSR7vV/xIuOCv181+kK9hzANRiNjY6gZPc6ovIsXyOJgZ3Nhwk+B/Ep62wqQ23pWkyddBJy8/Owe3oeRuw3Fq+9+S6qGSW1qxSNGmp/dORnyREv6fMhw7VjF/NbccOEhbpSvYH98aAtOamXQLSiqQQP3HIVXn7xJZwy8QwsWrrGdgEaosRAny7bHy+/geDrCojD9sVioXEjrihAZS5NeqTG7YCtWKrjdVURThl/CDLTMzB0/CSsZYsJS8avINBElUSOoPqaSEgy2MQz3n8UdENRL6KwT0dEQqOhqqdp8y/p4yqJxjKsYiDYf/hQ5GYzO2/fHcdOvRhffL/MlSS+6ittuCjx8Y7OsgLrI/zilQbBW21BPUjSYHgpI9VYZXfKkxXwULkaJx04HBnJ6WiT1h5tM9sjKT0Lmcpk0lKQlt8Hny8qNGMVTgqJIFnROe2M2uf2+ezS+1hGK1r84WCMXpMdHVznstrr87q+oYp9inHlZeciPakNMlMykJ2Vj/TUNGSn/I10tEOb7K5445338dQNp6Nrm98hs/MeWESxMfllET3ik06pIB/RY/RqOtlDwxpcd8lE8pmJ1OQOyMrOR1pGKhfmdsyMUpDTbRhWbqGjiT0LGJJU/IHJtjrfNlhsX4RD0LIkjkkc11DP3YhlmprX5abxTgULOzfpwajVU79kTkFZPGpnZ1OJqGhhFG7jXw12PFHvizYHBvkEexCov8J1eOhkNPjMFlyAEjTXbMQLzzyL+XM+pnNsxF4DOiEpKQfJaV2RnpKPgoKeuOKGe7CVw8o5rY+WDCl/TeCT+Gc0hzLY2lrftgu0rvi1qHG6zc7sWY7LozbCLRAf7h/qSjrVn/purqFxWCJCC+FCYuMIslFdC7vGGh6NN8I4NvJ/tcmCRYd6aWfpNHmxHVE0r0qQpxXaMxpL0FS6Ec899wLmfbnQ5lCfMETgC9OPl185+DrjDk5oIDyUBnsARaFptZN4g7KqI4Nk52ZtaSmM+k0rMLx3bxpLLs649h5s0Ughs2n0oIn9FBBYV8kphVnnpaFsmwEn3u+oCLUoj/UKc+nTHExzMn1j4DVDMceh0vlRzX4yFo0P2bHaA11l3GcJrytQPBMP+2jBCOPMkfUwknU1xKtxho/QpPl06tVQxOEVVidj0ylCZH8GxOzn4iweiASaQdj8oZzGBXpFk7+hIKMvNdyssbdLStjHYy+p0Ll8UyWqOZkwaVwwWjRW2oIqmkVxXT2Ds66ZFc68biI6J/9/SGo/Ais5UFxYcNHTbc4lPEaPEU2wlEy9trKf3nQh/aJDomFnub1aRYPGaR6fltxo4bZgKFz8G+14bAutz6iv9d+uRPNvU0L/AHEbivor41SwIp0665UMRJdnjKyv30KSyql31kdtFmplpwqSdTqcqkSNTIJXvvuQZhjoDInPmxh4VatsL+KKepY0NJeOpDg+8gkjMQyq3oC9BndCalYaktLS0T61DbJSk/DnlE647alZpm+doFoAlc2E8ZxMZGi34jYo2rTbIunsKvvwIyN1Jh06a6Y9WGLEOk0tjBVEqU/1db2wQpo0GxIi3krX3Nldx0U9Oa07uvQ/CJvLdWRBLLIXylNYid3wNtawroF39dWo5nifkYGb8we2zd+iAC/bkA2oXvKUHJvqaPPNsmECaVF355D0Rn10LfIEXkR/gHj5DQVfwY6IlhAk8DLMnfM2DjlgFPIyMlCQno3jjzwWy1Zv9P4V63H5xCOR2jYNOZ0HYe7Szf7qCcvapYtx49VXYOz++yI3hdkQoXP3Hjhh0mR8ueAHM2Th0DYzlJZ0eGlJl5fQz9piN0SooEv4itnuuedNQ+/uXThvO3TIzcIJJ56Mb5ZtMAPmhoZ/6zHnrTcwrFcfdCrojutuuccMRvSbkXKLddEpY9A5fVeMOvQkbJTNsa2pciv255a6fbsMnDTtitgDOyemjPFvDZ5+8G7sM2IEjTMfqekF6N2tL7dqZ+DbRSvM+CR1M246QXPlFrz52vOYcOoJ6Nqtox3nZGSlYuQ+e3Pb/ji2coAMzTIRGuG8d17C8L6d0alTJ1x060w7s/YgSgKr1uKi045Eu5w8jDz8WJTUyGHq8PmbL2GP7p3RpVN3PPTECxYYhVP8yAEfv4HBN/XfkdxhJJbSV0SjnO6+689Bh+Q/Ia/DAKyn/Vv/Zraa85ajeMtKXHzhFAzo3RVp7XZHbnomDh13BGa+8BqKyKTwaB45iPFLGhd9NQ+TJ52GjgWdkZqazGw8DYfQRh5+8CFUkQXJ0kQZFV0H8BK3g1CZ2Cf0C8czBgr6dOz3XnkCeWnJSMntha+WFjIosTf5+OT9VzG8fx90zu+Jhx5+xZ4LCAwZA8ojt5yPvKQ/oGOXAdisbxHJ1hiQP/pwNs44+yz0GzQQbVOSmfWnY9DgoZh+7Q3YwI6iQLy7P1XaM4AzT5+ELh07ICMtE2mpufzshLSkAnTK64baso2cr5iWqZH1KPphLvq2z8RfsnvgiHNvMJrsWKG5DCt++Bx77zUSmdzNTD3zIlQzsjnvkngpnnz8HuRn5mLc6KOxcWudYWxUwG0ux1MP0T6HD+RuiDuxdO7OuCtql1WApMzuuO2exyM8Crql+Hj2qzju2KORQ5tKT0pDZ/rSyeP3Rf9eXdAmcwDuemKO2xLlOPetlzG8Zzfk5hVg+i13o4SGqeWnqXAlRvQqwANPvmQ8/PDDPO6U/8Y58/HKu59YHy1Krz37HLrmdTA7ferZV+zhnXBbUC9ZgWnHj0VeZiquufFu81XjScDhojlATO8xCPW/hWMHo0REaYvi26lAnOpM8HUleOyuW7j6tkNyUlvkcDvZse2uyGMQTes+AvOXbsAlp4xF993/L9JyeuCJtxZETtuEkjWLMbhbPgNfMsem08Cykcntbk7qbshJZ116R9z14AsmPG13wvwKSubgUVGd34tWtoaOkUxtwaQD2XmatkJNW7BkwYd0hHSk53VBenIK8rm9zkn6E9IzkpDUbQhemr+YBlCHirpC7DVobyz8+Ft8+vJzdMoU3PHsB3ZmLbpQtxHXTDgAXdv9AXuMmYT1Vk8aqjfi4G490SOlA4444xo7ZlFAl8xKVs7FXr2zkcb5k9I6Ii2zI7f5Geicshvyk3ZFSlYXzLjvWQvwym7RuAEP3XAW+7XF7llZlEsWstJSkZe6qz/UoIMO2nc0lhU3olZ8l5RhdJ8e+P6zd/HqrDfxn9lDcMcrC1Bm0Zz8167EJRNG42/ZHTHwsBNQymyvrrYSe/TdE4s++Q4fvf4c0tJ2xcxZH9sOxQ27Eo/dOMHedkhtPxLLaecKzlpIHr9xEjq1+T/Izh+BtQy+njW7nJd98Q665uciNTkDGTnkOb0dcpP/ZsGtTUYHjD7xLKzhBPHFrAoPXX812rdta0EnKVNvyyQjg7x2SKJdJKeh1/BDsGxrdDLJQJ24jZVVWjEaEg3Aq8wJCdZs9W7X+mtBlg782Sv3omPSfyMptz8+WVRKnLVMbAu5mA3DD599i09eeQE5KUl4dNY8bOJYkw8D3ePXT0b3lN8jK38gNisiENf7rzxkRyy7csFpl8PglUE7y0xCLjPV7NR09OgxCJ/+UOi20VSIomUfo39BATLb5diCvGsyZZeRazvGNqmsZ+AvriwnvRGn1VRE2WocxIX2P9K6YNz5N7t/Sc/VK3HZ6ePw8CP3YOGaDUgvGIgLr7rT+Jc1rljyLnp2+BM6t2tLneThitsfs4e7OjO9+ZLT7WFeUnouP7NoDxmWZbfL0BluF9z+wBPMRMXkFlx25vHITtoFqbTjlIwC6mh3dEz7mx1bJWXlIqv/4fiGmzw9pqut3Ew7G44fPvkac15+nAvxX3Hn089bAP34rafQPuVP2H/8REtWfvj2fcaB3+NvmXl4/v151BB9Z9MqDOk9Cqu/L8SLj96P9vlZeOHzxfaNWe2+XrntMnRlwE5NT8Eu7fvjzS/Xu5/aVkn6jh/9sNL07zsst4NgG7+N4CuajTA3YAMrDMjc2jbRKPcd0BOL5n2Gd2a9h6MOH4+a9Uu5LeqHf0/vjesfegEoWojj9+mFPyd1wqgTLkaFcV6NqnXf4OyTxuH1l19BUUktqmQ1xF+85jscOmoIV9sODI798e3KreboGqZD/yCgQIs+XJguRKsQyD5VZf1IvypkMPWbmBF8homTz8L7DDa11ezUVI3S1V9gSL9O+ENmLxw8+QoGhCZsrdqEUcP2xcIP5mP+s4+hY3JbjD/nJqwhNtsQNW/CjFNGoTsznqHjTrf6Krljw2Yc3qM78v+cgsPPnGH1lu3XFeG8o/a2YJ2R0w33P/0u9HxLBrBx8Rc46qC90KYNs50OAzF7wSp37Lr1eO6+y3DlNRfjuxUrUVGpRYQ815ThmSfuQ24unTslDVOvvsedeHMJjh7SH4vmvoXXZr2O3+fvgdFn3RllafxbuRiXTzgEf6R8R550FgqZ8ZWUFeHAPQ7BNx98jrmvPcFFdDccdvbVtmgEZ370upPQKen/2NP0ZQqyqufW8vEZJ6F3+n8iLXs4VjDFNprFbckPOHhIezp2Ci644CqsLq70tvpi3HrVhUhNycRumV1x/eOzzOmb6YKLPp+FnulptmM44ODxWLJ2C7NC2lp9GWVwG506A39N7YkjpkxHlWTAcWYXBDnZ9sFXOnLbDf1i9mO7CiUWiWZSic9fvBVdk36PlLyh+GSp3mtuQGX5Bhw48gB8P+dLzHvuMbRPpnzOug6rOUTZlc5lH59+Erq3/TdkF4zAakUPynre20/irDOn4KO5n6OoqpSYGuyVqznvvY1uudQzZbDv0edjqybnYvXkrecgv00bdGSi8sGcb1FDEkWb+JK8fUfm9/Z8U6/uFS3DQd3z8afcvjj43Jt8UdQRQO1aTJ8yFjMfvgnfLl+GdgVDsfehp9lbOE0NRTj//GMw874rcXCPHkyYcnDYGVejkENL136LvbpxweMudsIZF6CGE9rrgGyT/sSv67gI77x8J9pzoVbStP/BRzKTL0dN8Wbz35zUXdA2Iwu/zxqGqTOeIO31qKnajIP3Oohy/AJfvfY48nb/Dxw77RwLnscdPx4XnX8W2vcaiXnfLMeSb95GbsZ/4c/ZnfDMh19zdC22bliBEb33xvpv1uOVB+9Aets/4epHXjG6q9avx2EDu+Llx27notGOSUcfPDt3lckrdqbfFH910C4s+HpbqNfnr3/sEK0IIsiIlS0LrEj9ZagqX4lRg3piwQcfYs7sL3DAPgehicZw+MF7mDHc9OjLHLyBW/NDmLX1wGAGqGKhlYk0beC+bSWuveIqJKV2Qvd++2HhEppz7XqubO8hR6st6x966SNbGSVEWwRY9HzPhWd3Vu9tMQK92D6cdRSw//K/zIYOpTM14WCT42J9/UpceeYJaJvWBwUDj8LGOq7UdL0l336GA7nA9N7lr8hrk4bx592CFRxiBli3AVefsDfa7/p77HH02VjCqipRWrsGh/ZqzyDL4HvGdVinrpRlTdES7JXXDt3btcO0S28xo7NjM3uwUonly79Fn44dkbpbBq6//zkP2JqpoQRLFy3AkMEDme2m4+qrp9v8yhbPO20cM8m/ov+oY7BOnkHn2vjFB9i7G3cRNMJ/yxqEQ86+3QNzPaNj9XJcPnE8/pLRGYPHT0GxxEPalnH7um//jui6y5+R3TYNYxlctGiIMp0TP339qczk/w1peQOxmvMYvuatdhzRpc3/RU6HvbAuyoibmPWt+eYt9Ej9T+Qm7W5HK7sXDMJHC4WRlJevxcFDexsvo45z50Pzesy86UxktUlGbnZ3LF232eaws+o6Gk1jGa668Cxm+r2QWrAPVpTaOyMWdGWl/tIfi+QpCBeRnUjNag+mEw++TbbD8LpKzH3uFgu+yZTbp0tqPZjx7w9ffYyRPTuh5+5/Q0FKNg6bdr0tThZ8m4sj+fwHUvIHYy0r7WEXs8jilcu4BR9vR0XHnjoBZfJ1Drn/pouRm7Y7du8yCt8phW4oxKVcyJU5pqVmIyOdu0Jmnj169cRJk6fg+9VbzR6kjxgPsuPS5Ti0TwGThh446JwbnR4ZdX0pqld/iWMP6ctAuit26TAEIw6bxGRjI9at+ATdBnTHqlWrMLpHb3Rrl41xU6djI4cu+e4TdE7+v9xtUG9cHDJSOnL73xkj9h2D+556Cdx0+DFJw1pcOnEsd23tme0PwPoNZIIxY+XipTh70qnYuGweDthvKP6a0RdDRp9uC2xNUxkWf/UR9ulVgC677oICLsyTzjwHny5dg5QegzF/+RZMmnwBLrvgAsaAdymH/8Yfc/rgyQ+Xur9xUfly1ivYs2MmeiT9hTvuZNzyyEuG+667HsFZEydg2YJ3kZ7xN/xnVnc8OWeJ268OuxOCr9mJLn6zwdcCrNZqJ8qoUrVdqlamvxVz39YZDoNT5wGYO/sTvP/iQ2iftSuSuw3H9xvpPlWrcf6pDL7ZvTB8/Fm2ytc3U1wNK/HGo9ehQ057fDxvOZ54eS4OHHcss+nVqN70JfoUcMuS1QkzHnnLVjYTIgnQwxAXXARGlGfndhsVXfv7luJD21N9BVQve0X9xJRQ6VNvaJCeh647j0bXj9ndQVhVquAr3Nwzla3CYb17In/3DBx6zvUWlKqFt6kIV0w4GAXc/g88bCqWs75O9TUrMbZnFrfju+O4aTdEGWQtKjZ9g33ykhh822D6nTOxil1PmDgVOTlZOO/S81DCrOHAPr3QKTkbx5xBZzBCG1BRuArDBw/AhBNPYmZRQqM+EK98MM8Cz4M3TeGi8H+Q1nEYVnsKSSK2MCqswj79e+D3uQNxyLm3erBsYofqFbj4lPHYJaMbBh1Kp2B/yQaNXPiqlmFMr+7cdufi0LNvND4rJIK6UjzJDLdr0v9CdsfBWMXV0JyBy+JTN01F17b/juz2Q7CCUdScn/i+fOdxdGn3b8houxu3n53xt/aD8Rl3MXU6W2WguXLCaNL9F+w5fho2ao7mNZh54+nMlLOR334A1m4pxVvvvYfOXXpgUL/++H7+h3jj5eeRktoDbbKG4FMyq2MRycBeheKn2akWXLNT/SFIHgS1tbBlZcSNegikL0i4Uyr4fvrcbVw0/sAtPull8LUFQPKRHVSuwdjePZCzazrGn3Wz6bVMA8nP4zNOQRfuDDI67kHbYZ1K3VaccvBoHDJkBCpLinDiqadh+t1PmuzmvPYAMtr8O3btMJIZNmvqyy2YZabuallnVkoGMpNTGYDaIikjDZndhxneKtksxxsfeshUtBiH9+mIv2R2x0FcEJSoWHBUtldHz6lfjnOnHIn/TO2CEeNPs6z3onOPw7lXXm7fnDy0Z3905WJ/xNk3GT8Lvp2LTpl/tNdDk5PbITs1E+lJGXb88TcuCNPve8aPluinV596BNoldcU+Y6airLoOV151EbPVFJx92gloLlmE22+4CLsldUMyF+b1tY2UpZYyypGL7wE9+6BT20xMnDQV5824gzuJGfZsYvabszC4IB0fvv6QHX/9OXcQnnxvhX3j07+QtA4Nq+dhZH46OrZph1vuftTk0m+PcXj/o7lY+NUsZGf8EX/KYfD9aFFkp7IDIqCzS272/MNAdQ4xmbL8Zh64iSAjKhBsH3raKEES9IS2lp8NDUysNmKv/h1McRfd/JBnbg0bcO6EsfhrVh/0HzvNspxGBe6GJbjk1AOQmZaLDz5bgRff+QYHHX4s6zeidN08DO2Sg3a7p2L6o++YUVjwEF32YCTuVCY80hOEF5Hob/9YjRxHYTd6XYYNlm0G0MrHDAW1KzDzhkuRvntvpGZya0MS/aEb26o3YFyPTiggPWG7aY8nmgpx3qljkJq0G4Yddi7WcnJurti4khlFLrehKTjljBuwhfUWlOtWY2zfXHTa7T9wyrTTcO3MR3HUtLOxiYa73/4HY+5b7+Dgbt3Rvk0mjjz3TnBvwDnKsfzr95CekYMjj5mA2vJKjD34EMz66AtmEg146NYzUJD+e+S0H47NjHz2skEdDbxkGUb16oD/zumHQ867GcUSiHipX4MLJozHblm9MXL82fawzmWkg7k1OLhrHjq1S7fjklWstWZmLE9cfzJ6pP1fpBPfBipDb1loAX7wqpPRO/2/kNuhN7NRP17xB3/r8PRtFyM7rwAdB+6HD75ZZ8u121IJrj5lf3RO+gOGjzkN601pm/DBi7chc7d2yEvvio8/nI8BAwZhwTfz8Nobz2L0mAPx/HOvMBvrjqScwfhgeaEFX8MXvblgaCyTET8ikKBKgj5i9mF1bIuCr6zH6puqMffFu9CNwTctpxfm/lBm/Mtu0LSZF2swpkcH08/h0241+Zhzk5/HbjwRXdP/HUm5w7HeInYDild9i+GdemL0sP1RXbQV5553AW6Z+aLJ4cNX7kPX7F3wt5xB+HAhFScC9NBIy1cjEehtkRouBu+9jOSMdvhLLjPAd75zWljsjFyYqOcxvTvaWeyhZ15nAcx8Rfjqqe+GZbjotNHYNbMj9jh0AuZ/+y269ijAnK+/gN6jPahrD3TalfxwMXG75tD6YuLXXoL4myjlmg046cixaMeMf8hh0e6VNvbgpWdzkeiHoftPwcy3P8LBxx2KmvIVOP3Ykfjglbtwzy1XWzKTlr8XVtY00DYYT5R4VRdidJ+e6EJdjxtzDDoO2Bf3vz7PFo6mwuUY1a0dzuHuLCUtFX/JGoBn313oehY9tN/adV9gnw456NYmCQ/e/xBuvP9x9D/wRBRR7Uu+eRd5mf+NP2d3wePvfRsPvnoDIwq+QYZ2ZfHDEzKf4zcRfH0rb3ZqdV5UF9pte6MDIXvZfis+e+sp5CX9yVbMVz5e4FkBlXf+5GPwp7S+GHzE+disYXLRJhrFKfshMyMPu6b3RL89x2HBUuWOJSjb8DWGdMpA++x8XPnQ27ZtjwVfCcsCMG8NXHgSnCDQGpp9y+EPZmJ1+rQBor2MieJCTDh8D2awbZmN9EGHDgcx+DbTDdSbCi9fg0O7d0DPpFQcNfUSe+D2+def4bRTxzNrTaJz5GDIAZOwhejq5Ty1DLL9etG4kpHUrgNGHHwkVhYXEls5rj/7aHTn9nT4vgNwwa3XY/Skycwka3HI6EMx7+3ZGM3g2zU5H6On3maLjuSxasEsZnyZSM7sjOy0HNx47Q1gvCa+Btxz4xTkcnufkTMUa+l5ch5/8rsMh9Ap/5rTA+POnWFB5IdvPsXUE0ajUxazqbQOdJqjzJFINgsdtXw5xjJgFzCjOPKMa2wbqrNVnZU/csMke9shJasf1lN9kroWhmdvPguddv9fSMvKRWaPEXh1zlLXw/oFGNk5Gbuk5uOyu54z/Ym2ar1nzHEKvt2T/4Q9uGOQfhu5LG9c+gF6ZjKjScrB/Xc8gP79B+LTeR/hpVefwTHHHYnnX3gFGWk9ka5v/zH4akekuSz4WsRnscDrNmEQKV0fRhfB69x+W+yYuAP69KV7mFH9ux2VpDCbv+Oht3wOvS5XvohBowAduE0/YuqNcflQdo/ccAo6pv072mYPxTpbgWq4Zi/EoA5dyU8+MtplYAq32HrDQ1/Ifu/F+5Hd5r/RrmA45q70Ly3orRP/ijftu64OLz98D3eA7ZCWsRt+n9YVz364xDirr2dotC9wUM9ly3BgjzzsntoZf+4wDANGH4PPl692mmUHdUvNz5S5jhx7Eg47bipOP/ci2oPeAy/GIT27o1tKPsZMmWHBVymVLEJnrPLTEu5CJ44fxoXyv+0ocMihZ5oP6x35r1+nv7fryF3CUIyfejFGn3Iy6mo24bSj9sTs52/DnddeiqzkAcjOH4VVNU0oJcZG+UfNZhxEf+q6W1vs3q4TOg8dx8yYc0sGjevw4BUnIbctbTojC39M7YXn318U6ZmBm4t09YavsG9BNrrs2gbnnXsxCvqPZHa8wHZdqxZ9xAXh32n3BVYXC76+xTU8hsuK6t1WTPxW96sHXyfEiZGk4+DBN0Zz1FEr9Up8+vpd9hReWdoLsz92RTYW45zJExh8+2Hw4efYytykNa5uCS499WBmmVnY97CTUEKJWJZFEZbIaAsYbNq0xTWPvG0ZoHDZS+eWqVrkiYrT01KorGW7umh9sAs5KInWj5X4O4Os0wOLmlW4Z/pkzLjhEqzZshU9ux2AnOwR2Ei7VcDQOZV+kW1cz47osevfcNgRx+LI005DcnZbpGQnY/joI7CGznbU8WfjxRffJFqGbG7t9uzWF/v1GoTSTctx1YzLMPWqGw3fRy8/gI7t/hdyOmbg7fnz0WngMOzKwHXkScejtqKE8/RCwS7cBp51m/HdzIxr6dev0hDT6GD5eHv2p57oie3GatzL4Jed+mdkdtoHa2ibVaYXmmHlagbffPwlNRv7HDcZJ02cam9VpKZlYfQhB6GqcCUmnHQkHntrjmUcWoRQsw6H9OrEYJGK46dcZrsUD+ZluPemachO+S+077kvVlGJ9oI855l5zenolfJvePWNF/HO/IXoOnw8iiWyVV9hROck/C2rO3X4VhSkVEh4fZkdO+Tv/gcMPWyaHW9oZ1BbuhTjh/dG593/gpumX47rrp/B7KcAmXSkj+a8jtdeeYKZVBcuAIPw8bIisyXZjN6jDb/CFlN8KNG1PoIpWLELCdFt2l/rq8EXsx5HQdJ/4s6778AiRtGOvcdgxSpqromzVS3HPr06IycpC8dOucrkY87NoPDgDacz8fgv5Pc4kAutKqtRvfE7DO7QngEqC/c+oIdOqhUV1fjk1ceJh8GnYC+8u6jaF7Ngl6Rl7bffYa+enVG48jPccOOl2DW7D56bvQiVHO7qZ0c9QC1fjAP65CG7yzDMW9eEaznPhHPOiYIO7aBiEa6cNNrO13el7Nrlj8DnSwtJQRk3rdqJdaUe0jD2TD9mMh8Uan2SqkvOnYx7rj0fjas+R/+ODODjz8UaI7MKVQyCAzukIi8lGbumdcRuub3RNqU9zp0ymYhW4qEbLkPqrj2Rlbc/1tGBC7moNMja6tfjsN4efHfJHIRzb3s52jGR6qYNWPfFy+iZ8TdkJCVh1/x+eOr9byI5k1/u0Ko2cGFvn4LO7ZKQlNkTww89DUUyK0pm6dezuHP6A3ajzeinDMx+Iz0LJGfJz0u8Xvw6z7+54BsibQKREd1+XWnG1yX1f9lDBGVpbbNymKmlIzelDVeiNPw1vT9GHnEmCi3Noia4Bb+YDqhvOel1kjbs3y49FRnpSfa6WfvkXZCdnoFrHnjFMk0Tfizwkh4nLlZaOJbojAiNvvVKFtgj9i0iVbAoyyAd918/DVffcBVWFlWiR6/9cMwx59pbGfoiZiNpba7dgoN7d7GzWr16k925C+5/7B488dJT2P+Ik+0Vq8OPOAWPP/4kR9QyOJbj/IlTsGePXti67ltccc15mHb1HcpTsPSbD9CJGaS/gpSLdjkdcTq3o6UNVaivKcWYvn1QsHs6jjnjOj92YIhZ/sM79ppWil69yiiwrCwz2WUrQ0tP3w3JeSOwhnbtwZLSKl2Ng3q3t9d9/prdGVn5nfHwI4/j2ZfewJgxY9BUugrHH3kQbnvmFX/FqLIIo/sVoGvbv9kbCm3SO3JR6Iy2GdlcTNtyF/JnJCX9BekFw7GW85gBU++fPX8veqX/F15/60W8/9V36DRoDMrIaM2qrzGiawb+mtkNVz7wqtEVe6+W2+qLTx5nO43hR5yBZSZrla245MRD0aPNH5CZ+jfymomCLkMxd95CtpVi9tvPckHORU7eYGZ3hbZo2KJs+owyXl1S75H6Y0XXLWzEMmUFXX9e4EG7Fos+fQM9cnfFXXffioWrt6BT77FYvpxhs3ILDuyXjYKUdsjk9rtNeifsllWAtpkZXBh3R+eMP3LXJPnsgbUWSSpRqa9Vd8pnQpKBNsk5aMPsU+9nZ6T8FTlt/oS8rGzskjvY3qqQVVpyFhG6ceEijGB2WLb5B9x44+Voy8A259stLkeSa3wo6WEgu+6cCUjP7Y7FjEAz7p+JSeefHw9WzCQvPOkg7o6SsXtKR5x99cMW6CwDZduBTCr0IPnIc262HUili8UmqK2uweUXnIX7brgcVSu+xDAuBkdMuiI6a+cMOqYamIf2SX9F38H7YbV2XhovVdQzg51xIWXV0zLf9VSWFp96LZkNa22H1Yk7w91ot298Vx7377pNnHgNjhs1iEE9CX9M78wM9itvNymVcWfMhalbFnLb7I422f3x+ry1Tjexr9Iraqn/jV24o352tj8X8aglpvRwVbyH4nWhh6Fg+c0EX89040ErkUg7O1WpZ/C96XwGFW4VUnZBVlaG/diHXpDP0oF9Wh7+ltYFex92CsqMcwqZAe3i045kIGmDtjlZaMMMuF16OrNOHfC3sXch09MzceODz1twcIFxHAOvf2feS5zOUEhULIOI6qNr9z7xIeuQ2yoclqBo3UIcecQ40pKNo048C+uL/GzIea5EY20R9hvUF9ltUzBg2P74fs0WtqutCuefdQZymemfduaFKKzW14dValFbuAZnnXI0simLA8cdiTV6D5ct3y/42N5O0JPsgq4D8cbsTyzwNNBM9A2qffv0QPt2KTh52iUeFGlsC7+ZjazMVMtak2lU6XRiPZDRe8fpKbtx95CBzA6DsCEEX6XG5dza9ethgbrHHgdg4Zp1qNGXH+iwl54zBR2yczFx8jQ7j7bAV7EVo/t2Q3673ZHJLDuFQbddZo595VlfDFCAT2Lgyeo6DOtC8NXPaNZuxTP33oC8ghxkd++Bdz9bbAtfzervMKJbDnZJL8D1j7xmdPlXxakILjQXTTzaFo89Dz3V3pcVDU3cYVw+6WguAH+xd8YnTpmGzVt19sjCQDLr9eeQl90JWTnd8e3SDahggwUjs0s9Sm2MqT5AKNvVRRlyg35LQuMtoskuC/Hh60+ib/9eSG/fFQ8/NdtO1lBbhoMGdmO2mkx7ZmIh+WRl2sOw9Ixk4yW9XbJloAo0+qKJdnD9GEBz9cM3ep+dyYQepqUyqGSkJ3NBpa3n9cNXC4vsG44iyXZqstX6Gjx7/x3omJuOHn1648V33U6sjaCnMfYgkAttc1khpk2eaPj3HH04vl9XaLZmX/FvKMS5XOg6MBEq6NoP364utiBoPlBdZG/ydKBdHX76lbEHmMIvOUo+W1d/j+PG7oWc9BRMO/Nc+6aa6NDcTTWF2I82lp+civ3GHW/HbjbOviq3AXfPOJ+209lev9tQpKxXqAutbT/aWoekTAza5xisIUJ9c9D55tLAXcaDN1zE4LsLY0M3PDHrM+fHCKvibnIpBnXJZGxph7HccZZoSoLOdZct0JtSf0Jybj5e5C7R53Tk9jVvoVBfK5rQQXWh/rcZfFkRq7fUMiJeRquv2TZQDBROo30lkUEy4lQPgbTtVK05izKgBq68daVs1gtd+mHm5ug3EdjBcLKZy5SELrCvg1rgdHE6sD4CJ0oXopNtao7QWXW4MOvQGbC+KiovEXa9S2qmbfSJVnVt0E/cWZAm6JyZQ/VFBo3w38Jlvb5Cy/RaD6B8ZVchDXqIx+26WAo8+DeZ2EMPKdlf36d3jhQ21IO4dBTCStVrZv9LOhgBtNiJVzsf5LX95oCNpWx5rzMzcx6163dXqystEIougWUr2qrqPVAOUl9xrRM+66+veXISHctI3oaGfwSyA80j2Ygi0We7EL3uRCfX+wY+B0HCUGCmI4krrmXW32xGOpR9KCvjteZXJuZvlhCXnK9WOH2MZMb/WaijhmqXAfHpzFv06E0FnX8G+tQ3EfxPuHcnUwmJg9fxRg32Ww2kq7HMbsWL8akb/c6w5MNJ9Jseev/Y9EZZRceJBuHrsaLXfjtEwdGSBZ/QRMBP5dv6vQPtzGSS4bcV7I+66lU12pbeURUNZh1W7+3Gu1o02J5dSGb+c6iSpyzDO7odagKZi9qFy6K85qihNtmNo1HMuYVXNBiN9psWHN9Yat8y1VgtdDoe0O+C2CwinIPUphqjXcGXQV+Jg74gZeOMOZUKykvZL2vZrSpqjxjifOJWvIjuSnu7Q3iNf/1KlXgWr5Y4NUA/yqR2X9d5U6+UpTKmB80fgm+48p8GUPE6FdUHEn+DZ77ijiVq0NmpVj9lHPV1FIYZAF1IPytHUdkPhbCf6Zg1kdhcgMJRS9FQAfU0mCo9aGCVioxNZ3gaY+P0R0UCY8DTrx15Xxda6GeV1hDNpP6837bdW6UEZVSm9vh2L/qIrQGaQ3xYYJYhsqMaor7eznoFRtYFNMqmwkwqcrCw4urXy6yIfBujnFfBy3/83IY4Wf4j1TYHMct6+b/mURd9Wok+NbcMVCPstwTstyXIKdtl4KLItud2/MIbFvsGnWHjKFtE2Ev4jVW1eUBTD02jF/TDbx6o3it1p7M0vZrXbHwaftkDHUmBOmLH7i3Ix46P6MisEhq9imcLkOTp0d4WbbWp+Jmu25tXOPhv7qref+si8YdUrMQuAmFeLHdgEYe2kOpe8qil8zK4CAdrqUvWqV6MSTAWAOyXB5wSjYsmtOCmT9WzTzzoCgeH1irkervGWrKhZo6PzNXosqAnG7JA5OjFl9pVQgC3ICLaTZZOl/oKHJkuJH3KVWMI6mXhXIIXP9G8YZwtJqwMC64t1greNtIDbyQZxjrhYR/amWxLNmDI+KF26Uq8ClQd+0lT60edmXx4J+aEnuA/MCS6ZDmyKOH28QK/1gRso18GngJmkwPpUZ2wh7GitV6JzU8ov4ng60WMSiESZiTcAKzTU1FzCFOC+jKP4qoYst5gVBJCjVZaFYtU3l9Kk5AsEzEpyplYxy6e4QmJC1QZs/C4CWsA6VKzbgNYPfsnGKOuVNQcjEFBz34I3eZ0kCPrV640zrbImlsvQ0Z82QO/KHgpiwvZoUB/DJcV0q+MjBVuKCxs11Nq9TWWIquwr68SXI7sq+5si52PRvf2qTn4oVfMNJV+LNqRiSwPS3Isu5Lg6VzBODXOAj/vDYjQfnzFFg/x7LRaczSXHEH34sN/RIV4RJs+hV4XLOqjhx0W3HUTTSia3E15a8GEdwLVUgCNDGTNtbqWnrQDYqYnpMRh5sGeuvap9SeyLdmIk2ztunDn968aSyTbF43XgHiRDsWzbUdtZ6VKJgIMCsJj87Pdf7VLvBEs2PmhkzRkaElLSDJkt8avCZF8UQZGv4Btsmlr91vYNyx1weLSjzrHxutnSXXvVUYni5mkSiTP8HOX4sWDImmpCcFL/Okr1NbD+LPAa/7HS9Y3aUunaShb//lI4QrBNhI257J/9YKQmETIZ6Q/absh9k+7cH4qooY4RJmqjCVeBDos2RBeCq/JfmPE+9UrCWB7+PEu8aBExHAQzO7NlqU70ejyDPYt39LCbbzxT0xWwmkp8t8vv53gK8shk1KgrWwqahRnLAq/+hdK7QeR9RpRNFAfMkhdaCXXvQUXSUZCMo37by+ZqIXaxlJAVL6G2hRmcVS4ZdqmKjd6XSnAOmINi8araB71DE7puNQc8Oqow+rDOF1oLtFnLbr2D08DonpeKmh4Hw9OarEq3XCAZ2kyG638cmQi8Umtj5w+iplsUTZP4yW9seBoRRPTUZRKCTdvlYWFmYXOitEsI4zIZKvwhd9xNRwxiKP3nxvUWF5HtLvj+QJhf6QfBmbh1GJqIlC9+sYvbVEVj65f/s9+4i9Cy8Ir6cO20ppXLVHRENqNPagUKFhxkBzWpovNyY6GkS02gVepSTaoH5oJ89tgnzihaGx8XjW7U+qPyy8EBYEuDWLzS3lCbIOsynhUsNFYffBT3X2IB071059ITbyUzcSDpYrZgzkA57Vs0OkMC54Vo4FghqMZNE7AOaL77fqLBoJJTU2qk5EYs7Q77kKCnMWDd4pAg9igNnmeZJX4L0CIDK1DZtOsFmoNsWn1R85vAcBvJSa7040EYTTE8Zu8aBe6dxzUCX1e6AXmQwIRosuoY1hc9Deg9nrSQ1uKFZMbP01W6uTFqvwyVn714GtFVBkzUqBvtUzEUb1kqwBjwZefqrYVlm1xITrYeR+LOb1wREIKwrWifu4RNsy3g5pP8zpObaH9Tm0CXmpIhE+3Aq8QTTLAxHovqovRqMILZXp2nBIZsxmb0LD4liW6YV//+T8qnV0T8Xjm7DKSC+sVKv9CBqttUseh/soMfBzrIgRm1LwRHVZvY9gcXfqi4cHBesayMqvgB43WBsTvFYzVNwQDH817ORv/N2AJ23e1xnYunM1+1FqVIiAy4jCl94/GEPxPjGzTe330r2WYXDRZ1MdihW9v7CvfPr83a6z/mp36k6c650FZndkS/5f9+TziWVYU2YNNTGhRNHc0v/46CsMX6jyYkQrLvNwWrJPVcxZlfSRafXx77iXISkgle/0NOMMpm/7IN0SjPxMRTvsw3F7IhwV50aT+oZ59HJ1fSB7RlD6PNzr9HM3sLuychEHPU4TR+psa1MkXVdXbLEIhedtRBGtUyVtlrsKkW42PxVTdCKIfk1Y2KtSq8qMaMe7M19QqOrif27GCiI8WLUmign7s8UOxhHNpeCQ4jVMfLc0mV3UQIk2mfpInWzW75o4lQQGiYgmT3WuQkHjZppuVXz/4BqpIqz59BRXHpj2Ph0a1cjf9PqdnscYX63WeKHHa7kQ4BLZP9cwsFOFV5qS+hk5/DDiPAQfSqCW7IHehNDq0JQq4BRynPnHRqjIqMbwRCC1BjmPGygoFtYh8+2N2zkvxIuOwDVQ01gOOUyKDD9siNZozklBlnxpXo28s+aAoa+anFil+mgMKyKMCd7hV/+D8ISEWBU4jnU+yNC9gcNcDKnXgrTs4i8bReWvp6GbYsWCqh40ehMMYfdY2ePDzeVXZFP3YtgcZm4oowpy6sWOJKFOT3s35vcX+ujGEaWQ97uwmAuFSA8GfHyiAen/L2nXJD/tNaJsv4HH9iwzJRfc+Sn1oDwoe6mgTsOjaQKPCxE6DddOsnN9sQcAarxceZtOR3KKPaLg4bEKVzq+tghAt1JaJcp4Q1OP4VMijFhHZk/qyJizq4bhFdZJD4njrqwsbEO+nHvX6h1fJm+ShurCoaKxA2Z/kY2ucim7UxD9aZOR3wmM1tlvSZKyxoyhSwnv/VyVsUIK96lNtOjITFq8WWLHjGdeb8Ou5jhIHGxr+uRfi0Ifq5VtmS4bXwWOJbEPPDpTisag9Gqtuml92azJnH9WZ/ZpA2EkCUdEHr/0feRUSL6qOesTKbyDzjbgTnfyUscmBzCj1yTrx58cBOrU00/cxamNvBQm7joRlbSYkjSEmGqwLzIOfPwBiUWOUfcjBwyovXehMTZ9GR2Lmq8+ozdtZorodQrBSARH4AxQFt6gqagvGawFME0VzufuxJerndxH9+ojAeRO/kpu3mwGHIlzB6NmupvDXipr44U7iMo3Py2vbSbCvD3c0KmZ06umyNTz0YmVWotVaozHerAxCQch1GxpsGl1JCKoyg6bBB6XKUaUr4Tc8qhV9Xh8WDtOvqFE/3lt/RRXWWzarulB8AD+FUHZgbmf2omqBlQiXoZEtyALNbhyvFXUw5LqPaI6KdOtZZ7xOYvOsNsxLuml00llMXvwT/MFsQhAFX/0JgdN3L2rSp+okDHYiLpHkXEfjVSex8U4Q8FgPr4gG+TxGp9XFcepeXQwivmxIhDfQb00sol091BYWA/mz4TRanX8v4sf7xm1BtiW/4cJqcme1OlghbtqmbsVF2LG5rgjCwSn04d/W05xsjNoT51Cb/po0Vce2YGu+2CUGX3VQo4PbmDqq2v5E4MVw+GWs/DaOHVQSKIsxlkC8F7G9PRMt7mNc7nh8rDlWtu8X+ni/qL1lZeLljkto3KZTGLejsV6/Lc3blxZjY8jcUbflZbuyo4kTSkAX6xa7+ft4NXdsjJUf6x/o/Adluzl1vaNxLesDuS1p+Tsl1nnHeLYvoV+87/bl77VtW/4RLtGR0P7jhEUlwpfQ7+92/7Gy3fgIJ8tPwveTOkW0GvxIMTxuMz9uN16vrgFiJaqI10c4WnRScTpi/eIDEor3aVF22O+nld9O8G0traW1tJb/Pyqtwbe1tJbW0lp+hdIafFtLa2ktreVXKK3Bt7W0ltbSWn6F0hp8W0traS2t5VcorcG3tbSW1tJafoXSGnxbS2tpLa3lVyi/C18tbPF9bZbwNd3W0lpaS2tpLb+8hK+Kh+tQLPOtq6vD6tWrsXjxYixcuBBLliwx0H24boVWaIVWaIWfB4qny5Ytw/Llyy2erlixArW19h1d/E4RWdG4srISNTU1Foj1GwS6rqqqss9WaIVWaIVW+PlQXV1twVZxVdeKqaHEznzVqE5qDEFXddsia4VWaIVWaIWfBoqhSmwVU0OMVbIrsMxXRVE5DFCHRASt0Aqt0Aqt8PNBsTTEUwVgBeJQYplviM4h6w0DFZRboRVaoRVa4edDeXm5fYZYqvgayu/C0zc16lfvQ6RWx8TI3Qqt0Aqt0Ao/DxRTE5NZfYbyu/CLaDVVDLYBos47gupah5oanQfX2b+537KPMueQPddFfTkx+3nfeF28386Az9eSrnh9fN5/BM5PHHbU57cMTnOteI7x/Y/4CbpK1MO294k4XHfVtXG5xudoaReh77b4gp6210sYJ13G+7fs03Kc49/2WjZZh/rqKoPQ7rjD/In1oS5+H+ZInGtHkDjmXw3b0rgt/D06W4LLIdjJj7VvJxP1tzmo16jPjkE41df1EPAJHGfQ74/Nvz38Pb53DPF5A587msvxRrEjRmfUP6Z7pzXgVL8wLg6O78cgMZHVdSi/088L603fek7UWM1IXcmITaG5oOIIAiGVdVWoqON1dSNqqxpRX+UB2IkS4eUOEnx1AyoNDx2B/QTVNaoTI+pbYZ9hjp8PEY7aCpTV15Aun9NoZZ2goaqG4PM5uBA1PhiB4eI48VRdI/C3PRx/BMQZN6Ygn52h3cHxbl8f5L8daO4dgPNdh4bqcjRVlZNnyZx1Vc1sa/Z+HB+fg7RHMhLE6IjunbeAV3ga7bqC+q+sqzB7aaqUTr1d/WUbcTm67g236dlpdz1JJxofeKcNRfir2V/41V/8KIC64zhonOYWLtmR5g1zq054GiobgIoKNFeW2xirFw/EZ/ZbL/583oAn2KnoEf5EUJ36OZ7oPszZQqY/H7bFG28Lduf2prlMvrw2ugO91ieBzkgeAW/sXv01NpJDQzV9g+Cy9bE2l3TAfmG+MEdTVQX15fqtNB9xGoJeAs3VdZQ5dViv2FDZTJzyJadFepfsK9lHMaJe8xvPcTpFg4PLQXOYHbFPYpvxbfO6PBLvZXvyY107nz6X0+m0GF7jT/SQ11rnW7aqvooZilfuCxwrudCPxLvbnfxEfMRlaPQm4Hf5OLh8eV1VG/v939/pjTP79XY2NLOhZfB1YuPCUOBtGXxjwojaa2pLjSiNc2dyIjz4yiHlwBKYhBUE4gT+fIhwUBAh+Ioe8eJ45axUgAVf5ydOa+Avml9GoiBlgUqKi+M3xdo458kUGJOP4/qlkEhPIgS5bQdBuQFYZ7ImCE9wKndGBU0FX+lJ/RLpjXiXEdm147B701/U1+QiXQtPy+DrBqp26tXqIzy8dwcQzqBnOdH2wdd1pTEefINDqL/aPIMNNOrabUm4wyLuDsJxhqeZ7UwnKqos+KpezhuCgNPp+HWfKMegT8nK5/a5Yv1M1g42307qP1GfYb5QH/RidEsurJPsTVYRLT6/26boNB2bLAiGVzw7nWEu4ZId//3gK791OYU5rL8t6NKTByBfsOL82FxR8NUC2FApu4vkzv7Se1lDBQOwBy3XrcY5Lg+ygRa/DnR7nHEeDcS30S55SHbiRXyHxcFjk/MZBfqov/DZfLI10it5VTAuKTapT8vg6+2Si2wrHnyJi/UhPgQZuNyDfrxOEOMpMfiGf1hDQlDmW1dVbZ1cYU5sYFpI4kLyep9AQc5BzGhlc0fUhM6EPt2IHKwtgeidBXdaCc4V6gLWvDI2DwSi1ZUenM9pCErxAOBBwNtZL8GrD3EGHoLCrT3C88+GoLxtYdt+zq+D6c34dhm783mfoB8zUPIUjCTGg/iK+HaDIt/WT3hcLsa/5GErfpx30RWcMeAzuScszqqXftRH/YPcHQ/bjJ4wl3QW5019jGbThWh2e/I+rk+fw3kXntCu+eT0ify6DWis6HQI8nM+ODaizZzZcLr9OP0tZR7k8HPBdBrR5TQk1Ef8Oh8+f5jbZSyZOD1u5x7Ag96CjJzPoKtgt4kQ6lw/rgPZAccYHqfHFywuaOWNaKpgcGOdLcScO1EfwT5CsA7jA/gYydzjgusgbrNhXqOF/WJ8RH2DPcTpd9rrmUlrXEVtI4GJAseFvi1ANLJNdAt/LZNFZeGmdwvYDR502cfmJ07zh4jOoC+1a+6AN9ASbw+0Ofh4ticeOyjw6thBDQ01tbEz38B8mFSfXu8QQxbdu2B07dtGD4ask9As+Pr4uJB1v60Qfz6INheUG487BelgnTuNg12L7nAsEikirhTiUfAJYPjdEPTp/EZ9YsLdefp/DIJct4XEPqI7BNXgYFrBy+pkgOJZY2Q8fgyx4+AbzZcQYF0mGidnDHJ0HVqwIz7J2h1/W/pEB+lhRqwsScbs8vL6oKcd8WP9jAbPQARGm/WNj1M/0Rmc0SByGHMiORavjXY5exQkjAfRFtmIwPXqmbjuxY/t7CJ6A76gc+fXx2uMxrbk4edBkIPJPaJF+EPW6fUuf/cpBTfXjcZrt5d43OZ6U7CQ31EHrBO/iXSGOYMsrV42Ifny3uRkuOLy96MaBt+KBgOf2/u7PkJ/tx3ZiOzOde482afhF60e5AJtsj8L+saf25f6Ox9x2WgOfTrdEe2aN8pQYxls1Nfndr4FAY/RwXrRafZsdOkYVbADedu4MJ9fO8RxCxxPvF+A2LyJwTfKgK2hjsG3urqSE8aJDoN84jizweildBHt6XgIWi2JkBAsO5HjR/WBKRNcNObnguja9gzQ6olTbaLX6Ipoc55cuYH+QFdLHuN8uiwCjS3bdob2nw5hHgfjLQHcuRzUPzhjCBIh+KjNZdISj67NOLmlEpgc1Jagb8fj+tLZn7Ia4S+rj8/lThPXZ3zRdRwBr2RvizP1oSxFupHunBfPYs2uNC/r1c90F9ES6HYaxU+cTuclAtYZX4Eu2qkvnM6z9w9jExwpxofa3V7MZmL3Di3n/aWQQEvCoqP5Qoboi1ii7bq9SkbeN5GeqA/rPYhwQWW95GHyj+TlY3wefaq/+YDwqV24TFbOo/pUNJRSb/Qb0qIjBcelsaFPRFuYx3A7Tt0Lh9mJ+Ix2RDY+RoPjsf4JdPi994nbsXQV6HM+POEL8nEc6quYEAKyZ/SRniP5B75t8SJd4s0Xco6NfMfkq3ab020wHGeKlkCryc3wCpyf+L1Di+Abzh/UoKdxVTXx4Ku6uGM7MhEegpY5CQmSAynbEngfERKYdQZbOFVM+X7/S0G0KPgKNFcIsJpTNAc6gvP6vK5ItfnK67SZwozPRHAaHWcQZhAoaSeulv3/FSAZxcENS/Q6mH7MWFz5HnyDfINR8jqi3Q3XdegGGvFHp/AA4MalfoFXk1mdn+WbrNhH85TVSbYuV5NFgjxctnH6A14/lopvD2U7mscyc9ODbx9tXtbHg2/ccYQn6Mz0GtHpvEQOo/qILpOT6DE5Bdk4ftetIMjF7UH33i6+4jsll4m3hcX+lwNlQ9z2aYufZOEyClt6D76iQzQHnfuWPpH/oNfAmwU4gtMpX4iD5lYfCy6SA8cEvDa/4XSZ2zXbdU4rvWkeOw+NxQDHqT7CZwsIIcjN7MzaPRDGg6/zL5zGF+8DLqPP5uW9ZMP2YMdqc17dHsK8Ji/RF2WyNs54DwmC21FYVLzdZag5hc8Wlpjdbht8nW6bn2M87oifBDkR1O7gdhK/d2gZfPWaLwOwJqiqq6VDVMYn5GBzbiPGkQUncQZdWVKgHFGgcQYRQUGpbvy+shsR1u6Oty2BPxUkNMt8JQTi0XxuTEFBbpBB0G6YkXHR2DW/t0tpkSIExq+D8+K4BbG5ra/4j/f910AwkrjjJYL4F5+Spx85+ANNM1QLGm6IRntkYCEIJYLxJ7nZXJKBy8/1yblqwtlYlF2bMe9IdxG9kdztTM3O1Vzv7ij8tIzX9S8H1ZN0fcqJyurVN64/G6f51J88qC5sF30+n9eChI0njZGzBZ6E357WGy5BsBWnVw6u+f14RvLw8eqjdpe3+HIHFg+aS/h9/l8CkrUvNpKFy4M4fyz4st7fZomfpxqPpNUzMecn+O+2dis5hMAkWdrOw2TkdEjHod34Zx/Xt4OuFQskR3uIxb6iRXUW5GwnI7+Sn0f4QvA1eYqOyCcJ4tVpDXIXTwl6iYKyaDf+IzDZRXpw+wx4ouBLXdkY8c52wxfJQXQYDZxboOtAk8U6ylE61phAm8kuWsyMdo5zvoTPd2+uh0R/cLwOoY74qhO/4ZYYfOurUZ4QfIU8FnxJkCbWa0zNVXImrWwO6lta12zgghOzbhRuYCTWjEP4PGCbMkh0S4J/HiQKzBRBXK4gV1qcfjcuBQHRr7ayGqCkjnyTjqCIRAhzxJXm4PXb9/vXgebQXAnB1wzbjcwNwANvCDixoMHg21xVhKbqUltsKrnoyoDcmV1PLidduwELNJ8/JWa2wT4Cl6ECWx1KGnyOYLQCu2Z7U3Wx0SZH1E7IMhtlzeRF7XJI2Yyy3grqQPWaR28maI7S+gaU1LsxW/A13l3OLn8Hsz/Wm+ETTE7Ca68yyS4VRJx+jQ3BV3jDmbjxH9mFOTpx6A0M2anoM3s23M5nzNZ4LzmFc1DX0y8B8eZ0mj9ENMl+3Y4lW5/b9MJ6+R4iWYkOjbMkwgJDGK++wiuI5MexBpzX7aUZZbVEZfyR55piQpHZlPUhHg+o0YJOfWqcArwfPZUa6JU+vXKo9pJ6OE7pjjwJp+xBgTrgcpmTpshu3E4rOKjYbKCMdAmPB2qnXWCLgvTEa+PR9E4bkh3ZIuK61Hyy9yAb709dce6w05JMRbv6xW3X/UtxxPHSRphkaKxk0kxjba6QLtx3Ah3Bjt33vL/aXL9xew36bhl89bSNAdiEvYPgq4dwjURaWVGLeq5+oECbKwvx+eefITU9DZmpSUhNTcfeY47HBuKtpvNoAluZapuMKOGyFdsU5sbmTh0Y+eUQhGdOyLlsq0MaPTCpvQFVFZWoqyuj0WzCk7dcjYLUFIw/+SKsbwBKyVI9nV1HLpVUfmMDaaJxhW+jhKBrtCYIMWbUCbT8S8BkWWkyq6Nu6qrL0EBjrav0bPLpF17DQYceg83lZbZ41tXUo6aqHlWUvfqjfA2+/fgddOs5Eqs2AkwuiJdGxOywmsbaUFFGAdTigw/eQ8duXbBi6xYGQDrLllW467rL0KlzV6Rk5mO/UQfjk48/t4BULGfUw1nSF5xIb8k0lG9F4+ZF2HtAdxwz5SKspV0VNTaivKEaVdW1tvChYg2uv3gqJky9EEXR4ldfVUKb2oIm0vvE829ir9HHYWslx9H+NId02Vi1FbVlm/HaS89jyJAhyMjMQ5feQ3H5DQ9hI323giuLdFzFfvXVW+i9q/Ha03eh3+A+SM3ORp9uvXDzjFuwubIeW6hzmgpqK3WGvQVlm1fgkksuQseOnZCTnIIDR+2HF975GIWkj7GY8m80eVZVU7bUheRfXVMWBbNfbgMWVGxRU7AN2aU7sduYdO4PwMv0FhKvQVltXbUE5559DrKyc5GTkYkjxh+D71duRjEDXxUXljrKubGqkAwW4osP38IBIwcjI2N3dOxagDMvvBYrNnKHywCnAFNeQzthkEHVZiz96iMccfh4pGfnIK9DBiZPm4SVG4qwlfItq2qm/8MWJgXf5voSNFQWYcmn89GvoDfWFleikLGkmH5YXd/k8YMLP8pXorZkBfY++AC8MOsdswM9W6qXP3Ex1NdtG5nRN29djLMmHo3pdz+JDaRNc8ovJeeGOuq0eAUeuWsGBvTvi6TULHTo0guTzroYizdUYzNtWnID9Y/ytVj15Yc47qijKZ98ZKa0xciRI/D4q+9hi95ApD4bSRvKNvBmA1555insyfaMzHbIys/EkSeciq8Wr0U5aSilbHQMi+oSYPN6PHPrrRjQbzB2z8hCfrfOOO3saVi+rgglSmpo6yWMMwq+0pPzRz0rDiqGcE61xYIvE95/GHwt8JZSAA1NNFYyV7kRbz77EJLS0tEuMweZGWlIT01Du9T22H/ssdhUwuyI4ySLCq6ICooKWrZSKihGq7HNZwRtb5Q/Fyw4RvNodVTwleGK/jrWy8CbqzejrmgZDhnQA3tTgDk998GX65idkc6ScvLKgGJn3soqxD8Nw3/VzYOugdHqK9v/ZPCVgqqrygyaGcjk/DXlRXj66SeRktsFe405ClvJYwWdTtmZ3teuKPYdyoL3n8egrvlIyRqE1fTHChlKbb33rWMgYcbRUFGKW266FZOmTKXRldAOijH51GNRkJ+DGTffjtdmzcbJxx6LvMxcPP/2HBTRMMsZ4Bu50EoWDWagBAbH66YcjfzUXTFu8qVYQQPbRPmWNzBo1XERZ+BA4SIcMrwXnnv9PcMjmTfXbGWEK8KTMx9moOyOUeMmYGNZPSobm81Z68k3arbg/psvRyqd6aDRh+Gl19/BI4+/hC69hmH/0cdgYzGDUyMDeXUhM7G1eOjWy5CT+kdMmHwKXn9nFq678kpkp2VhzHETscUyvmbaRCUai1biqAP3QF5+B9x29/14583XcOQRh6NddifcNfNF2ihZY9BRkFImJJlZ9q5tN4PlDnX2E0GLVthRKNvVUYNncb4bk6/IHhuYEOhIULIuX7caRxy0HwoKOuOxx5/Gq88/jwP22x/Znfvggy8XorSKAm9QFF6PWU/fS10kY8xBB2LW26/gljtvRdfugzF4j0OwbEMpM8xmLnC0cy7ob7/4NDplpuOgA8fguZdexmNP3I2C7rnoNWQUGF/YjyhpPE0MMI3l7mNz3nsbA/N7old+P6wsqsRG4eNiKr6qmYE2125B5fpvcNjBw7Bbbg5mvjUb1Q3N9kZVPXHwgn1qUbZpNS6dchiyU/+Max98GWsYj7j2WtIEBt7KwmUYf9Ce6Ep7vPSyK/DGrPdw5133oHOPfug8+AD8sJYxi4tCfdkWfPDCo+iatjtGH3gQnnziWbz75qs4+qjDkZLfGZfffA+KuIhUagvIROz8U8cjN5OLzOlT8dY7r+GJpx9G9z49GNh7YNZH3xkNdfWVqChchWMp4z7ZHXD5JVfj9bdn45b7bkVB787oM3QvfLVwjQfqunrUUfZVXJwUP+qpx78ffMloYvDVma+nzh58ayiAJiKtphPUastTvAQj+7VHak5HHHvaeSilI69csRgDu+cjJ6Udbrh3JoqIuEgrHFeucNxggYoG5pkS8ZIo3xZ4dvNLIARwzxR8Dt9C6rUTBWU/LwMdBWXL8MNHL9PAcvHUk68jt8tQ3Prw83b0ELIAC7AUjoKv6PTX7uKBVxALvsZHS3r+VVAuYydNcng5ypKF3+DUE4/mjiMZu6TmYS8uekUMhpKDMqVmZrPVK5bglvPPQF7qH5CTk4WMvFFYvp42x0XffjyJQaS6hhknA21V2SYcdMDheOHp5+kQqzD79YfRJqcTHn9rHorpy5q7uWgRzjjhMPTb83D8wMRSzmgZOfHUKcOp3IR5rz6BfjntkMGFedy0GVhO09L4qho6GwOVsvUlC+ahZ5f2WL1hswUzHYusXjgfJx53JLOPXLTNKMCIA4/ApnLf6io4K/NY9PGr6Jm3O8445wLLXJmAW9AvXPI1+ncrwOU3PYpN7NpQU4gNK+ejU7fumHzOxQwGlIvstrYYTz96P4NqV7z+0bcoY2IA2sk7j9+NXplJeOHVWSihs5VRxqVlRTj22OMxaNBIrC2qYrbPLIh2rqSkjrsCBZawsO+M/cp+tFjuKPgqKCv4Sp+l3FE0NNP+yMejd9+FTtl5+Gz+1/RX7nAo0zLuVvbf/0AcdewpXIRd3tiyCIcO64H9DjoC67h2FZPeSvK14KM3kZvSBvc8/QY20+8bGotRsnEJhg3eC2MPOQFlpbW2yNfXbMBHn7yNXXN64fr7X6Vc6MukB9VbUbjiB1xwwXnIzi5ATpsCdMrpzx1TJbaQnkZmvQ2l2nmswMuPzkD/TtlITknDH/K74eEPP0cx57SEQjZDu/vk1Rcxsnc35CX9AWnUwxUPPY/F1GMZdVHPuVCyHJ+/9iTS0wvw9Msfg2uyL7K0t+WLv0Z+1wE4/eyrLdBVbS3EuIMOscBbskXHKIxZ8lXK7frLz0V+Vhq+XLQOlbSdRV99gm7tU3H97XdhK3FK7/KF6i3fYI+BXTDuyGnYrE1hxWa8P+t5pKR3w7MvfUr/IwMMyDXV67Bo2ZeMI71x4VW3W/Atp602NDH40kcVO2wXGgu+ruMqyVABNxZ8eaFGbVuVZscNxI8dtKXUNRorsOSz59Ax7T+R1r4H3luw3rYZdRTSvVdPRn67P2CfcadgBWUrhhSs7IxI6bcZmOMMwdcN958RfN2QDZjxaq5wTKCtJbg9QvFiXD3lOAwbcSDWUKfHHH8qRu6zH9bRWi37pXFpjLIMBbnAt9FKPL9W8A3HHzJYBcE1K5aiJ4ONDOnMM8/A+JMmYeQhR6CwvJYBkQGunnLeugkH9+mNTrv8ASeN3xNnTDsN2R0O4BbSM98aBhLpuba2iNnfaqxcPB+de+6BFcs2U04/4LyTD0K//Y7At3Jayqa6Qs60GPPffwG7pPfGyx+vp6zkHJR1JdPphhJsWbwAe3Zvj5k3XY0Bffpi7Jk3YhntSoubZTra8dAJnnrscRw5/igU65iEdRuWfYshvQqQlZnKbe7ZOPzYCdh/nI5R9DZFIyp0LNJQjsdnXIhuaX/D14tXYAPnLiQjCtwoX4ybL56CnnsejeXcftYx+H43/120y+iIp1/71BZWOaCOXzat+A453Ybgyjue9OBNu3jw6vPRNycVyzeUYANp1c6vngH2xaefRlZGLudbxWDfZGfdoleLu4JgrTKdqibq5pfbryDYkfxPdhzODhV8dRZex0Wrnrud6uotKCtejz2H7IlTTpzMhUCZONtIq845n7yfmWp+e3y9YrPJrXzhJ9ijUxquvmUmNpDXQmZ8TDPRtPEb7NWnA8ZNOAubGOAaK5fj47ceRXpWT3wwdx3KS7Xa0u4rN6OEwbrnHmNw4pnXYCt3Uw21ZWgqWsOdY3dkZeVgzJhjceHpV6CAY5cVlqKIQbGRCQ+4y73tytPQLfO/MKhzHm6/4x78Z25P3PvuZyhic2UFd0Dcybz9xH0oYMLWKy8bD996FTp3zsXl9z+NVYxJZdz1iC+UrDCbyu80FCuo7q1ceHVchuo1NLvVOOGUqdjn4KNRUVZJ31iJESNG4c47H6TsmDDKxphoNHGR/f7Dl9A+6c94ftYntki/9PxT6Nk1D/O+X4ytlEOJ+tF2UPYN7rxqGlJzB2EV55ON3Hv7dGR1HWb3teWNTG62UpRryAd3Icefhr1Gn4CNpTo2oi0wGVGSqaOVxDiXGHzJ2fbBt6bOfwYtMahImLUVHgS02nz44gzkJ/9vJHXsjyWUYRkNFnUV+ODZG9Eh6T+Q0XUvfL2RmQKNvpKBV4ZvTkoB+BmZBzMLYnbf0hh/HgQcZEwMbpdJc24KQ6t1/covMYyGcMVND2ETaZ712gvokNEGb8+Zj00MSDov05ZI5zVa+RV4deTSMvhKgInBN3GufxYE+TiEH2NuqK81o121cimmnH4qPp/7EdurcOJpU7Df6COwlcrXTkNf766uKMaUk07HJ6+/zgzjO9xx7VRk5Y7Eqk3UC+NQNSOPtpuNDL6o+AFvPXsv9jzsNKxhnEPxKhzEnc0xUy7BOt0yUNerX/1arFv1HXK7jcAN97zKuVllxwGbUF28GmecNg0nHnE0sHERRg3ujYMnX+2ZL+ezDISBUoHr9FOn4C46h7I2ZZJrmaFPPfUEzP/yE9JWglMmnY79DzkMJdRHid6eaaANVhThkSsuwMCcNKzaUgi6CO2LTsDMHUVf4f4Z52H3gmH4eBUzIuJc/vWnXJza4/Y7ZzJjpQi4C0PlGnw35zX8NasHbn72A1Qos6ooxHN0rG7pbfHpd8vBNRnllcRZV4abr7seBR264Pvlq0hHvR2daMFSANKZKlVv2b/b3I70+NMgFnypawXdcBQnnxHIH2uYSTUx09q8diE6duyDG29/zB5MlTPRaKwrRWP5Biyc8zo6ZqZwt/IptjLAYf0i7NM5B8dNuwKryKvsu768BGVL52NYj3xMu/J6CzqoXYJ7p0/BgD0Pw3KquYl+22hBizsu8qjFs1Bn3s3MLBlUa4o24YyTT8Sst2ZbFnj3FdejV24nrCotxRYGkpJS+hv5ePCuW3D/rVdzx7QCX376Hv6Q1Q1PcisvvWrH0lxdiHdffx5XXn4NNixfgZLFczC0Rxauu/dJbGQ80txafPSMScdiQsu4xyRJr+Qx+Javou2uxQEHj8e+o4+3eXWcoLP5CgY8ZZ1Ndcp8KyyIfz7rSWbpf7Kz/C1KDJnM6KxZAVM2Xt3YSH+g7iuX4appJyK10x5YSEPT4ldXtYW2yR2BxlUwdOo4hPbUULUeB447FnsdciK2cJU3m6autDi0CL4EW1wZJ6toPz8afPXd48SgomsHff14Ex6+4Xh0zvo3DBt9CpaRhmIaYHNVMWbPnI4uqf+N3bhizPqm0g6s6+g8jkdBMv7+poGuo8AZq/vZwCBIRoVHTqAn+mI00Kv6SipZW843HuUqm5qKeYvWo1ALw8YfsEfPbJx+7mXYSv718EcZgwzfztkoPGXtOrYwXJwvBF/1CXLZnqadhXjgFWjltocS9TR+0cWsxDJzyY4GNIHB95Cx41FYRKWTrpq6YpRzZaZ9k0n+qfoC986YhLwO+2Axo6kyX52P1TCYNFQyo61YiulnnYSzZzyItXSMiuXfYEh+O1x5+yNYQZkow2qqpzNWrsKqNQtR0GMkTmFgZTyyrEBniy8//SB69B6CRd8vo9N/j337FuCIc67HIgYBBb+6CjpR3WYUb1mJXn1G4KPPFrusGVjliI16sKTtPJ1h4sTTMIb8bCymMzH7se0g7evxay5C/6wULFi2AmuJt4J2q+CpjPza809Gm07D8fb3pags106nEOdNnIhuHbpj9icLGCTrULr8Sxx90Eh0HzkGn61vsO1rc00Znf4L7NO3K7Pto7BkY6nJ9R0tzB27Yuq5l2JLOZ2GdOgBowKhHgoq+OoZgwKgguaO9fjTwG3LdR2Ot9yu9fTdfaOW/KN+Hb6d9zbapHXBM2/MRyX51xGh6NWRz7rP30Be2z/i6nuexBb5dMk6zLzhUjtmuf3pt1HBxKKkcBPOPPlYbrfzMPf7FShlcELJApx/wiiMPnYqvqJ9nHPOJeiUl8dtfiZOPOV0fLtsvS1UpeRdGbid1ZJmBedmBq37Lr8KvbKysKyoEMy5uHtuMp+xowX6nY4fFn35If6a3R0PvPoZaWaCU6mHxmWo4EKnY5Zm7irqV3yGYR3aYcZdM7GeurFjLe082VeBUvaih716mGeLfulKfPvR60jO6oTpdzxuAddkSnx6MCr6aip8V1Bbuh5nTDgGPbp2xKLVm8x2Kpl8KEhW1DBg6zydcmzkDq982VcY2KkDjph4KdZRPGWmpxLTiXTUWBMF37I1+HLOLKTldMPlNz3Mxdn72psqUfBVLNXDWsUmJRrx4MvOFnz5R0WDFHzruJ/Uu4XBOPzpuT+hbK7ZiAemj0d+yu8wdNxkLKGAdB6mlXf+S3ejS/IfsVveALy/RK8kkUGuRJrcor/wizAzLocQ1H45xIOvPXBj8I2/x0owngpJ/2acdMQJOObwk2z7VMnVFBWLcdvlU9CpzzB8ubbanmxvVeCmIehtB51z15ZzC/o/HHw9g4+D+NC/qVdWVsYtJvWgB6LMgKtouKLzlJMn4aCDx1lwUKCq5Ra9oV5bqDo0lTLVrfwMd14/FRkdRmHpehq0jJrGrHNBBT2sXYr9+nTHGx9/aedxRYvnYkT3TMx44ElsoF3o6XCTFuZaGi13EL0HHICTJ13qC0LtVtvK9+7SHg88/KTJCkWrsXfPjhg95WIwFNuRTiMzcVStwmfvvoDuw8ZhEVNMvc0gXhTMqnSm2chMq7ICE045jfyMtYegCprhzHfJe8+iR8bfcM2dD2ADg4EyI9WXLZ2DgZ2zsFv+YHy4kM6mVaGYUaR4My49Yyp2a5dCB8lBTvLfsM+ew7BgXTkoFRRb5s4Mija94YdPMWzIUGSk5yKrbRvkZWThjCtuwFrOIfq1U6iukh9Uc7GQTVMHzMrCg+kd6fGnQ2SrBqHOg687vN4UYsCrYrD59C20ze2NR9/4yh4cyT7s4RETm4rv38We3dIx475nsIE0680eZWf33HabPfVPTmuD5IwUdO05BPMWrLaMVufJ2PINjhxWgBH7jUX+4NEYd+IUvPLGm3jkvpvQq2sHdOixB+YvKqLum8wPJN/yUtkid0QMxA9eeQX65mZjdUkJNjOWlCl5ox61y2mspgWVLsSCuW9h15yeeO697xl8lPlqd8k+9TVM3vQ2FePFd3OwR0Embr7/OX8LSXZK/tRX2WcxP4spa8lcO5OqVV9haPf26Dl0P3y3sZr1jeYX6qtxSvyaGM903HTXDZchOTsPN9z7KJPyJnuQp92Q3gyxt7EYQ0Ba67csxbg990HX/D74/NsNliGXNjKQNzIB4pi6Cj8KAhftipXfYWi3zhgw+EAu2vUo0lS0VcVR7bbtqPanB18qnMpomfl61qXAaxkFt5gzrz8OHdP/NwaPmYTFmtCcYBM+fepmdGn732jTfgAzkGIzbj1VD5MnBl8ZjRT5Twu+/LSX1Bl8/ZsqpF+BlAbcXLMOCxd8hNzc7njymXdM2LaNrlyObz5+DUlpHXDzQ6+gmA6tcyZt+2SUwqFzI5eFy8NojwKw05/oMP8cSAy8JidtiXQUZGe/nJurfiMzxjrJktenM/PVE+rCEm4J9VZBVG9GUs1cpOZL3DHjDKTmj8JivWqmoCOZMYAo+CydOwcDOnbEmi1bLZMqX/o5hnbOxPT7n8RKykTBVy+/N9Zt4gKwHn0H7IdTJ15kAaG2bDVOOvowTDz5FHuzxTJcBr69e3XB4VMusuCrIx69oYGSpbj/uotx7LRrsJq2V0XcOgNupCGLHr3mpwXh1FMnYcyYcSguoaHS0SVzvaKI8hW4YPJR2C0lC0efdi5eeP0dPPvEo9indw4mHjUGu+cPxOxvN5GnEjrRckw9/jhmcO1x1dXT8eY7b+Puu29G79490X/PQ7BwPbNs0lDDBez7z9/DyAHdMHzwEDx078P4ZNY7uHDa2WiTkY+pl1+HzeRfW/ZaBmAlInpAZgFY9qzzvShA/nII9uW2ZHYlPUd2Jt+zt0QqlmPh5+/ib1ndMXPWAktuZB86v9ciVL3kQwzvkooZdz9tb5jUlG7AzZdOQV5mGqZOnYY33nwFTzz1OAYO2RsF3Yfi029X067IWNFCHNybi1daPi6981lsFjpuwRsqNmDD8h/QpetwHHfqJShmUmPPURQs9SoZ7UevDj5w5aXok5OF5YV+HKQkQK9yxYJv3Qp8+8Us/Dm9Cx57a4HtvLSr1KtYyj61VZfOGpZ8jj07ZuP6u57FRiYB3PiYvHX0V8EgX9fEJK6RAZMLdeG6ZRi77x7oRrud8/UybKaN6fjAH/5q1yrb1vFQEZ5//G5kZiTj1AuuwkbqUr4teSo4VxC//btq3FnUFC7HWaccg46ZPfDKS5/a9wCKmeWWNTUwsDJ50BskDJ51pRuxde0SHLrPPujRvjs+nb8cW7VIU26iQcHXdi3UY3jgZr5s+vQzX3vgxvI7YrUb76ytVTAoB61wCrx6mqgHVw9fdTK6pv8nBh90IpaRQJ3B6B3Bz565Gd2S/oCkvEGY/YNeliatJMayXhmVHJ4rdCyoREbW0hB/LniGUFlBQdeSBwZgvTKmVU3XTTq/47b68dsvRdvUTLTJ7YHd0/OQnJqCnNQ29hpOVkoe9tx3LFaVlKOQwauM+Ixu7uuqq5pocNF7l8ZHOJPzee01IfKxY9p+KgRZh3s5YSJs01dOrwDLoKUVe8KECdymH4otxWX+ug3pte0ajayZ2Soq5uPu6VOR0nFvLGTGqfea9T6ssl4Z6AN3344Tjj/aAp+24XUL52NoXiaueeBZLKdqdWzQyODfXLESG1Z9jc49h+L0qRebzp+8/Sr06NYdS1dtMFqZHgCbV2Hv3t1x4tSL7JWhcG6MorU4etQeePSlWdjCOm1jtWX2hYABmAFa29DTJp2KsaPHMPgyu2HGr7NpLSZ6v1X29xCDaJ++PbjdbI/9DzgICz54Ca898yDadByID75by5VlI2beeQWSM7viube+Il0MnNy6auu4ctVS9Oo1BEcec7LtfkpK1uPw0aOxx5CRWL5qPeXaZEdNKCvFe08+hAJminc8+artALZyOyse1a4MSLtEnbnubOYb30G5rt2equjIypT0vISZXo0y31X4Zt67aJvVBY+/NpdtrGZ/vdbUVF2EJZ+9gNx2v2d29yyKKe6PXuUuI2N33HjPff66X00Td7XU+6blGL//Xug57BBsKOUKWLIIkw8djswuQ/HFumboeZvOLRt1vl1ehQtOPw89uvfHkuKt2Njg59LK6hQr9L7v/Vdcgt5ZaVhdVGzHHbLBJtKlIKhXzVC5EN9+OQt/zOiCme9+a3FBr2GJX/mqHhIrk21YNAd7F2Tgujufw2ry5g902Y/xyJMhBi3ay4aFX2N4395o330APpi/1JIDS7zq6afs30y9NJZvpoEtxT23XoqknGycdN6ltogqUZQdoKEU1YxpdqxYvh7lW1bi0EPGIS2jM557eS6KacYMe9xd1jGbZVbdIJ8jL/VbsHbxfAzr1wcFXYbjo8/XmH8Ir45P7F1sPZilXOL6banvFl8vthSYIANQpPbfdnAHV3CsYDZjwUj7BWYgj14zCfm7/W9kdBuGb+XMemxcU4SPLfP9L6QVDMH3rNdT5iBkmzjC2SL47nTgUgZIQyBoRdaL9tVkvo5BtIIOou0B1s/H6MHtMfaY47jt+RxvfjAPH3z4KT744AO8P2sWrr/0Unv/84OvF1pQKCFtwtMsQ6pwYxMoo078BpEHX5fRjuj66aDxiTiCIwbYpl9Mjh58J02ahIMPGYPSSr31Qfq0PWZ/vcfbpMyj6ms8MH0akjvshe+Y8OvbQ3V1NMDqrUyYNuOo407EvY8+bude+vIM1nyL0f174ahpV9p7uiU0j1o9na5dhc3LPkNOp/644fbHGEzXY/9+ndEuKR1tMzsiKSkFeclt0KPNn9A9LQl/ZSb1+9yeuOLBp82hNy763rZpXy1aHr3szuBb7w9jdfyghVkPdE4/9WSMPvAA46dcDxCpE/HdUKqjomI6/BZbPBRMJB9UrMY9N1+GlK5DsLioHs3ly5jBjMHQsROxkDHL/r1CPcuo3GoP4668bDo6F3RBYdEKrF27EN279MaMa++y7bAe1pidM7vCpu8xqlc+jjmTGTxtwZ7S01n1ANqepNOJZGdx/fwysFfNYsHX9S0b8+BL2VQxiysrYiBcjY2rv0f7gl6444FnuHg0m51qkdX78998/CraZ7bBC29/jq3k+c4rLkKv7HZYtLnUzsi104AWsZLFeOvxu5DaaTjeX8DFqmwJLjv9MKR1GMrtuweSxibaUillwHhw13W32MPL5WUl2NTsiYiOHkSrgu8j069Er8xUrCouwWbOocTHviZcweBr728vwfdfv4P/YmB77IMf7IGbdtPa0elcVjJtom4aF3+EEe2Tcf19L4FrgCV1ymD1pSwlBc20wS9mv42BnTti5NA9MH/JFhRxPgu8+rIGadJRUFM5baRkAxeNo5Gb3QaX3XwHthCfjgWk30pl2XqwRtySx+Zl32LEwN4Mpn3xwdwl9H/OrYfSDGDSjWyvVskKd/efffAq+nbLw/Dhmn+r2YRlvPQ7Zfy1jf7lEi0ClrTS+BQfDKJ4Z7sNFpKk4KsUWJmvnhA2Wgak4GKTsrMCr4Qlo9RT51VzX0TnlP9CO27j3/thk30VVC+2P3rtWeic/FfsdejJWEbit5QxCyMBwbA89Q5GFw9mweB+CRh90SqsJ/1a/RR0dO6jMyVlDAvffx7d0/+Kp15+g5kthaWMVitaebk93dy48FN0zUvHxPNvMiPVq1U6OLfVlsr0YOsOIojz4ULdEV0/D1zW29fHndEh6rdN8J0y6TQcsP8hKCqrQpEWn0YuPAxm9m1EZqeo/BL3X306UvL3xELGr0Lq3jLf0jUoWr0UPfvsi8++22RvD9TonLBiMc45cRz67nMEFjLZ0Fm4XjtC+Xf4bvZTaJvdG6/MWcEMowmfvDML773/MV5750N88Omn+Oid17HgxScwslN77HPEKXj8k+/xxZK1lg298fwLGL3//va+aAmdQM6iDCHstqqoi2pmcGdOPAmHHnCgvTqnV7wKlU1woVs5930Map+OTz7/GKXcFhczK9PXUbHlOxx98DCMPHIiVsuuq9bivAmHo/u+x+N7+RfFUK/AXasv+JRixvSb0D6/EzZsWILVqxeiZ7f+uH76PZyDchFdeq9di1ARg++Ajhg3+UysJFqGLQss8hHZbUWZf1mopc5+Pnjw1bVsS8Et2mlRx/Z1WZ1b1jObqytFWfFG7DF0GI4/7mSUVFJ+dPwyBjltiZ95+EG0Z5b37bK1dlZ+73UXoG+HFPywtsgWO9U1lusceBnefOJ+7JI5CHO+K0Rz9Uo8fudlSM8cgLlfV7GfFplSNDVwK045nHryFIzcawzWbC1hRs3Ayt2I3v2v4KKgTPqeSy9E7+xMLCviPJSRfENfnBBP+lYiyhdhwbw38Ke8Hnjg3QUoMpvWA2QdXegLCYp0W1G35GOMKEjFdXc95d+MJB3yQXsfmNnp4s8/tAeF++4/BkvXMfBVNRv/kqEWoK1cvGsbqHDa9aWTTkRmdlfc/chLFhgtMNOOlXVrEdLWv7FiDbYs+wqDevbBoP4jMe+r7+3tmnLRRVDg1GItX9HxxdLPPkWvvDzst//BWLJ+s726Z6+ocoGyd8k5jzJffZlIMVR0SVYh+AZ9h8w3Cr5+4WekOjfVQO/sRsFITkJ0RqKD/eaiH7D3gA7MdtrjiEnRlyxWLsTgbvnIaLsbrr3rURQSof4ll2BQdubLa+ELxIRg1jLA/DwQPj+D03movgVUjxIaYy0zKi6BdLp1uHLaRPTq2B5L1m5BqW2L6u2hogSjd0JRtginHT8OGV32wQLapt56kDDDU3jJwoJvRLfz9Mtp3h6Ec0dOvK1son6x4KvtejkmnzoRow8ex60S9US5l9BR9WUZW3wUNMvm4/7pU5BVsA++IX96CV/bfDRswvuvP4vBex6FVUwElJHU1+vB2FJ88PpMpOR0xROvf2Zn4Q0N7L91Kc498Sj0Hn6YfclCDzj1Ko/pl7pW4LcMeetq7NejM8addr4FrQr7ZmQFzpp2Lq6//nZ7Km3GzYCs7MffiCFf9WW8L8bUk47D2P32t4efyiy0KCi4lC75CsO75uKiKy7DFganeuJtpPO//cwDzPja4eE3PsRG6g6VGzDzlqvQJrs7Hnvjc3tQpGMTnSuuXrEYvXoPwGFHHIuyss2oLNuEMQccguEDRrBtve0aGhv9afxbzz2IzKS/4PbHn8M6OrkWDFt0mYTovLKZC70WjpY6+/kQP7rSDsu/WKLgq4U//HiNjl3kg9LpI3ffhq4d87gILbAsVQlO4ZZN2HevA3DMMafYoqWz6DmvPYS8dv+Jm++4x177VJau44m6TYsw/uD90G3QoVhG82+qL8SaxXPRrcsgnHn2DShn/LJz0Oot+P77+SjoOgCXT7+Ti6Z2lAwsevBkWR53AAwyD11zDfrk5GBFcTE2NTEgsk5BWb7dzMwdtSvxzedv4r8zO+HR979GObNDnc1Kjvr6rebSYle9ZA6GFKTghgcob9qx3ueVDKTPLQvnYmjvTjj0UNKsb+bRJGR/kplsSEdTFfR3PVy/f/pF6NCmDWY+M9u+a6BFopHzVXGx0utqCpo1TQzIWrQPHIgRg0fiux/WWyC3HxDSw0s9BK7zL/g01xZh/aKvMLJ7bxxzyBFYtb7QvgCi3yDx37xg3GRc0fmxxig2SNaKozo1iMcN1/ePBF9Otk3wFYTM1w7amRGjah3eevFBpGXn2UOJrMw8+22H5IwcHDz+OGyk8vUGhIxeX0GV84hIGZkO6CXQEEAMonl+CXjwJV5lUaWqo1IUgHRAXr0cpWu/Rt8e/XHyhHOZKWkFbGQgIT/MmORIyoRQtQwvPnEXds3oh+n3vYtC4qD927ZJ514h6CkL8Yd7vqC0DIw7A45/+/ofCb6ChOB7+sRTGXzH2Hu+RRXM6Jv1gzB6R5m6qthA+BoPzDgLGe2H0kEkG8UyGnXFMky/ZAqmXn47nYYLjl7CZ9Cu13u7Fetw7OGj0bWgPabfcA1efPUVHHvUychI74qn3uS2Vv0ZUPW6kB6UKViUM2jpNTh9s+rAfp1x2ORLwE0t6Sxj8rIWAwfvi7fe+4rZo2/VdZ6mYCewh7qkSQ8+pk44GeMOGW1fotA5q15d0svyKN+Mh2+7Dm3a7IbzLrkEb78zG1dccx2Sczrg9Asvx2YFR2bE+tZU08ZlOOaAvdAtLwcXXnghZr/3AR68/wH07dvfvpH02TeLbYuq7fp3c99BAbfr/fv2wwMPPI4333wfF116LdKyOuOQw0/Ahi20fS4CeuXO3wYqtkxI2Zayzrh+fhlY8DW9evDVK1X61NZd/qJ3tpsYLPTGhfpsXbsY+wzrjY5de+KO+x/DS889jYP2G4X2DJ4ffbEc+gKWgltj6SJceNpYZKe1xaRJk/Hyqy/hyScft4UtMy0XL7z5GYq44FoSVMad68O324OpE06cgNdefxt333YXevbsjV6D98IPqzfamwmyGx2D6LigjoFW2/07LrvcMkJlxlsof/mVPZBkFmivhFWuxoLP38Zfcwrw6NufcptOm9ZbOZZ8kS/FFWbI1cs+xtAuabj67iewmmrUsSWUJDBD1auQaantcMRJp+DyG27DZdNvxLXXXotrrpqOy6++Ffc8+CgXh1X44fv30T03FwO7D8JlV9yKy6+9DdfefC2uvOoSzLj6etzAxX/e90tRzkVk5p1XoUO73zOTPRCXXXcbrr72Vlwz/Xpcc90VuHrGNbjqpvtQqLcGKjfa/NlJydxxnIJrr7seV05n+4xruShNx1XXXo877rnfYoISCnveZAmF6/dnBV8dcMc7e+BtlFB5raeO+rEOnX/MnfsJUjNzkJ6ageSUTOw95lisLqEjEVcplSKnog3Z98dbBN8QxPTwzYJvnLBfAjKGWs7XIPppoEUMyNVNpKJyBV578i4uDPl47NnZ9lK8v/vnv8gmI5HDo3od1i79GtkFQzDi4EnYWMzVnQLU1koZm+awM95ajQsPDEPw/WcEYPG/Ixn8neBLUPDVdn3SKSdb8NX5tBy0hNloRSMzJ67its0sX4y7Z5yPnI4DsHg9b6l7vd5Vv3khDtijL56e9SnW2JabwJVaZ2JNTRWo2LwSt1xzMbp0bo/k9CzsO+oovDX7G3tHslBnnjqaonPoFbGSsmJ/0itn27oM+/brgqMm+w8X6f3dBfPeR5dug7B+EwMMbUzZUSOdS8c/yoAauHjq3LeivBiTTznFgq++caQzXy2YyjT1hLqmdBNeeHom+vbpQZoy0HfYnrj32dexsrTW+8pZlfHr660bl+LRm69G//59sXtymv0WwrQzz+W2fLU9p5CDKLNExXoUrlyAqadNQjYDeXpWB/QetBduvPcZbCjRl25oSuVcLOzd0Qo7qtKZoR1tKZC00NnPh7hzhszXjx5sR0cZ2KLPYFpWRhlQZg0Vm7Bl3SKcff5FyMgtQHZqqv2IzOffr7YjIn1TU185Ru0GNJetwHOP3oO9RgxFdm4WMrNycMKxp2D+/IX27q7eTa2uarCHVHXV6zH309fsIWZ6ej66du6B8869CEs3FEHrsr7i3qxtuLJeZpulXBAVK+6efi165nfA6i3citMGmrn426tmSoxIu97v/vKL99EmrwDPvvux7Uylaz1fUozQDlRfIy5dOR/9umTh5gef9G8ask2vKDZuXoq9+hUgMzsDu2VkYdc0JnqZmUhPS2HsyaK+umPvAw+lP6zHc8/ehcyUDKSn5CM5Kct/fyajLRPDdshMTUNGWjZefONdbN5ahDNOOhQd0/6C9GziJJ6UlDwG+GykpqegXXo6sjsNxPqNFfST1di3bwf7DYiktEwkJ7djEpJs/fTDYqmZWThk3OH2JQ+9Y9ygd8K5C9SroU1NegngFwVfBZkE46LA9alvhejrxFoFDbHOd6hIbWe1vZHz6yuaEqodqBOnbRG4ykkhegXKtlJ03vBtntgcvwB0hNDU4Kuwshm9k1fJjFaH9DpU14G+XsgoZnCij3PhoKNXVDEAUFg0ailevzmgBxglFc22DTY66fS6Fn3+gE0LBoMT7/0BnGDHNP1rQbpx8DdTaoz/ypLo/JQBoYxtWjTlVOAuQA80SrkqK5vQ01hlb+A2v75ksx2xyAk1VgukfdGG4+u5zXXn11wuZ2Uq9mCPW13NI9no4YICUWODjh22+sMTLW7Eqa+e229E620UpmQK8PrhF8siGXT1HrW9SlRGm2I2YsCMScdI2i5K1mX81DmavWNL/WpB0S92uc01MeMRLU2mT2Wjdpao/WUD9Veml/gZ1EmffiHLA5zeH452chyrb3M1iT4uPFoE9OBED12VMFhA1zkw+ynghLdIJHdl/L5L3JGOfg5EupSdGX2R38kfaWN6Z7SSQUjJRR23zjqH1TGQdh7yqSYKoryUiyUXRT1/sR/KIc9ahPTDSuJN72nrHNd2scShJ/n6rYdiO06kPTApEl4lI0o8yrhCa/HWLlE/lCNd6lcNw690mY+QLjuaK9eXE/xBd2U9d72lTFIUeEmHaK+p2WpnsUUcqzkVnBVj9EDcjpx4rVhSU7GFdJUbTTriYNwyfeuNJf34k/3ADfmqZ7QqJe+2CJCWrWWUE23B9KKvffNT8rRfJ1Sc4dwV3KHZb5lQX9pxoZHI9eCtkgsLd2uaU7FP+IrL2IcJI29N70ruFB90/it8zaRAb+Uou5dv2C6A/SvoH8p89d61bE1y1VFR0G9Mz1HwVWl55isD20HwVYCVUizrs/ZyCka/bKRtV5Vlulyo7FeASpj9VNVTmBJoDI8yZw/AOnawB1msjxnadgb506Fe200qVjTrdw3K9P4pP+XE+lq0jKKYRqKvDutd1CYak76AEF6SF7862PdzbX+pW0cOWpkVuI1GOkYQngdfP/IIsCO6/nXgdAikC9GmsyXxpFd8FITsWzsEKdrkQBptsTN+ufugjuSUjCbGu+FhnY4NFLTtXJNBUgHX9E3D1Q/66CgjLLgyMj+vpfHRUXVkoHd2NZcM0myGNNhTYAZbBZIKZpB6FqDsTM4jehPf+bTzQt6LZuG14E5QvWXIWlCqC2k/W1jPxZ02F7cfX3AUtBToaxhAFExDsDUZMCDp9TCdVyrrVjDTPxqrhUavMok3m0+vVFFWkqPod7tX4I37ga5dD9vq5+dCpEvK1u0sCsJMBsxvGFCUcdaKHwUD2raSCxsn3dL35GP6+nMx+2kBk01r5ybeJGNlovalBvq3gkw5/ULvhFc3SF7+XqxA40wHeotDgZhj/BtjjA01yuLkx5S79CE70mLIOczPzBYVUClX0yFjA22mXA+GGzifJW/ky14LJd20Hdthyr70bMUCv9rcH8PZsh0pcqGTDWqnXMaFSAmCbMYWAsacUmYVljjKbgyPfnXOcem1Ob01IrAkinaoV8z0U6ra+YgXPaiXbGxBID49lzA9Ux/25hR5sWMxxjvtAKR7s10lJxwneRKFBV/xKDBbkT1G+o3peYfBNxpg5zH2oMmRiAADrYARyEB0hKCX37XCBScR+GtqyhL918XMwMiMnMI+dU8iFNT+GcFXIMcKT40DHbo2h6eTKosJhh36Bb6Mb96LJvEtgWrFlRItYBmNcfqdR/WNwMb+T0KCIkWfAiqv9eNF/gNGcRmYjGmUClTqK55cLlFmEgUl58WPhMS//6C495EOK+v93+8SDvvyiUFkfAnjzW5M19KzzxfsSHRJ13qgZA8p2C456zORv5hMiUNyV9aqeTWffgxdxz/2+xXEJb7i4PNo0bC+DBwKDsHORJtAtqBzVWU5ZguimTx6e6CFuGJ86N5tPBESad4ZcHya18F4NzlFP/zNOnvdSkdr5Et6lUxEb3ggpz6SVZCD0ye7jvuW+LV/BifwFPmo8JgdRPPLf/04MMJhYzzoBlkKf2wc5/B5OD42zvWoe3uIRQh10onT6/oL8cTl7wFd7YZTNEc8BDkFOw3tGh9iiI0zcF0bP2wL7YYnupbtmf1FeLb1a10rYMd/nN95c3y0HfqA7EcyCnM47gA+37bwI8GXkyoLImOJTuNMa1IxGR0hsF7GrQAcHFDESmlBiO4kEhKFEjEYUzwhBAc3lJ0BF5YHCxeO8KpN18HZXbASdhjn/Ik2qxPPhFhQiuTgQhXtwQhFc+QohJa0/E+Azy0wAzH5KWA6iKYgW3vxm06sYBP4N75NDy4jGVHgX+2+1XNckoP/m2vlkRESB8fqHxn0AO3B2HQcM3bJyIOGOZLJO9IH6dLZsGhTf7U7L86bxrhMCZxHcg9O4fYWLYi24PiYoG99ap7w9XIPSkF/ms/1KVuQXIQ/8C0e9al5jRezCbV7n6DnYKsxn4judwYcT8RzNL/4sLceJEfem05sMZFu2UYZuq78HycwOZptaqGVPByHIPAf7NfrJed44HaeNcb1HYJvkENcF5rb6XX9amywJdIfydDGRp9OT5gzxAfZiehyvEZf1C5eHK9odh0Iv3BoXksQlCCGmCI5al5CoElgso3mcDyaw/FIPmGuUB/0EKsXjcQp2xc4X3GaE3EGGTsfAVy/28IOgi+3aSJeqb2MNJrIEBtRGsj7SMGa2DIkGoQFPTmgjRHx7nQSkq9Q0aRkzIQXKdq2dYSdNWDh1LzCKzpEWxCwf0bKNQWJN41z3iQ8/RMo4sEFLed2vC2UY0r2MYKgKJ+7JT3/syCFuxH4Ss4Fr67Y+ZAj1vi7jSH4Sk7BIM2AeB3Th4ISndpl6c4uHWseyTJkMO5ICnIJEOHwvo5bdbYwE5/T6vObXhTEI/mqTfIMjhPsKNGgrU32xP7CrTnURzj8MxrLOZ1vD0Ixu02Y33UX1VOvNofVqU36937BiYUzEVzmkX39E+zXwecUbOvQujfbjmQT6A0ykd6traqZjt0c6Um4RG8cT+Db6VWy4uDyjvPnfbw+tGm8y8p9K7SbjOT7mod18QxR45wPl1kcbwiUQf4xHVj/iK8Y3tAe5lV7gl9yjF0rZlkm78mD5OV24G+IqG/A5TEhknmk75b8OigmCLxP4MllIfsLEOj+qbDjzJcT1FJ4egHZiDGCg9LCvSbz4BsMwj8FkVAiJmJbIgmCONxQ4/11/c8wXuGRYAwvFSZhu4AUCNhHQpeATDnijWN4L7o0JmyxJWD7MWtb2dXmRhDkEJRiuDSH8EdG/usBaeGCKL2Y7LUdt+BLXpXl6G0zZr6e+TtfZjTUoQxa98E5fIegIO0OIMc0PUXBzo3WwQ3OITif2QrvQ7vGSq6JBi1wnctOHDR3mDNAqBNoDtFofeUIopv0e1/HId6D04kHvc3gr2yJxjiPDoEWyc5xib/QZvbEeUJW6fURDQSfP8jTaf3ngNPltiZIoNNg+/7Ov+spHA9IvhYEbazodV+wACL5RTRrjCD0i9u5z2W2T/zmp5EeBM4/+0ZyD/o3f4t0azgpW9mlbEC41O7JltMR5nPdaLzbmeoCbUHewf6CnQhfoMdoUMxSxk4wvyVN9m8WWvD1Ma5rpz3YlvGWOI6gOoH9c0lMzJy+uF40znnxHYjuNcdPhb8TfHXg7g9xgmACMTElR0Q4CKHa/KfbLPPSBBpvhuHbGiM6Mlq1G0MURiwwRoTtDDi9jivQbHRHfIg/M76IjqBECVl8WfDl1jpkdxrj/MogND5aXUWvFBkpYVs6/qfB6YvrSo4nJ/A6N7ZAp11bRqDtp+pcRuY4FjTjuPTpY934gzMJJIOQYbXsGzdGx+OydRsIOnE9uN2o3vu747rjBH3oPsjb6A/3Bo43FnyVxXGcFhp/tzz8YlWkywhvoMPn9e29wGl1moTTHyhzMQuy4WfsmuOEy/obzp0Hl6OuA2++sOjebTaqV79Ibi7PMD7oRveh3W3U7MF8MVpMEvQY+ErUreYIfqGx8gvXGfsyqPni5/5t+qXsJBfNFYKv2RIXhJbBN2onaA6XofBwDtOD3oSIdk22mGqcdBTnX3UCl0tkq6TF7cVpdB6cF5OF2uyaPJGvuL2KPw++hocQ7M7shfSbXPhZX9lsn2qTj8n2g826vAO4Pn4Mtgu+KiZMBl894RVhcSfQBHEDV52QxIUt5vwcRn1iQiEhbjzsY3VBgG6wYsRWa6vbnsifDi5UCdTvRU+kYPEUCdUNlgKj4QTjMcUbP06X8cprpzMaFykxrKzWl3XBaFvS8j8PTmMwJgfR5YYd+kUyEY+mB3dSjQ18BF7cuHUtXOG9U5evG6TLw5zSnNr1GZ/b5aw+Nsbo8Dp3jtAeaHNwW3JebP5IhzF58zNRL2Gc25k7ZKDDshKj22kV3RZMCKJPtAcawuIS5nXcwumLbZg3yCjQKV+wM/YEWnYGhCfgCr7j/qP5RWOQT7yf0yS58lOyUaAIerI+kU2bLyj4ehAy/Qe7jvAGfYVPnesLjwUa/RCN2b7sxzPsGI02T1xGLlf18zkCLWpzHlyvGue24XyaHqI3PGx+C76qj4Ivx2rOEJQ1X9Cvy8KTDrNBzi0c6q+5gt1pzpgdmEw5NqInzoPLzPBGu8oQfC0YizfKIiQ5gd84uG5+DFoG3yj1NWFa8K01puJCEzFR8I1AfWXg+raKC5z9yIwEZ0In4RovAcT7xQ3K5pJwCEF4vwwkoLghqU5CkXDCeVgwVHcsKkxfWomCr7bpIdNVuyvGFSeeDYjXeDPDcaXHaf7Hwv7XgdMQ+BMPbsDSgfgJAUlyJv81xeS3yAKKj5OOHdRuBsc2vcGiB6mO04Oe9ae8ZANBjmbYhMSgl+hcQTdh/riRRzJL0FkiuOH7AiDQtTuuaNEY0RLkHunG8Mi+fKyPkf6IhzpVIBGIFt8uxuexcZor0r1wqb2s3jM158HHOn3Oh4KvHasYjTsDzkuQk/uHB0rnRzwqCIonv48D743PCqNXb3KwCxr0ry1wYYgd/Rkul4fz7zgDHl27fTtNkkNTBbNWyky+pOAbgk3ok8j3juoMd0zHcXsRDc5H1C+Sp12zvwd32qXsijTLpkSvxoYYpDbZQ8iIA+2hr9psTqPHZeRZuvTmena6fBGVnRk+jVUAJzgex61+wV9M78QTo5/4E+0uDqE9QCTr6lqPvCye+YbgW+vvNYqQHwu++lRfESdw4kgoVy1fudxQY8GXuLYPvgTiDgb9y4HjpeBIyaaAEHwjeoMgQtBwOj34Ktj4Oa/Taw/fIicVz4ZLeCMHNyVrzmh+F/q2NP1PgdMRDF50SW8h+Io20xVloz72z+nXFvpbKNK1GRNXdAu+rp9Y8A3HRzFepTvftrreInnaHMIVN353LIHGygYcv9WZk0VtCToLfDged07hF6i/y1060BiftwXPBMNjTuZ2ZouM2W18UdV8cqhY8LX+7sxur65n2UMpbda/Cuu+ELNV8WB4nUbR7DL6peC8CL/JIPhHVC8w/iO5JMpOY9U3MfiyyoKvB4nwQM7xCY94N7/leOfJIY7faWmodNsQr/7EXwEvkpvmjcY6bS6HlrKI2qNP14vjN11F/WL4DCfvzX5pM+qrudlXoD7m0+TLeCFO03s0R6DDk4BoTqPH8YTgG/Qc2u1YhHXC5fEsHnzDveGw/pSLLbpOq+jXp/O1LcR5dIjkkRh8o086pV6orzYG7OVnvbAcvewuZCacCFQXmA3IgxB8krgigmC8398j7pdCfE5BC2UmzNOCHuvv/QIfJkSDgCtujIn4f8sQ583vnX+/D04dl70bU5xfwfZyS2yLj3VZJX4KEu0hDi3x77h+ewj6iNep//ZjWvIc8AdayUuEJ/AZ9J3YLz5XvI8HGq9rSce2Y/7ZEGjfUVuARDl4f+NL9QwsrlfSJzojCP1b8v/jELcN94OfOm7nQXMG/lrOa7wkyDzR1mN1O6Qz0llsfHxc0KPZUTQu4NgeT7z/tvU/Boqp/oWc+LW+5aeyXfANn9siaYVWaIVWaIWfB4nBV99407V+80GlRfBVh8TPcN0KrdAKrdAKPx/+buarC/slooRAm5j5hiDcCq3QCq3QCj8PEmOprvXbF7HMNwRfVaqzPhODrga0Qiu0Qiu0ws+HEFNDPG0RfO0vi36zV6BArMYQlFtLa2ktraW1/LISYqk+FV/DvUos+P5YoA1BuBVaoRVaoRV+Hvy9YscOKokdd1TXWlpLa2ktreXnFcXQH4ujscy3tbSW1tJaWsv/XGkNvq2ltbSW1vIrlNbg21paS2tpLb9CaQ2+raW1tJbW8iuU1uDbWlpLa2ktv0JpDb6tpbW0ltbyK5TW4NtaWktraS2/Qvmd/RtC25Qfe7tX9QFiZbsKlsR7u/av0/0rSnx6zbHtPKFuR22h/L22/4ni88f5CCVOU8v6UNgeNfxo+88tMSKcph2VWBcr2/RJJKQFHu8Xxnq3xLYdtauwvmVFQomPa1Gsb6iPtwc0LVAl3sTGxfFu1/9fUaIJYvMkTPr35k7oFpWWdMdKAq6W/UOJj/PS8j4+jnUJuLzsqJ9KSxzx8iP9YxdhXCJs0y8CfTRGt4kloUu8rcXN3ymJfezaadA/MBzKP8YZp/sfFQbflp2FLzAliL6GjPqGJqtviMBfHGZjI2sbGr2v/oaBujRE7NOsEdvPI9iZovGaQmBzGEQNVjRvPav1T3fUE0QL/+dHEz8bjS5Cg37g2L/2J0EbCpGqvv4R/Ynfx+p3qmiSBuJpiPHhOL1en428DPUNDXVRB1Xq2mlVu/hR0YcbC/E2EbzCoNHEozbxyg+vNoiqOUxyEmis61UgOkxmao0GNDbVGj63DO/QFIkZTawLOjEevVcd/+iz2eaoIURz2V9va+CN92ab2Q8vzZgcre59fL31M95VF7U5JsmGumdlI3EYNqLyLk2or+Pc0bgYmB3E6aklGvUXJsnSKoOgWeJXv7AIQcRfjPSoTh+q80qXcdBdY73bi7i07mJccqZN6D7UWxHPZJxSMjA+Ijw2znpH+gn+wE+znai13mhUPelgpeTotKiV+DWH9dOdGl2Gfq06XUkPtFkb5/2lZ2tnVVMjdSV9RXptbqhkW4PNZ/1UGGd8skbD7tqK5BLhUr2sSqA5VNdUF+wobs+CBhqT2YI7hg8IjfURHTaD02Fjomb7E/W3e10myFO/4WB1LUC8C+wmMfi6wgMITaAlBGBd11ApdQGJCJRA2BCbVt7F+wYGaytBcWFMVIRLsDNF44VZc7txEDRFDLHuqURUc/Go8jmjdl1rnDkWP1VceKyz71/bpZWESyu637bulxWXiRk+r3x2FdW7zDSP6hsa/L6pjguJIpzJ1XtVskOgRwtIfV0Vr7Tg0DxpNRawEviulQFHRff19ewQ+hhGma5Mm07OeVSjZkF1FP8bGj1w1vNTi4cFbTWILILTSzDdN9DQPVCHoq7W3kham2ttYTG8hFp201zW35xN48h7CICEJjqynDnQZWtG1NbYoMAq43cHUqnhh3Crb70WLiNUd5RxE++VRMjQ6Yj2OydsCf2F1gKKBZWoiAaRtTPF6HXe4vM46F7g9wqG9LpG6VN0cBEjiD5rlrGanH2xUVBRUdA1NnmtVvmu3SjYSJ6SkcmJwYUNapLtq+gjjHO90Z4aCZqKoBnqaFs2hn8D/SZ7sx0CcVuwJgiPgr+NZ2fVqb+hrnO6hKOGFaLG9MbFUH3EhhXJqo7AaCyJKQ6JeuNWHYUjslfnihUmL9XwMpojyMcn19w+v3VXla4tINexVcGXsorinIlaXfTJvroOgVn4lJAYzlCiNgchj4AV0bGDBwBv9KJqkahPc07DR8aa5WycQAYsp6iXkIEK8qhp1T8YpQh0ClURwIs1+eUvLhofaNxWiF5EdAXvy1nlBs6kwdqDkhSaFapsiKyCF64Aqq5eTiz61Rjksy38c0qM5G3wy1AskBkd+lTwrbb+MrAyXoh+8WZWIKZkOE1FhELeuH6ETuxoTay1bnIcBRPh9G66lbk1WuCmZBoqOKze5pFLVbGrzWNFAYHOEYKC6BNyF2Es+9DEkqMFTnOoElZVmw8Jr03cRB0x4NXRCYVfpFQQicbHTEdI7UL8S2vet8Z48WbJybqppq7U+zGwy3EsYAjYqkxOY+osmFJ6TeXsx2vas/p5G3Gzs0TqpZbNWsBlByxCFKNrZ0pgMIIIn9AbMCO0AEmZ+ULFYMC6kMVriC08Nt4kR2BfZXusUi4kOQtCpil5eJCQ7CllLT6sV6Yv3gWxIGTAPo20p0bqjjKS60s3we4U8NWtXrFAOJspd+mUuIVL/cqJz+xBeDnIY4QmZCt3ppKzrI5aM58UPv2Rv/o1+dHOROOE1Obios6/0lW0nhh9IrCRttYUdEvMJVzRRYfkYJFAQVmM1HG2mjLWOq5KVss2NaeCrmYxOdOOUM9+USCXbZhMBZqfnx4faJeSLevCQqYifC3iBytiZ74abJNExTtHRZIRIhLcbCKkmLSVZ4a19LsvkZaWhuxOA7GJ8jYZqLtAGAxJwqT/5CL0NkXA7zfRRwMWfTUbeel/RrvUNOyemov0jFxkZ+cazcP23Af3P/M6pB7PBt35bNFwsfIm0J0ALep2smiuiOZ42RY/6VCAq6/AfffeiQGDBiI5PQMdunTHlHMvwIbiMlSLbnVVhKmpwJ3XXYiOmX9BatIuyMpMR9LubZCVnofc9v3x9Q/raJpR8JWhULdfzPkK3bv0RmHpFtpBJWrLNuOeW69Hfqc8pGZnY5/9xmL+V0vN4GSQrlvemaGJNhl6A1584Q0cdOhxLZ3IeosX9qMT33z5OZh81iXujHSqlT/Mx0knnIys7HykZ6Zh6J574MVZH1m7bNJ2U3IUOvNn8+Zg7KGHICMjAx0LumLGjNtQXmW5NxeVZlTXi0LxVYH3X38We4wYzL5p6N9rAB6871FUs6PoVy8fVUL/34ibbrgR+e07IyMzDwccPA7vz5kfcy7fjhMnwbIgMRXU4wzuRAmINAchwqcPv5R8uXMr2YpbrrkKnTvlIzMrFfuPOgDzPlsQC662mCroNZdh/py3sd+eeyIrIxtdunXGeZddgfXFHkjMtmW/7NtcsxWPP/Yo+vbtj0za0x4j9sbDj71oAUjU2PzKdhnQa8rW44JzJiM7NRU5me1x2PhT8MU3K2xu6Un97S8XvfVLF+C0k45BTkYqsvPzcPxpk7GssBzlUqZY1eovm2ksx/vvvIKRwwchMzMTXfr0x+U33wOFQqrUcGqI0WGJEWsUZWtr8eazzyM3IweffbfEgqr1EW61265MsihBU9lqDBvYGxPOm242KRkY5gZ6PZOLd156AfvttQdS05OQ07E9Tj55KlatKbaFQHi1CxPihopSPHbfnRjcty/SUlLRoaA9zrrgPGwqqopl9lrUYwFWLFpMCSWhTYXtvws3Il6MBmYF9kcZi1ZfpU00Pjt3lCE2VmL1t3ORl7Er2iUnIaPTCKzmwlhDdMIhgvRpxZBFJYY8gZCdKtvi8WufsgGrvpuN9hl/xOgjjsI1t9yHGTfehuuuuw6XXnoxhg4fhtScTjjv0uvs9ETFV3FuZ5RxelWcZkeaUHaS/oBTaKLrIH9TJ42tScuqVumSVTj6oJHI6dIP506/Ax9+8jHuvXMGBnTtgBGDB+CHtZst2JluGspw1qknYdSIYbjttttw9fRrcNsttzJQ3YDrbrwL6worbI4G27VonnrceuvtOOOMM1hLs6Nuz54yBR3yO+LuB+/HW2+/jtOOPgLZSal4/u0vzIhlBW7KhNpijinCm88/hsy8/hg5ZhK2khG1hnM1ZdRWU7QeY4cOwBvvf2z0vvvKS+iQloJ9Dz4cT738Bt5++yWceOJhSM3Kw4zbHjTHNqNt3IKl33yE9t0HYJ+xJ+D99z/EQ3fdgd6dumL8oUejiGS7E7IvM953X30GuZltcfIZk/DeZx/gtqsvQkFGEherq2xe060CS/VanH/GiUjL6YE7H3oBs2e/ihOOG4uMrK54+a3PjE/l/nIdyUz6idZpTeawM8XGKxdT+HSdR2khC3XZXMw4uQlnTT4LnQp64q4H7sPbs9/AxOOORF5mLl7+cDGYk6on+1bi01efQ17b3TD2sKPw5uzZePi+6ejTpyN6jTwSqxlvasS4/Ll6NS45/WjsmpqHE6ddivfeexcP3HkzuhZ0wgUXXGG6q7ZUeQtKNn6D3t17oFuX/njmhRfx7jtvYuIRY9A+JQWvfbDAgqX6i4rVX89Fz5x0DB95AF56czZef2UmDtx/KJI79cKC1coc1Y0aaNiAR++4HO2yMnHM5KmY89FsPHrfbejcoSPGUJ/FFLSSIulK0rciums3YcsPn6N7Tmdk5/bC3BWbjX+3RzJnuzDqtW4z59mCK885GdnpaThy8vXYQDRVpjf2adhC/o9BUlo+Jp17Jd744H088+xM7NGnG7rm5eOjBStsflFQW7oWh40+HJ0L+uHqq2/Gx3M+xOP3z0CvLmno1XcQlq4ttvm1+Ls5cBJdBLCiiSX8iBcW+9eLQ7s+487PohVSjm8pOgnW9kTXzHrPPPlo5Lb7I9pnMqtM3h2pBXthPSUlJYSVIGwC4whZdG33gZidKXGGYmgj5vy6Hiu+fA3tU/8Dt93/iAcNb2BpQFVlKSadMgF5OR2wbNVmw2S0M2CYkxFi3aOi+23rfnERIpEriJCGeY0vC4y8pMznv/kEumbujhffmctcjXQqE+TKXrF4Hvp3zMbkS6/HVtY3Nlegvnw9V/vhuOyS61DLPZRLh2PqG20lpwY9e7MMiFlVTSkOGnsYXnjxZSpwKz57+2WkcZfw0ltzYk6F2o04/7QT0XPk4VhB21ZQtL/MMDcuX4CpJ45BetKu2DW5C/Y5bApKiVoGqWl0hqrg28SMpHDRdxjSqSNWby5EJRvH7X8QjhpzKEqJimhZ+Le5HFdcfD5ycvPx3Zr1GkkfWI7D9huIfQ89BWuVZBviWiz7/CN0b98B9zz1DrYam7Uo27wMvXpyV3DWueZANeKisRDvPP8oMvJ64c2PvneJkPd5sxikU3bDq+9/bX2bOTfqi3DG6Wdj8ND9sLGiIpYB2a7I+mgwK+xcUNc7X+xhmOlc/iZLJH7JomkD5r37HHcEnfHSu/NRSlnasR/1dOapE9BlGPVBv7NFp6oQ+w8YgGPGjEdRhTJdEte0Fl/OfRN/yxiAO56aZzauxWn+qw+ha+pfcfvDz4FLpyr5fwWWzJ+DjrlZeOyl94xvoBC3zDgLubld8fX3m3yBU9ZIfRy1V3/sdcgEbKLBmq65LZ9y7OHYZ9AQrFpb7rbDxaOkaClyewzAiWddaf4F2mjlik/Rp8PuOPW8C80vzd6ZNc955VnkcZf68ocLGPZ9QTX9a5x2Vwy+Jxy4B3pkdUZ6Ri/MWbkFG9mk+RvULlvVcVPTVnzx7tPok7ubBd/xZ9xq/cxuuYPa9O376Ja9C2596CkUErfbOcdtWYgDhvbBgUefEcmlBJ++8zSyMwrwyqtz/ehK59pctIvXLkC3nv1w3hU3me1Ktnp4Z8+OjM8ITJeCoFcvv9OtO7tK1GCDfEBsxdeE2mKWFWLf3l1QkJOG7MzdkJH0b8jP57Y2f2+soPdXc5jwMUfmf3HM25dAzM6UgCMh+IYLg1qsX/A6OmX8J266/9GEjI0jtDVhpjDnlafQKTsNT732UWwFV2YTkg8ZtRxDnAi2m2dnisZrHkECLr/0Bn/DoQEzb7kBfdrnYvNWX2U9GyRHdIJzTxyHvY6ahtUm7gqUrf8euZ374cFn341JOLytksiHHzkUWfDs2HMQ1m5gWGe2cP7Jh2LofodhFSfSCaIH2VX47rPX8JeMbnht3nqXIwNFOeca0iOLwSEFZ15wGQ4/6lQcMu44lHKVMzpbTognn5qJo44+HLX1dVi7bgP22uNA3HPnQ2xhSKFT2Bafelvz1Wx0TPsLXpz9null9XdzmGn9BU+99QnDgaO0zLVqOSaM3x/7H30eClXZVILZLz2EpOxe+HhhiTmbBSsuTU1VWzCk30hcevEMykOBjRn+xAnYf69RKKxssCwrzL/go1ncMaXirXnfmBNqpywezC2sqJ8tY377C0uElkV4pC3hjPAqiFQuxYUTD8OAUeOxgmx4QCTt1NN3n76HpNy+eOuTH1hXifINi9CrU1/cdedTJnvZLbCJRr8Z/QaPwUmnXct6+mXdFlxxxkT07dABG4srjW+joZFBtXwJTjvmQIyfdKFllLUNldyKj8fxp51jzxdc7xxRswgzrzsbOZ32wCopiDSXbVmCw8eOwU3X32F5gyOtpq5LcOrp03DQoUehyh7wcdF75wXsO7wPPvj2W08a1FVn2asWYECHdNz2yAtWrwVRscTP5SvwyN23Ye+Bg/HEHQ+hQ3Z3fLJsc9wepA8dgDNJrNy0BHv0yMATt3CHO6AXDj3neqyO8ImuD16aiYHdc/HFD4uMf5FrczQtx+1XnYG8LntiJQloaCjBI/fNQKeOvVGsxxU2EedoLuPaX4LjJkzjTuwklFA3FjsI/gCUF9FDOo6KQLPo08vvXEks6mSZUHRt0Sd6MEGwQQoEZSU4sHd3pKe0wVvvvoC7bp7G6z8itf0+4GJnBGjLrlXcz9R+rDj+nSuiV3N4mI/zoQt9VmPDglfRIen/w22PPm3GpAc0zh8NmEb0xtMPIzc9HXO/X29OphUsNtyOIJyPgD+02UXsZidKwGO4gkziSrJq/dGKYA/enF9/8s3QWLEcxx44EoPGnYZ11rcEy+e/izY0zNfnrohe0/FF1B4i8c6MROhte7YaH742E6MOPQElaixfjdH9OuCI0y/GBt0SfMRKFK2bj9yew3DjQ7NQawJpQuWGpTjjlCPw1aKF9lDl9MlnY9zY8Sipq7VRRrvmsgck9ZgwdRpuvu8BZ4lpRHhY4TyzjzlQJb6e9SzaJ/0RL733vgWct5+biR7ZKfhs0UrTk8KTn9stxn3Xn4N2HffCGq0UjZtxz/QzkVwwAou4Nnmw0N8KNNeU4KxTpuKoQ8YzQylDdV0xBvUfhjMmX2j4Yr7AXUXVii8wqEsmbnzkRYUvx8NGX5RNmvzUKKv4xUVyELjvxfVrxYLvEozqm4djpl1u+rDg28y/5LN03SLkFgy04xJZbnXRKgzpPQCTJ51j1PnOcyu2rF2Mgm4jceGV95EF4a7AmSediCMPHhs7A7cZFXzql+HiSWNRMOhgLKd5qF4LkkxDYK9lNTHa1q3EhacegW6DRmOtolcUkDSlLVAaaK/zVVkAHzJiPxx69MkMvvIlzmhvTvjD3JjPUb5rvpqLgrS2uOfJl3zRU72QNZXiuy8+QOcuPfDpnPl475lX0TmjI+Yt25IQfGU/hNpSnH3GBJx6zGga8CoM79eVwfdaWrDltj6Z/J8zi0zxZeezeqDWsALXnjcBqbmDsI6d7VUzLuiKp8p6vUgwjCZ1Zdh/zNHYe8yJtotzmUdFWzP1N5BAglD06YWZr2d2ThAhDIiudd5SQwIskOrRY1kTjhy+P7YUrmfdVtx78yTkpf030tvvjTVcGews3QbLMBOMM+C19lCitl9cOD4yVgnfFRCBlQps+PJldEr9T9zw8BOmJHMitjfUlmHRwm/Qs+8wHHXSNGylBqRoC0rEK6yGLzaHGnTNj0TY2bIdHs0lubnriAbb5hqwrZaE6uzLHkBVY9m899EpPweXMNuxbVJTIWa/cB+y2vfC82/Nx9GHH4MOmWno0bMzrrvjFmzgUCUqFpQbGK2qV+C6807GBTfda/WNq77Dnh1Sce29z5mz64jDnIWhvWj9N+jQezi3ijfbOuAi4Z8mfxdSxzVnnnoGDj3kMGZJNQwULkc7smrYyv/XodfAPTHnm5Uua0IwWH/XUv3IReUWnDXxVHTp3BNrtlZY+4PXX4eemelYt7Xc6JTDWF7etAj3zTgTSXlD8I1Sw/oNOHfCwdj70IlYLXTqFmTH5OH8E0/FoE6dUFGzAcs3L0eHroNx+53PWh9lNf4wrR41Sz/GHt0yccL50327Kl7ZrmZ76BZ8woSwE0UI7ZOKMQhzqFRTH3OxZ7d0XH33Y7YIWPCw4MXgu3EF6R+KSefMcD7Z/8nbr0bXtF3x/KuvWqCuLyvC1ImnIbnzcMxbWen96spx0eQJGDloAIoqGqyf+wWx1yzFWeNHIT1nOFZr8XJCXC6yy+ataC5fgwduvwHpWfm4/pHXfDE0okmXPvXWi95iYNCqLF6BCy48B22y+uDV9xfFXhuz1+AUlBqlQwZ97kS/+fZ77DfqcAwccgDnrrFdl+1pFajL1uGIQ/bBeVdfbw+X57z0BvnMw+eLNnuQFl7R37QBs15+EPlde2DZSqYjleuwb78uOOzMay05UcgVVscs+9SDSs1B3rhI1K/4BkM7d8Axp19u8iZH7OOvNEp2er3OtMB5fvj8LeR06Irptz9meFsEX5NDZDA/Fnz9rIkV6qR66xxds6jdXEtnvaqXRExTMsAtePCmk9Ah9f8is/2eFnxduPojsp10KxHegP6fUzSP8HugMryxC7WVYd0XL6Nj8r/jD+m5+H1uT7TjapmenILsjDZIS2+H/Q45GlsoORmgHDox+CqDN6eNArzhbIHfOu9cMVwJaG0eytpA8neZms7NWAUylBqUbFiNgb17Y8jwfbC4sMYds2kL7rz6bCSltEde56F47KHH8cl7b+GCcycgPS8NIw4/BWupFr1OY85SvBT7D+qM1+d/a4G2buXXGNU1B9cwICnoWEA2PfKurhA9Bo7CiVOviS8I+rCbejvKOXPiZAbfcVyjufWjfNypKeCaNVj04WvoM2Q/y5Qka5eqZC1eeWevHRXj4dtmIDU1H7fc+7TNrPj+0LUz0C8vDxtKy6Lgqzm12n+LT994ACl5Q7mF5H3Delw8eQyGjz4J6yk8BYX6KlKh7nSGB665Dn1yMrC1fAVWF69Dp1574+bbX4yr01ghHVUrMKp3Do4++2pbhGyxYrs+5BOi2YPvThYhFASd81q3jrkaTas/x7CCJNz44LPYzBrp2I5RmotQV7UF/YeNxknUh+RkZ7ENW/DozZcjKSsHbbPzkZPUFr27dse85cW2jTf/pP28qR1fym545e3ZKKGcfDGrxcqPn8eArLbIbb8v1lPQxrfRx4EMkudNOgxdsv+K9KTdcd6lvjBFLzSyHxHJPnVmXVOMQ/bsjdy0PyA7KxV3PfSaB3k2m48Jpz6ZAKz77lN7OJqamoqePUbgy283mI7V3xbkxkrcPuNqDBs2DBur/a2Nd558Cr2z8jBv4cYoQRCyMmxZ+RkG9G2Ph595w2VYtQGj+hTg6LOut+DrdNbTFIL2+FfBXYtA0QYcPWp/dM7rwqC+yY4p3U6pb+lFU0hHXFTK13+HwT07YMCQvbGqyD1Etq7gbK+YGX8apDEaaMxGn16i33YIjbbOeP9QWB3OjxUIzPBCICbBM284AZ1T/l9k5Y/EWtm+4dYfGZNIchYD4ujjn1gC3U57fALNW4ai72Yhr92/Y//jJuC8O2bi8mtvwx168j/9Ehx+6CjkZaVjvwPHYNHmOhO2RikJU/FvA7lTCL8rWAIRqANhp4vjdNk62GIYKapG72Tqin+MHJuX2cqmNRi33yjkF/TC3O9XmKRtK1y/BdecPQkj9jwQKzdpz6LC1qaNeOuVx7B7Zk/c/sR7kbM1YeXXn2NA905YVrKVxk7DXvs19uichdseetOcSv1qub3SU280lKLPgDE45fQZ/g6sh9Yo+HL30VSD0ydPwugx41BOD3ODJC/aztWuxsxrz8XEsy6xIKBMwUWo91YZNJpp/LSn52c+hpzsDvYEmrWxY6KHr74GfbKysamy0hyzVniFqfEHfPTS3dglcyC+Wkp3rVmFyxl89xg3EWvZw4M/+8oRSNOD113P4JuFkvLVWLVlDdp32Qt33vumy12Gbk9cSV3FEhw4sCOOPPNKrBce0aEpWeS2/vK9L/o7VYTAkEQ6j+7dBCvRzMx3n+6ZuPGhF2Nnlg06dtAhWkMZegw4ACdMuZpDOKK+CDMuPR9dOxTg5KkX4I0PP8Grzz6MUcP6Iq/LQMxfUuh4tWsq24Tjx+6HTO4mzrnsCrz9yTzcefcd2H9gPk5Qff5+WMkpQqYqsmrrKvHFJ2/i43efxi2XTcX/r733jLKq2rZG72vvx3vte/f73nfPPeceAxRUJBdRQAlKMKFIRkUFEwaQaA5HPSqISDIr5ogBsyAgiiKKAQOIgOQMlav2rpz6633MNfdeFUCSx/taq0kb1N5rzTDmCH2OGdbarZonY8C1t+E3Kloc2dFFBSrCBw6kny9+n3k/wK03TERKUlvcdAftRvWoQusua2XenL3b8dniBfjwzVdxyXlno3ObdLz1yTdBMFGANSs+RnLLDlj+0za7pqfhvvrgHbRLSsSPm/cEfpvL65m49KorcfnYGxBRI1Jq3i6c16UtLrphmtmD7E65rUPGBK9U0Y6iW3DX9aNxYmpbvLPsF8cnb+ukssA3Fn+xjZL9v2LYuYOQ3qYbflq31+rU0Tj5mlWrej3wxtqxDgd/XYo9ZCHyABYro+TL8EIpjVNPoJjh2/VCvDZzNDo0+T84zT3dIl8DX6tAhcRO0GBQafDnGCc1KmKKNaB2C7DrhwVolfA/MeulNyxycIqXVvipOmKK1e7uqElTYssShq016gkta/i2jlknXH2+/ni1us52KUfXLhNvakDYu2MrzurRDR3btMUqAq8M36ZdOoSvhxioF63J6rqMqEqRZ/VulOVsQedu52H45XegwDbgqvDS0y/hqiuvtbwVNKPSnd+hd3oyZjz9nsnLwauklo2MPRuR3qE/Jt3yWHCsRtdpMwItgRHBd/zEcRhyvsDX3TXeFZEV7cKV/U/F/I8/dRs5um6ylekSeEuy8Oyjs5Gc1BLX3z4N2eyPgMZAj6D57H1347T0lthVUGiRjnv2iU5T/CNefpjT2ua96Yisq3wPbr96APpdPBnb2Lja0YMgRmXFuG3sRHRr2xYFkd3Yk7kL6W374plnFhqfpgVVS/Ct3LwSp7VJwJh/PmQRkw0CJmOS5ZReBL66eBRJ9YosxeuyZjSN3vkterdqjOnPv2d8aOCxXlXvR86eDUjvfDbG3XQ/v+fi+y/fQUpyczz0xDzTu6SrOioiGRg65AL07N0fOYXax2BiNFmWvQuzZz2Alu3aoVFqS1x++aXI2fwNnpk91TbQdarEIl8nGceTSZQa4GC66IPX8L+TO2HOm19Yey7+Yx9sxqi+OBDWksKj06aheVorLPp2tRtApFhlkx3J2ZRfEWjOJow4tw/a9xqEvfxatG8j+vdog1lPvGB9F6IIW1YQfNNTkvHDpr3BvkQeXnp+Blp27IodmXr6kZc0kBZmoP8pHXH5jVNtEHUzB7ZlA7KsO4qi3K248oJ+nA0n4PUl3xiYO/nrrzCRktSeRXkU+Vt/xjm9uqJN2+5YtTbDeqzja6pJ8rblM5OB+uTqcInXLIf+uhSc842Drv8Q+64UuqZGIuVkScUqc/H6jCtj4Ks1IhspraBvLGgwVEfMYC3fsUqqM96O+x7F3jWLkZ78H5j+3Lw4mNgjQRSbNg5K9uK6i4aiGY14m4xN95lkdH7UV12+Wikl1sQxSa5uX6+rXA072UlWOlamx6PF888rl6Nn507odWpfbNyy08rJjh1IMtFAUJhnR7dkrHIKg8GKnaRM9Og5GAOGjmGdjIo55Rt9xUS89PICy2emGd2Agd1aYtRNU226LWh0GxnZtnHTutPZePi5RfY0FBsjiUe1rifAGPmOn4Rhwy5BARkzh9QgXFmKgg1r0adtOjbu3G0OoLmEbXpIB0UZuG3ieDvyN/vJF5HPWwJY17YyV2L5/OeRnvRfWLVpp63xWfPVLvJ96oEJaEoQ3SkvrMzAMw/ejia0xy2sujAwCautugSTxkzGiCEjOPPOQWlpNvp0OwuTx/7DyZGyNpjh4MW5MHq1TcX0F94JycEymbJ89HvU4BtKqt6R6iTZVPhXDO7WBpfcNB3UoK36mT6q9iJ71xq06tAbTz//JvNuxVPTxyGlTXfsZL8VBNkjsZJUdRkWvv062rRojpVrNzpd254BwygO5pKlgZp6WbYT/xg3EqdfNBHbTMhMtBMN7uq6zQa10Yv9iOTvQNtuZ2P0DfdzhqYaNIthHnZCTys6LSl/MbJ+/QadWyTigWdfsyNk4kw8qE6t4Vo8JIBj+289NwuNW/fC1+ty7EGZVif830hIaIRGic3QNLklmp6YaGfDUxKS8LfELkhudxpy923BOaelI7FpIyQmMV/jFDRvkoTWJ/xvtGjyXzguNR1/ad4Zj7z2touo1eOyfGRtWYt+p/XkANQTX/2w3UBbOvBP1tlTkJqVVezGtu8+xkkdO6Nbn4EWcase8W5LW/ysLkh34cfg40l+HuhVifdqPOFmH4NCwR8KUndYIUN9CVXTTYnUEsN1D74prftgG5Xuj+QYWYPKzQaDa2LArsXyHF2KVWPharwda7OqEFu+/9A2BOe88q4p3Xi3ZROaoIyoaA8mXjYCKZ36YqtkrPssK+CN9TOo01ftiBmMji45ecTrjX9R3cGpBhtfC/DbL1+hI6O/c/v1R1aeO02grNKQOQa/FO7cgN7tW2Asp50CX5231aOW4LhflL0F7TudiYnXT2XVecjL2IROXc7C6t/yrbztokc24J8TL0aPARdiCxtQG85RM/HzN5/i7826YMHKbc5e7Gky8W8uRKMrwuRxBN/hFxF83bOQAnnJ+8v3PsLIAcNtGcXxLRugsxdn4B8TryYwtMQLL79pBi1SWZO/OlhSjJ0/LEK7lL/itYVf2rKF3SvX5txmXDfqPAy6YhIyJbLqAixf+DqSU7ri65+z4vUQtkoLs9Cpcx/cM/VhVss71fm4fdw4DDrjPGQH8tQOh/ha+/lie4jg4+/Xmt2oHksSpVjnh2MCvupf8EcyNblanWxE4Fu0DVMnXIauZ1+ELRSz6YODHCr3YO03S3BcYjt8vnI1r23DczMnGfj+RoZd4MD/DDwq8NGbr6NVs+b4YfMuOzK29MN30LlVKjJz3XE8bZbaoLP/N/Q5qTUmT3vc5BzJ2oELB/bCHVOmB0sLTHpIojoTOZmb0Kbz6Rh70zRer8D69T/h5C698fqbHwf90H9kmuC1d/XnnIH+zfxQg+ezzzyJ7l3bYtO+faZv29jT0UdG1M8/dB+Ob34qfthaiqy9O/HTFx/hu5Wf4/MvvsRXK1bh6y++wWP3T0XLlDS8+PaX+HjFevJUjF9WLsZ3X36KlV8uxzdffofvln2Jnz59Hz07tcR5F1+NBau24ocd2U6GtIeCXetw+imd0bPH6fiKUaz4MNEXux0Fe6GQcnNWsevHxeiY/F/od94ICzKVV0OQLN/rzc0PZG0iU0Asqb44ZpB4IfY+X3ezdnKZ3GFy96SSwnAjHTsrzyb4jkaHhP8TiW1Ox1Z6e+woV5CkFGs0dl3fzXpr5DuSpOJxJbMNv9DtiSPuvl8/RWrC/4MHGR3EwFfRWHDUZMP3y9EqNRVX3HCfRVsygmoOe76KGKj77+qLUV0BH1kK6vANerK+yEzEJ4Fy+7focVIShlx0CfZEKxFl8+LAlij51wxK5Up2YuIl5yI9/RR8tz7TALhYJsJp6txZd+P41JPwyYpfKLhMrPrkDfTqdyH28bbq0CaeQPaLRfOQlNwMC5d+Y/K16Vl0J+6cfBU6nD4Umt0XqgDbM1btf3JQSfAdPxbDhw9HEb1fhmnxIafx/7jpTjw280mrr9SmewSF0ghenDMNbVM43XvjLeuDgMD6wmT7itYO/2NEPmrwqeg/Yiz2eH4Jkuu/+coesnhq/gc2XVSUH83ajt6dO+P2G281wChSq5ylffrBfBzXvCsWfr/dMFSgsIpA3THpRHzE6abyii87kjbhZvTufR4dLWrTWvGkXloHROq7RrujSSputqUNPMnLua+rldd11Kx8N35c9BaapXbE+4u+DwYBKqBoF24edwW6nnWBi/gZxa9aOh9JjA4fe/ZNsxqTEWGiLD8DFwweie49BiCDN4rZyrYfl6JTyt/w9KvvmI1YosCfmj4TbdLa4Ntfd6BQYSDBcNLoATipdz+s2VfudCN9VOwnSE7F35I64tWPfyDP5L8oE2ed2hsXDLsY+/JdVKt1aZ10uWXiaLRo0cKOdGo2sun7pWjT9P/FjLlzze/Uf+Ut3r7GnjLrPeRq7FQnJIxKvctEMmKSuPhh2VuvoFNasvEp/k1mwfE1+yIFawTK2YyhvTpi5I3325q58iqQRP5GXDawJ3r0OBPrd7qzztY37QZSJypq2uCML7J3HU7p1AkjRlyFPMpaj18XkaQrzQCtuWC5wV5WRAbLdMwuSLrvSMwHxAt1wNdTLFNox06FdRDewNPuFeKlmROR3uR/cMTtadMdd9SMKfirMtao+8KkegOO7fuRJxWPGavVF2rHqBQbf1iC5kl/xeBLr8XdD7+A+6fPxkMzp2PmjGm49por0CypCdqkt8O369102JZTrEJ9Vh8DYnKX1UbQf6OjTaE62ID5s8jalQXRoCqyMP32q9Ay8S+4cvxE/HP2XNw/60nMnPUIZs2ZjQdmzsLTL77tVlOqspG37SecclJ3m0o9/vIbWPTFUtxxw9VolnwCbrrvIefApfvw2D2TcMfUOfZkmK2RqU1Fk6QrLrkE7Vt3wOw5j+LzpZ9g8uXD0CrpeMz/7DuLiGRiMXHbf5QJo9yJE8YQfIeiNHhJTjn/RUqi6H3qGXY+03a6TYbl2L1pHTo1S2Rk0gH3PzgD98yYiWkPzcGDs+dgzoOz8fDMR/Drhi0u+q/aj1Wfv4fGaSfhzOFjsWDxEjw39wn06HAKRpx/KTI5atqqA21LT1q9++KT9jjxlePG4OPPP8XjD9yNNklNMeGu2aHz3pRt4U5cN3II0tp0wf0PPYsvPluMMaNHISkpnYPPd+aQOg1ayppVxDolUj/swlEk40EVxcE3XqVkxNZ1nrQwE5cOH2WP90o2Sz75kIB4IWd0CXh36SoXsQl0inPssfDEpDRcM+kmfLzsC7w3/0VcMKAf0lI64OPFP9oAo+BJyzN3TroMzdqdhCnstx7XvuOmm9AirT0effxlp1/Lt8ce0W/d8WR07DMY895bjCWLP8Y9k0ejZZPjMfnOWRbJuodTCvH5ogVonpKKcwaPwLsfL8FnH7+Lq0cNRUpyEzz59AsmT3MnBm733XwVGjdLw3W334llXy/D6688hdO7pKNz61b4as1OA0q35iw7cqhjsi+rwtcfzkf7lEZYvXGH2xvQPZOZeCapDS19FO5Gv66tMerGe23DzQZY8vru3Clom/C/MHDoKNw750VMnfMwHpwzHbNnzcBM2uJDjz2JohJKtjIL9946jvbAOq68GdNmPIkHZz2GGTMfwqxZc+gfj+G5l151MElHcC+QUuPuu/21/5V03d3TxRj4HjCpZLw0P4YrqMBTHP3S6JQtWrfnFMa9FlD/+WKeaiaWr//GYaca1fgvMeJU6JfvkNz0RDRJTkOTlJZo2jQJTTid1LGWrl274r77pmLrTvfEVhEVa8WC7lkK16dkf48d/wdOaoOKJADr8d8+3TshtekJ9kIZRaUJjRKRkpTKSKcJEpokYtjFV9o6r0vlyM3YixsnTEC7tq3sxTKnn93PjhXJ+GwTqzADQ8/ohsVL/WYJk65rbZlOX1EctZfNpHNgksyGDR2M5cuXm/OYAymv/cfshqhuaUqnHS48/wJ7gMKntWvXomvnk5GdKdhWYn6OFB+88xb71BgpJL3oqGlicowSA/qMU0f3Vje2ymnp96tW4/wRl5kc2rZJx9R7ZyBaIMh1DsqKSczL/Es//tDe39EksakdyXt+7nPIpz9J13bUTnkJwMWRDMya/RDatutk8hw08Dys+Opbi3481sZ6Y/0O/sa7eNSpRnX+iwGa60tJtBCzZ85Buw7tqY8EDBs0EF9+sSLGn73xS3orjeLtd97g9Lg/GjdJQIvmabj26muwds0WG2Cle2tHy24VETz20Cx0aN/WfOKccwdi0bJvzR5iNmHRdy7taQ9uuH4SUpNT7CU4Z555JhYtdk9Q2mavhGKzyXL8uvZnjLrsUiSlJBN0E3H5yEvw9VffWbuq08xG/aqM4sMP30f3nj2QmpaItuktceuNk2knWc4fmU/1lxCBYzpQW0TvJe/PR3qLVKzbtBV6wMF4VYo1EnwuiaB3j5Mx9sabzfY1U5RP3XQdA6+Ev1PfaUhIbmEvqkpMbmp2mJCQQFvogLy8PPpeBL16nmwbmVpL1sCWnEIsoc/JThNYfuiFl6CYxqK6Vb0wN7aR6FPoo0+/D76/kyyEZ099Q/bUUoUbwX3QXE+7TCZF9/EoUp36Yxd8/eQlWAB3GxAuiTdhhgSmq97RVFRnAJWsS79HxyzF+a2XbERnPxTe6rMuGw9O1orkaM5GxpbWBeUMjEa1RCRjlmvE79OpSvPss5wnJhlb3yWZ47urtqHAPHKE2DlNJYfAjvQxIIGxO0TvvuvlQHoBuD7b33C52uWD5L+qLfvrwZx/rA4rx//Johk7v8beISwY1vqhfeYNZVUefVU1+uw/+iUQ5rWlNF1jhWHbFcVS+GKNG0eW6lRTo251Xh10/Lm/LumdHT6LPsjG3f6A67t737JuUl4qqm/8r4zK1Gcra3VqZmXxoElLNehbDHwlNJ2ikb2IAh6UT9Kyeuw/Ru/lDnxF7pWVrn0zWf4VyQX9Z7vP+u0d1ZZXm1VsTsRv4sdTrHyZ+scrKsf+FtMWdF/na+0d4sqkqlwDlvRRG2exwJFGU1WqPrG9ABM0yw2/AlKfPab563pHiZKzM1ev34jUFfmJt5tY0pcwhdJRgy+bc78KwOSZ1d+DtBmkQBBHmX63/mDD0AtOf8vLXYwkEphIcFK4BGdLN0FyERc/HIyOeQr4rsW/yA8iWpO2ts3gCBq8LbZrgKicxIjTcOrDn4jQ46RuOYUGz+hD1aic64qus4wASSDM78qrOkVqw7hxmWMDr5G3Ov+XJNA19nXJC9h/VplQ32qnoAojDYZmUySvR5WxfjCD/SE5JxGX7oEPBxQuj8h0G3zWHwdfAl0HVG7K6FJZuVtm8FQnHfDG4aWD1m9ycX3SWqKdo9WVoEtejPG85N/WHJWPZdgfuaT6rUHKg7DIXgCjfAJMyklylWRlJxrIJQmnZ9YrUA8icNmF8uq+nfVWIZ+PVwX8JvtQ+9KN8thA6T66DT6WscHPgJQ+afbAq8yg+vXNk2zAPQXJL2rLluScbSqvvdg9VrluWUazmTKiv5ZaBL6mYxMI61DgYkJ0SXmVhA8ecH1Sn/19n4wnXlJzelm/PiuHmg7bqZFuiELpqMFXgGCgECTPtF7kIibqaTNIAVNHmX6vfgdYThACKi9AX84rV5+dk/MDU0z4PuOB6JgnL5cQkf8Y0IXblsHxj/j3ipfS3U/kSCc0ao7s6pf7FhRVJwVMNHyVtXvMY23IqD1oB3pVmRrlSe6/QL7ii7xYFOEzBOTBVxS+HysXo5opyGY2JKqd/IDvoyqfHEgFACRQsUibX32Fqk/s8kMsErKeuc/hqOag9nvAG4eXfrd+CdAGEQdm3i7D5dxrR/WN9yyvy6/vZs8h0h8Bnz0oFeq76tU9YZFUpr/6bvdkF7QHDVLeJuL3mfjBRZC+vji/lpQxIP/R1ogtf9yGZJeeD/8iKA9uuqakPJZfgwdlU8q/as3fd5W7v2Ff1w6E9O1Pb7ESXlS/+C2QqXTvP/u/SnEgjSf9TJBvymaD/Ot9UGT9sPZVD8nfCKVjEvmK1JA33DDjB04BU0eZ6ulTkIL6vbD1f0jI3nhks/psyna3LfnfYDpIA/+y5OWq5A3U8+SV7/LoOv+aozjjECmP/taIHILIVgajBzLssi9Px/RTQRvx+Ul1WAv8ou8WMZhsayZv8GGD9dfiBhlOrMeoZrI2wsRysb5bcrzppq1CxJK+0IlsCi4e+YekQMsoKC5HlHt7xw/LWEnFDgq+qtvo6NIB64/doMwCHkW+/zHwCwo7ueqebLuUsnHgqssiv1oVT64+lQqqsLo9iHo9+b9qz+V2yXgywA8n5XBLDg54XYO+fQt2Y0ltSH9SCnUbcj7Vopo96Vdnwqm2/ROGXV425OxSX+I2qPLuReculRQp2ueHgFRO0a6SycAbCZOvQ3nCNq2kfmkZx2OIqistdbMI15jqCUjf7Vo8HRPwjY1wTCYAccUU+x23epNn7OhSPX0Kkq+f/JkhuuSdTGVqR+dST20njN38k1JclnQqb0zeIEji1n1jXxX12BNFcj43jVTPBc7qq+UhsNrPI0kuNDLlEblWVIeItdqPSfIvb5hB8m88H1MwqHleYoMVU9h4lUpL9RttTq7+XjyP/tbMr6R2RF4/Pqk9V1bO6+4oancpcGiTCvOorGOzRiUqR3fkJfXPZ3ApJmNXPEZ1k+PhaNMB64/dECPUpZ/5MJmP6a+uOHYDWXieXFToZBEkq0v54nn1ulKb7blbTGpLMhFRlvRryUHS9Mtz0oeXv/jSR6/KOOD6qDe4oRRq38nY4YbXoer0NuF1LH/095V0PfxdSd9qgHPIoX1e3VeL7kGQIDGfgNq3qeQ/q1y4nXAepZiNiB/+Fcm/4iWYJP+YDEg+Yygd/YZb0IAYDDNcS0b1pICpo0z19ClIvv54O2GhhoXlhenzxvsUEt6flMRvWPmaMopv2Zi407qbuDdF2/odQdM2kdx15RFZkjPKsdgfv+7tbdWN/GxHhmxLD8xHMHeRkMsjR9QL2U2Oai/s3EEK20FY3kr+s5e3A2T1Ld4/n5RT5PkLy0D1+DVCa4/X3H1H9ltiLBhe5tBtkWtbZSooy3h0rDp1zzdjdep68DmeXBtxOrpUt/4gBTe8Azsgde15pxdw+uV/JScPB3zh/L7vorg6dM/JzuryupDeJZfATnRPsyPVJooNdKH6gyvWpifvO2pPFD794uwgaJ+fvczDOo5F7kFfvO34pPp0xX6LMRxS6yIpZrcs5yNfXYnVE+RTUnDgk+fB53P8uWs+OlaKY0b8s923YmzLNm9dH41C7fl0TCPfMMO+jwdOnrGjS/X0KUiu/rjxxnN54w2PmGGD9X9r0p+XvPLlIL6/xr+ukWytSf20yJdRra3nuev65LTDyzJo6zP7yP9V3tflEu+p7wa8IicHb1zxfEzBvbCxhmWsFL5W26jjxuv4qZ2UK0xKqsPXEy5neciPd3ijWhX4Yq591hNIxnStS6Ekxw4Db83bvl1PR5fq1h+kWONOziLvZ0qx2yTjVR9i6fd4Y10BuPl+usQyWo6S7u1v4CcktSyK5Q34Urvx8j55fuN+Z2AZY7JmfzSo+yQbdzquTWyH5cO2WHtwtCWH4GJ4GcPnkb/XyOu/hFLcvmp+9kk8eKovebwxCukuxkQoHQPw/f95MoEEAqqX/uBUj1LqSz5bbZJ69dd4jYFmYNQhcineL18+luxL/H5dqp3i131dR0JHn8I8hulgSfclI+8oh5PCbRxu2UNJh1f/YcvTMh2s/rr3DlZ/+F599+sky1SzjTpl6+QhhTL4/HXK1KYgHeTW0adYhbX4rUN1UwP41iuoMP3B6RCtwWerj1wSrwLeON918yjF+1T3+sGodopfD7dzuHT0KcxjmA6U/P0jAV4lX97TsU6HV//hy/Pw6v+9dCzar1PWvtTKF8rg89cpU+8Nl37n9pGnWIW1+K1DdVMD+B6CkP7QdIjW4LPVppqJ/Ne9eJTpT5LLISfP36Hyebj5a6ejLf976VDrd/cObg/1pdr1e3Kp/roOni9Mv5/Cdbn66i9XN184HXp7f3DyjByIDpIawPd3lPyHp0NQklJYn2H649OfJJdDTmHdHQqfh5O3vhQuf6R1HCwdav3u/uHbQ+36PbmkOvxSltVn//G+LWXVzFcf/X6qv806yS6qXf+5ZjrA5X998owciA6Sjhp8D9hGmIF6Mhzg8p+QahqCT2HW6+ez/nL/XVJdvj2/9fEcv3bs+uvzH265Y53+u/BxqEk8eqAL8VtHKYfbnwPlr3nd6z9mB/afz1M336GnmuX/qHRAvg6f4T88NYDvAYwizHr9fP5rjOlIU12+Pb+Oat6P96NuOZ982UNN8bYOr9yxTLV5+LP4ONTkefxXgq9Szet1baBu2QPbyYHSgdo/0PXfS/WXOyBfh8/wH54awPcAKcx6DT5jF47UaGqnI63HlanBW6guXY+fhGCqcRLi98G35n2leN1Kde/XTj5/zXL/uhRu+1DA7L9DOhx+D5Cv3uTz/F6+w02HWu/B8tV/z9uXp5qp/jJK9Zap9+KfnxrA9wApzHoNPmMX6lf+4acjrceVifPn66l53d1j0imIg4KvK6dUp2zsft08tVP9Zeo52vYvS2E+fi8dSp5wOtz8h5JU56GCb5gOlg6er0bVB1DUAS7Xk9gGM9bNf6D2/fW693wdNetROlBdB8rPdMAbf14i+LqOlBaXoKykFCVFpfxcVodKiitQUsK/tai4tKReKin511BpSZEj8i+qL0+YfD5fxl1nP36Hatfzr6YYzyHS9eKSSlIFZc7vpdFQmZo8u74qT4R5o64Myyqfq8vVVyo9F1eisFT3pXvXrpUhxexBcgn07Op2ciosdddVprw4SnL16rrdY7u+zXgf4rz66+H7Pk/tfI5n8SaK57E2rB8VMX4dz0FdgY06/uN9LC2Jy8/VSQrkZPUG+eP8K3+cxyOheL8cf77f8f4FvNbIF/Bscvf9cOSv+3ux8gGF8/nP4T6E9Ru+72Ucz+fyen4cb9R5Sb69A1e6jpY629T9cuaXLfh2HT++j+66r7MuD4F+Q+T58N9NZla3K2dtqRw/ixffjuXnNd+euxbvvy8fb9vliZO7VpNH1/+DkS9XXKx3prjUAL52va6walPtev7VFOtniOwegdIAQuBYFgny18evu+ZB1AFUJWXg87r6BL4iBzrSvWu7sCxKcjIrL/J1heXo5BQDbV734GvlDXzdPWtH5UhWT3AtfD183+epnc87hAcGI58vBr51ATiWlyS+XR85sNQAX8lJzkv5Fle7epVf9apMLH+cxyOheL8cb5KXl5mvW+36wcvlC/fHlfNkfQnIX3P9rI/q4z3eRvzagfoYz+v6UBd8CzXAU2YC34oi9ivgy8nf9dF0XYtvrytHcTnEKGjTiN99HY4PydHZnrc7q5N5fFlry+r15NvyVLf9uuT67vt/MPJlaoJvEI6LGQe+xTEB1KQwM4EASOFrDfQnUAAGFvWKTE9eV2HDCq6F8xkwBfUE5bxTe6MxIyUJeEUeHFQmZvRBG66MA259d/cEUrrv6nd243mqS+H6wlTbiA9Ete3S8R/vV5wHn8/XqTZD7ZqM+F3y5SAVy+flrXs+jy9zBBTvl6v/0ME33q8Yb7EyYfL542Vr5nUyctcCnmKyceTbCuepn5y+JRfPs7OFA0W+vu4wD7Uj0XD7jgdfNiw7V15gq3txu3N53AAsHpRXZX3/a9uaq9uBtL/m24/zeOR0BOBbk0GRF0Dt6w30r6bAKcKg6q8FBhbPR4rlc9e8ruOG7L578vejZXImF72IdE36j4Oljyri4OuN24j1uLrCzlVPe0H+2tfr5y/oU+i6cxz1z/EUb7s+APJ16K/LH7vu66gNvrHytfIfIdXul/j14BvTjcnV53Pk5Rnvl/IGOjAZeP7cfUfK4/L6+74O374v66hmG/Xli8shTLofUJjf4J6++z67+h25csGMIyhbU3/OrnzdskfXH1e/2vZBgpUjeblptuZmbPxu5Ryv4bZd3b7vjod4247i+Vxe//1Q6QDgW0bwLbebLqMXJCkmkLpUI18NqttwAx178sZTf4QZp5iRMo/lDYwqlj9URvqLG71rJ1rm7lcVipyOZeSyDdcuywb1uIjHGaprLwQotfLq88EpzmN95JdJ3HfHj9a13V8PwvXVE68/zofP6+tRed4LnN7nd6S8Pv+RU1zmjmL6DOnHZHWAfP573X56/urjV99dudr1qA0XPTry9xU11s5X1//j9+tSOI/nyYGmJ92LL4u5fnubies5zpsDX0fx8o78tfDncB79rXnd8RfHNpfP3xdwx/2lZjuHQwcB39K64BsYYUwoMeYcxfLVoboNN9CxJzMOyjsMbDKQsMM6I3FG4/KFwFcGTXL54jqNTX+ZT/cU+arOqkIR66MtaB1Yf8Pt+umx8sbbCxHr0/U4X79H3uDrp/rBN0S6ZlSzrnD/Pa/xfKF6YmXC9z3V/n74VFsOji/HW9zZ6wdf/9lRwEugT/ddFNQR64/y+v7E2/PffTv181Q3X7ydmnmNZ2vH36+Zz/EY6CF0PYYxVtaVd3bDz1YmyBfU73nwvPnrvo+Oz6COoB1XxtuAbz9O8b45iuUL60MUynOoVC/46obea+nANw6udUHXd8gzGO9YmGo3+kdRXNj13z8Q1S5XXx/CFC4rOtJ2j5R8e2HyBhSPKj3Y1MofMxKXR+QiGdahKbUAKNC1jybqBV/+rYpWGADLkQvL3MkJq5f5xI8HX9Uhnjxv4sNddzw7Pt29sHw9z97I/XVn/K4NkV9L9CDl78frcxS3W5Gry9XnylnfVR/v1bgf1FO33nieY0GeN/893p/woBKXg+9XnDzf7rMvF5eBtwHnx74+369wPY58ewdqM5wvzr/XmV+Wkn7iG10B8JNiMlTfrH/8bnzVasvfD8rV4Yn3bIkrpjenK5/PfXb3HLl6Xd54/+NyErkyddo64P14Hm8fByKfz4OvYLce8C3k50CgdSjoCBuNO0j9DfvG/miK81L//QNR7XL19SFM4bKiI233SMm3FybJPwY8xqc3VOoqls9HduyDGb9zgDj4VpMqA/068JWOw2u7ulYDfEmqy4FvWDZB1Mt8DrzjR82idMT40SPd1z3HS1i+4b7VMO7AWfz1eL+Cvgf3PXjF6qthv/F2wtNI36b49vfj9QVUi89jQ56vOPh4/muCb80yNanm9TrgGwMp33/X53gZX95RvP36ZRjO6+/ZOmsw4FYVRY10SiRa6k6JGF8lkYAcD+EjkuF6vZyt7yLKxgYOKxPnyfizvnm9qUyIf2uHdQflfDsur/K4tpwMHNXQd53+66+juAxD/Kj8QShW18HB1y07hBsrLSfzvF5cXMo85aysEkWKftR5XvflREV0WP2kjN7qrs++0T+KaiulPhI/npfYX/alRH0h7/peWFho/OuHGUs4ABUVRuxzbeF5OpR2jwWJX8lSn72M45/d0UBRRTl1QOMWlZHvwiLxSMCjnkrLKuxaUXEBPxfaLz0UFxKASqvYtyrmdf0oLWeecuqwpBBV/B4DXwJotIR6ph1UyWHyXR225ltWimiUIMp7omihs4eq0kKUFeY6gOX3fLaTXwaWoVMWFaKSbZQV5qOCfwujBaYjkcqXEKTFcxH7YLZVyIGA7WkzOBqVfckpK62PRepvudOR+hQDHxH1W0S+445HJ7bgooTtsw7Jjjp07cgWnM16+5VNKK9zzrq6OXpSvaQQ+JpDk/cYkUdbDqQMykolW/kY81PuPr9sQdfVN8lLFKVM7VoR+1RYbn1SPslO/S2UfVfyGv1b+jX5s51SyZp/RZK35FfEtiLMo79q12Sk+5I5y+teAfPqZ93BvlSzbv20fYQ6twGXecqK8yjzAtO1/K6EtlfE/vm65UvlBPCyItpwpADVLF8YIajTfmRn+on4ItqO+JEcFDxUFLOeQIdeLuqb+iI7ly9IhoVRylD9kw/wvgNNV3dJWbH7y+/y9zLaprXP9gojTs6u7+XGg/k9/c7ZmmvLyZWBB+1Fdqh6DoQfyntY4GsGzAb1EzLRCBuk4ERSrJSpRvUG+rjinTF5oPsj6fdAULx5AYnEpxzLnJt9kgPru88jgXqhFVOZtYXn6ffaPVbk+ZJMPSBIxrpu/ZAhB3wUFhHMKmlM/Cve9BMzoggBywyxVE5RiEiEf1nOHJMGrB8BNEBjHQIpOW4Vjc6WDGTolZSVnFADAR1EMpJRmlORD7MbAq85keyE8isvKqBz5JszybkLS4HcIjpUJeynvHW/ivcq2Z6cSfXIMcSPHFe6MfnSqc3ZAp0on/pbEOG1CtqggKvcgWo5o2sbUIoqUV5SjSJzOg5AdCgHNFHrm5xQm8se2CRHZ/dxWeuz7N3p4Y+yY9VLCoNvGHjJg4GcQJX5RAJNlZEMJVfJRz9ZY/UQSKQXC5YC3ZSXcWZDPftTTAIU+YD0nEuQEahIjtKhgFE6r1RZyszrOUoe/HKSDY7k0wZ7gZ3aq6b9SFbkszKay5mRgJ+2RV0U0v7UhgbiqjLaA2WvgVORr3QtQBWoyQ/VV7MH2kVJtNB+bcJsj23kEoiVV/zIFkqish1G2hqE2SfTaYVsxgFkoQINDsr6wY5CwyzyXUxgJ2jKJgzXFGgE8hJwK0+8/Yj9KoX4cn2v4ADDgYd2qfLiVSR7kV/4QVsDkOqJRvJjOhN5/Sp/HHyDhyykPBs9LFIIg4tGDBdFFFLw3mid4bprFZU0dDLlnJxlmFcRStx4/ziK8+m+hzsskmH6UUh/ZWQSVEGEDkmjkzF5nq3fFI5IZb3Di8Jtimq3+0eReJFSpVAZu/ojfuQoAmKLfs2YyYucj46sSFDlIuyjAFZ91nUBr6JaDTwe4LwTayajCEE2YIZM5xPJLhQZFNEZxEekkOBFI5fjmKGzHQOrikrkKzqTAbKNkmi+Rb2SofLQVBgJVSAzTw5LA6WBV/O+gbOcngAomzG+FB17vXjwFYCbU9NBKuW4ikjkQIXIL8ozPgW+xYr0owJ3ArCCBDkK+yi+I1rrJgjL0dSWHEUyrZATsn9qywURrm+aEZhN0CHd37heBEzhqemRkeyKRN34+h14OOA132N/BRplnEnYWj1BT/rML1BfmFeDnOTN+iQTLe/k0zcj5E3yEzAJpDTT0I+iSh8afKUvgYoAxc98JIsqARbtxPTHvObLVJ4BKQFTIKv2IwU5ZouKeCO8L95lL2A70qvAS+3nMeoWT2UEw2pt0BLs8qKK1F3goDrzBYjUkey6qIAgLR4kc+mJdqD2WQVBWrM08kk7s/sE+lIFEoUOfDU7iyqaZjBRwLqk7yLO0lg5AwH2uTDPRfTkSwOKTvAIVIVbFsgofySnRvvCCJORBgvJIJCVBhoj9YP1WzTPvuXn59t9/UyTx44wfsgXDhl85dwCWJF+lM4pkyMqja9MjsGGBWTKa9NbKseXk3B9o38UeT7993CHYx2nkPxI7cFMvNq0lY4uQzVHUx/MKMi7Rv1QxBFuU1S73T+SbAahqELGnp9rfYkNDOxHJEpd0OAcPzQ6GqV+mVb9sCk7P/vlCOVRfjm4lSUo6ccK3TRKkRYdjUCkCNc5nwPtai0rsO4op4BZLKOI2p1/ZduUp5zEoh/xy0FOoCFw8xGBAFo2od81VLuqSwbuAdpmKCzvIwwZsxxSfS0Klif0c/aF0TzmVQRP4CET+ZRLIcFTNisH0nJCKfunv2UMtwWosmk5hqJz5VOko8BAbeppLDmxAEp53UxJsyLWz6jRfCHkDx4wjw34ilx98TbC4EvZEnSLOZMRMOizBg7jn/KX/eq67nsdlFQw0iURp/jdLUf5gbCUehNYG1Axr2zf9EhZyy80e9B9a4sAZP3kPQ3MxhMHeT+tt6CGvKgtgav5uvyM7QjoyzmoSsfGJ+9rwCwoyDNd6GfWZA8WPRLQVLd0p/bEm18es0CC9zULKMh3vLigTtEl22AeG1Q4oMqOBaga5AsUSLBvimq1fFAcALpIg4IGafU9TzbPwV7ty9asfeaJtc/v6q+WWW0GIWBX/9mOBmzvTxpMJGvZpAtWqR/6j/DGfJTk9X0A8GUjdFaNnmEjUIct8pWxsRI5gEYRrddZ1KJpMB3KohX2XEwIyDRixOv614CUyHfWnJpUHMlj98oNtOyeRm2bdjvexHcRLdXxH/ArR1RdAuGgvtrt/PH9csYvI5cSBWYGaDLswJFs5KWBSe5kn7KXQxRRn9QdnUgRk0VF0heNqqCAzkdDijAqVBShSEGRsNopJ6gqgqgo5lSPU3YBZYRTJ4G2NkrKozkGVNEqghZbKFRETWOUoZnRkjfjk0ZsUUVgC7Id8Sm7scjD9FJi0Y4GvdggQlkLTOTMiqSsDkZSAnKBtNkcnUJO5xyUUQZBukB6UxnWZUszjJDVRhnlI1LdqkeDk/KIpGtFO/bT6aUFAKNn9d1sPOCDVdOBBRyKjtzU0+k7ACUD39o6OxJy9dUPvtILeS/Os76XkASQ6rvkr35UVZcxCs52PhqAqMpGCjRYUsecLVRUOqcXCVgqqyhbysryc3C2wZaAJh5sKYM6tGUmkkDEZh8k/RWpHpstcXCNkA+RQEztSl+yuWrqWxhRQv9T/VrzLyAw2rqp7NZsU/XzO21BdUpPFmVr0LYBleDOurW0oMFRNm/LXvJhftZ9DcaSk37B2AZ/Kk62azIMBgQNJmbLGuxlO+RHfRfPBsTSN8sUWPvEQPqUSPKQjhUty2ZtKYL8q468vBzzPY8fslvNAiwokBw1sFs0XRM/1E+lQwJfW2qgg6kCheRuE4VTjqIsjjoSgMJ9KiAwapWRoavjNkWwuv5IkAqT66jIg69II7/AQVMBCV79MQMif4qyNB2WARmIBbwLxP47gK/4NpAlaaqn/hiQsU8y4HyCbBGnypEiKr/QrcPLuOWsAhY5rhzY1qBobOw6p1BARAbMum3Ni/eLijJQXcG/edQf8ds2vcrVzwjHLgJUSSbry0MGZZRNJyoqos1QdjYtpIPTy0iFFk3kUYac+dsUUH3RIC1HREUUyM9g4ahzRkVFLK/lBNMJDTs/yjrlkBoQ5Zw0dIG+7E790WcBiAy/kP3JI0hqI49FTKfqb3V5Hu0zhxGRBgTKgYFARPVyYCH7Fhlp2cTkW5SNisJsi9SqgkjdZkGsMy9KkGYBPz01AKYD22zgmIJv3J6c33m7cj7HzqC0SMEDeZQN00dtes2osID5Siupf84+jSeCkQFfRAMLVUI55RIQaRa0FRfh2SyI/bWokXlLaUt5eXkmf47NyFdfLSLkgEa7IfpQdZx90N4Y8pmcJRflkTw1S5DeZF/yGdmlDZjUGYgVZB6Z5CWLUKNZsnSppQ3ZaDlBSsAqcCytdGvE0qds08BS4Jgn+8o3zNEgaXtPBETZME3NfeZsR/2vLKLuNehqMI4owqf9KzKmPcnmbAZEm9AgbSSQpI2JL/Xdta8AwOlBg4k2j6tYT1UxZxCUm83syIMN4syXT3vx+BEDfemUcqqNH/WCr0DUQMev5QWkEUIRQkF+Np0waoZdUbQPj8++CylN/4amSYk4sWkKmrdpj1WrfzWGFNVoQ8RPhePGFKdjZ7yOfCedUOPAq1FYI+a3Xy3HNVdfgTatWyKxaQLat2+P8RMm4betO5FHodGOa6yVmSPT6eprS3Sgfh0uHVA+QX8UTSr6FdhWEwyraJB7d2zBbTdOQvNmyUhpkYyLLrsMa9ftomHRzgmsimoqy2ggJVlYsXwhzj23L5ITk9CxYzfcftt07NztANum7DRuRcVlpbvoI3tx9cgJmPvYfDoDjYlGV0InqSjLQVHOBtx4/VWY/ezr2Ef7EYgrCpLBiT/k70JV/j7MX7AUZ190LfawvAxTg0YlIw+bjhZk0at2YM49N+Oq6+9AhjluOfvlolatGb/34SIMueAiZOdHDXwt0tVAQsMvjmbjo/fn4/QzeuH4xo3Q4ZQeeODhl7Ejs4J8sO+UTwkHkfKSvSiL7sEzT87AyZ3bIzW1GXr2PAMvvfoO26AD0smkZy2zoTQfGdvX48aJ49CmRXPmTcWpp/XFU8+8ihyGavm0/3w6rAYEyerYg68jbwc1wJft6EU1pRwgCnL3Ydr996BtemskJqWg/8DzsezrHznQEdBIKqdNTBTvw6rPP8Cws89GYqOmaN2uPW69bxq2ZnLQ5KCqfiiCrmad0tezjzyAM07tgpSUJLRq1wnjb74ba7fuB8cdk5F8qDKaieLsnZg15Q50aNMCSWy/36AL2f7PZif6FfaCYgdE7sQLI3XqDRwIS3esRv/TumLk9eRBgwHliRIXwJUTKL9dvhQXDBmAZs1SDUPufmAudhPv8xhBKjBQxElBo6pgB5Z++BLO7N0TjRoloGuPXnjsuVexJ784NvgW5gvo92PLz59j7BWXoXkaeU1JxGln9cOrHyxHJquSDjWAV3MwAweB775YgvOHDkBasxZIa9MRd09/lO1X2qAuLFP/xW9F3i48/9iDOL1nV8OP1m07YdwNd2DzrgwUE0kLNJhr9qlBSUEn8aO2jkU1wVf/k+wmO1sz8pUREP0NALTpkcXp5y7cOH4kmjT5GzvWBAnJTQjATQjEjZHUNBHvL/rcGGcQwYZ8XR5cgukVSSPTsVwzi4OvHJ1TmoCyszIwZswYNG3aFBdeeCHefPN1LF/+OebOfRI9unVHSlIynpr7HA2TQqMoBMQSuk37NM2q1Y777B3l6Pn39djgZ9dcnebc6g/DUK15uqNbjFCyMnH+kMHo0L4tXnvtFbz19usYwO9t23bDjz9soswdKFaXZmLRBy8hNa0phgwdjgUfLcbcJ55Dl3Zd0af3WdiRzbroNBFGA+YoZduwd9sqnHLyOVj14z5b7xQoy1ALMrfj9hsvQXLKf2HqE/OQSSNT5KuIRVFDSSSbjWbivVefx4nN26Pv+VcRoBmVaSrMPijK0qBYXUSvytqEIX06Y/7i5cig02i6XFbg1rFffeNNNElrjf5DRyA3qsiH8qHtaVmgIpLBAf9+JCY2weALLsBHSxZZ/o4dTsHIkWOwM5MRK/VWUbSHEdcOTJx4jTne+PHjsXTJJ3jiiSfQqnU7XH/zvQbUipZ0+mP1qq/RvmUKTu91Gl588UV8svQzXH/DTWiekso6JlsUmMuITssbinxNN+zTsQTemqQ2HGm6XE2fKy3YhwnkpU2Hzpj9yKNYuPAjXHPlZdRHc7yx+Btky+m12VWai6XvvoZWicfh4sGDsHTRx3jiyUfQ5qQu6Hr6BdjGsU9nb235Jms7Rg3qi/ZtUnDflLvwySef4MknnkF624447cz+WLVxj4F6VXE2KvN34qYJ16JTu7Z45OE5bH8hRo++mu23wMIlXyE7Uo0i8qAI0HxbfJdxhlawB7NuGI0WCSdg6Pgp2E7/EkAL+FGSgZ+/+RTpBPPBQ4bh40VL8PgTT1uAMPSCy7A3WoZcyttmTATpD998Ea1Tm2DSuOuwdOlSTJk+FYktWmH8HQ8gS6DKtjniYuk7LyI96a8Yft459PU38eGiD3DJVaPRuFlHTHvoBeRxkNCmJaL78evKJWy/OQYOHYYFi5fi0SefRvtOJ2PohaOwl33KLalm/3MR3bcJl104HK3T0jDt3rvxxadLyetTaHfSyTil19lY89sOsw/NBrQJrNmFLcdqFlBLvx58lf7NAl+CrxmUpp+MFB0QOAPQeogKacpTXZqN9d98iJZN/4pGqel48KlXKHQ6aOFe3HnNCLRLbIQzhlyF7bQDTW1t/YV1yGilEI3k7kA26+RUxQ5SWztx5g6PFLFpXZBRETulDR5FWKBxabqj6eTkyZPRhEb69oJFnHq46YpNp7U+Sae/Y+yVaJeWgo+++Ba0TWTooQManTZrKth372TugDj7wM8xwDwq3lkP5eDWFJ3RGtmgJ7kwD+VVXMIplEZpGmw1p5RP0UFSU9vgx9XrrH3xlJOxFwP6D8all16D7AK3SYO8DRjYKx2DLrgU24iW0nk1p2yrP/0AbVIa4+HXF2AHHSaXepLRomADvl78Gk499xJso/g0pSstzMBXNN4zTm6Hlql/QULKCZgy9y3spXwoGimYHzKwe923GH/FKCQ2ScF/JaUz8r0ae6KFjJ6oY4KrbW5FbC0DW35cie7tW2Hz7n1msALkXet+wLVXjULjxKY4LqkV+o+4AvsLCL6aBnMg0dnRbas+Q4eUE3H9bfdgPy/lse86ulSw+Xv0bNcM9zz8IrLYHxRtw4oFL+DEZNrn3HcJSsRuAT9td+WKT9C85cl46/1ltklXWJKNW26YhF49emL7jl3Io861XKINlfeeexjtko7Hws+/xX5e01RUgYnW/7ShpwhOtuR85cgpbkNBAKFBVzZH3zBbLtqBzz54DY1bdsOLC35ATqkCA6HoNtw49nK0P30k1mRSRJyRlkW24yxG+BcMuxSZmdmUO6f/Rbvw3def0l8744kXl5jeKiJRrHzvdevfm4sWIYNRo06GVOXlInPDKnRsnYJx9z6E/ZJnyS4sf/9ZpDTviHkfrSR4UT4cTKEgbOxlBurrxY4GgGCJslz7LMSE7xe+im7NEswuhjDy3ST/oiw1i5F9jhpwKs4ePgpbaW8UPSoj+fjtywXo1LwRHp33jmu/LAtZW9bglK5nYBLrKCikTXC2UlG2G/MJtCc274aFyzfYUkd5wX4MHzgYw4ZcgJycHEaj+SisLECUA9j999yBFs3T8PNvO225pCrzN1w68DScdf5IbGJ3NNAI6NetWIgOzZvgsVc/AicLNkh8/sE8BgVd8caHqzj7IlPUU7mwcOMvaJbeGTfe9QByChn5VulcM0GXQYuW/pwufZAZEDHRB7wx8FXEKKe1HU9Nrcwgymy9zBaPCZoVNNYnpt+G1smN0LR1V2zJKUcBBYHSPfhy3sPoeOLf0ajl6Vj0Uy4dh5c5jTSQooE68I0cc/AVQIlsXVqd1fRcIyuN40dOuRNTWmHqbEa2clgCQZ523yvoQORH65QZ637C4DP7YO68t5FJOWRqk4J8VbIDeoeB6nT8/zHgqzr8U2Xuewh82b8yDW6c9qBwH6eJ+9GnzzkYNfp6ZNtTZoz0tLlBgH79xafRqmVz/LJ5l22Y5G9egb4dE3Hf7BetXxoMbdqfvQF9O7fApTdPwRZNF+l4tjYX2YLZd03ApPsexk5e1xGuj+Y/z6ilEbq0SMPcWXejbbvmmPb829hF+ysgqFVFI8jf/gtOad0EzZOb4qZb78TwkdfiXDpUBh0xm6Bn03vOxwSisrG3X30Zl4+8hFN6LWmUImf7BpZPZKR5Im66/WYMu/Qq9Dv/UpYvt/VjlavIz8Zrs+5B59QEfPPrVuyjbWkNr6qIqJOzGo/edR26nTsSm3PIeHQL7pk4Askd+2BNBkGTerczy0U7Ocbsw+iR43HJxeNRQF1mMaIcOngIJoybbJsm2rjLIwjpyFRk/Qqc3jYRDz03D7spIzmn1qf9wxkCYr8pU1uvh0Pejgx4yVMsqqYN2kwhZz3uHHsJuvUfjdXCLOqyspzTaw6Wqz57H39rdioWrtpNfvZjH2cundudgofmvIQIA8GorbfuRGn2VnQ8pR+unDgN7ALtugivPDQTJ6e3xkbOgLJYpza2oEE+dx1uuHo4el1wDXZqgM3fjDuvuwA9+l+CX4mpEcpCS18o+A2rlr2D/0zhLGbFVruu8+Va4qOwkbPlZ5x5UjM8P2MKep/WB4Mn348trE7gq3XpHV8vQNvG/4EXPlqGXWy/gJiEKO2T+rzp8n7oP2osdqj90l349D0Opk264tOVmZbPwJeDbEHuNnQ6+VzcePtDhi1bNv2Evr3OwuOPvmh7OfoXrdBeRxbWffMJWiWdiHcWLUcOZ2UazNs1/U9rf6e6ycG1upD2lPsLbrhsIPrTTnZQVpUMQJ57aBqatT2DQQzZ4TU9RFJVvJufM3DtuJtw3rDRyNIynfYGaOOGR8zowTcGvNJ3jcg3SIoOtPuom+FITALV9DMacU8r6akngapFCVro5wiA8kyseONJtG90Ik5M6YMv1hbawrU7ruENzU3b46AVZ+hoSDza2qAiEoGVTaHJU2QdZt8xDo1Tu+Lr9Yy4BRgURLSSAtJUXsdPtMnCfmlNsqCc05xyTheCM8s+8vVtaEAKD0rHiv8wednE5aPdZypSTlS8CzsZlbTs0AOznp5PI6y2aU0l9VUdzcGGlQvQOuXvmLdoGaN3Rrq71xF8W+CqW2ZgOw1ea3Jau8pZ9zV6d+J07e4Z2MlLWjO0jZTMLRjSuyve/GS5gU1xeTaWffIupk6ZiYydmSjc+AMjzGTc//xbNn0soHNXUk77Nm/A5Gsvxfc/LEekMA9jx0zEsGGjLHItpFNpM8aeRuLArfXYa665Bo8/9YKdJtDmoMpfz/I/fr/CNg+vHjcOAy68CPsiBDdiqYyYBodnODXulNoU23MLkMF6NX21zZzoBjw9/Rac0KIn1uyg7vM34ZarzkOf4VdiE3nU4OI2T7NtCnnz5dejf/cB2J+by74z0KCcBaoCUkX7WmZQZJfx4yfo3PQvmPnMy9hFPgRm9lSnIk9GvQJK2Zqz6/r1+XtkbbM9DbayXfmXXQ8AHZy5Yd8anNcpFZdc/09sptyzNegw4tcgs58DX/P2vTHzyTfNRvL3bkTPrt0xaeKdNhUvrqSCC3dg/6bv0a7L2bj+nqdsbdLaon2XcmqvpRpNlzVr1Bow8lZj5Hld0Pd8gi/NApnbcc5JzTHihn9a5JpLvRn4qv0dq9Gyc288MHe+1VEpvoqzqZbdmDBhEkaPGoXqfb/h7O6dcf71D2Aj9ab1WU6D8CkH4U6cxq/4dTN2U75aDtAaLKJr8cg/xyK1Q29szq6kf27G4w/chKQ2fbCJ2Cw9aMMMZYz087Mw4YoJuHDIJcggcFOLNlgTc0Fo4gCvYE8PpeTgywXzbfnjnU++QBbb+vj1V9EhKQkr127BPubVxqXWyxH5GY/dPRaJHc/EWsUk1DOnyMQXssePmiForbo6uoOR+l706zccg4ddg7wCt6lrp0Y4q9ZynE6SeJzwGKInMqvBgZVR77+xyxYFSyEefJ3yHVgqOtEiujYnYkhOz7GnP2gclRxxywt2ol+XdmjeOBVJbQdgLfugSMHOy7EOUdzoHDNWV43rh08yXm3qab0nVh8Bv5JRIjJ/wsi+J6Fn/yvxK300m34pp8kvIyjojB6jG0UAeg5dO7Ny/ByOyDoLak/V6BFa1mvtUB4+OtV3i0yCfoT5ORJy0xJfp1uGUL/8dc1EzKiLtuPXHz/D8c064KUFX7snh3REiHnkpNtWvouWjf8d0595HTRNVObtxUuPPoi/N+N0c/4yW4uKZu7C7deNRsdWLfDtrztAsVgEKfDdsWolTmufjl937UYmdVtamYsoDTqPBldBXyv77TucwUhwylOvGPhmElkVLWm3WOcnSxlhFBRmYdJ1EzF00Ajk0EZy1QfOJCrpbBwNkLt/Azr34OD8wyZGJirPwUORUpmMtRAF0VyMmzAeA4YNY9TsyttyUkEeXpk5BZ2bJWHVpq22PKRNXQPfyEbM/Md4NGp1Gpav3k3D24Z7Jl/E6fB5WEfsyqIj6sm78vJclOZlYtzwaxhBd8XurAJOKzkYc9A2uTOPBQu0WYH0k/ffhbZpifh01S/IEPgWEXQ5kNiGCnUkfos42ByNDYfB128U++v6a+D72wr0S2+Kex5/EZvJh9aftQFXpcF46xq079IHYwi2smFtjD0580G0SmuJl978GLlFrDtzMyZdPRJpHfti+VpGjhWViHJwKeY9nYaws7b8Xl3CsLY0E+s+fwOdWybgnw+9yLboMxvX4My2qfjHE6/gNwKF7edoD4Lt79j2M1p3OhVjb7jXcKKqjGhVnIn35r2E9C49sXYD4Tp/G87q1AIjCL6KfPO0O0WbfvKue9G1RWts2L8Pu8t1ckVLUOxvyXo8PnUCGrfsge/WM9Qs3IxbrhuKvkOuwa+8LbvXJq6CwOq8CO4YPQ7dWrfHluw9nOEx+GJ/KnTKgYO3Zu3a2NOa+a0TxqFj+05Yt2OPbZA9cf80dGnWEpv3ZGMvB1QdbUPxHjrVL3jqvgk4oWUfLNvImRkxo6zcPXEnX1MwoBMyKNyD1V8uQXrrk/HArJdoF8IXd9pDBxTsqTuzLY8hCt6iDDoKiLflBsD/xr7Yr9wKWASwtlZBtJdDyiBUqQQmIxGYVlRwasTGzWkidIMCCmf0cDTj9P4/Ezrh4klzsJcVaoTTKKA6nIEKVGRoDlS0niU6WuNVndoxV1saLLTmorUfZG7A4E4t0WfYWKynXG1NR0dK2DcDWC3Qa3lBa9yaLlWxviodoZED0BHoYE54ElwYfD3oeqrL16GSALacTmAveeGIaGvi5ozu531MdtSJgW+U4PvD5/j3Jml45ZNv2U/lIV8EPx3DKdn0Jfq0S8SDc9/GNl7Sulp57nY88ujjSEhuhtSUpkhu0gidOvXENz9uRp7ptdJAR7vkH7zyCi6/4EI7AVFQpYiIuhE4UXYy5vLfvkHflo0x57k3QIhDHnWsga+IGWSQeUVZtkQy7prxGDLwfFve0TRMj/pW6bhS0Rb8tPxddOo1CBtou/kyVspZ6/Vl7Hc0kmMH17U5OmjwUJbnNZbXkTMdnfp12ftom3ic7TPspeoEqJxPo2D9N+jVthUSWp6Gr9bt52C6Hx++/AiaJ7bAex98gWzmLQRlWbgXa776FB3TuqJ181OxOStCZ62ytWMBh/RRrmkvI7olbz+LximtMea26cjWkbgyLTUUm9M7m2MZORJl7IKU+vX7e+TsytVnM09F6NSp85UyGwSK1y3DWe2bYOZzr2OvBh2dn+csorJiHwfHfeja/SxcM/5O5q9gfso5fw9emHk/EpOaoUlya6Q2bYxTTumOT9fsww76QA7BVzauU0wlEdqW1rHlL0Wbkb35K/Tq0hmnnXYu1u9jXwkO0V+/R7+2zTHz2fnWvgbrYvJVXrmPM50MnHbqIFxz1e1mp1oH3bVhDbp37mzLeBZNZv2GgV3TMeoGRr60GdmN/P6FaVPRNS0FOwsyOZi6Y3zVHLwFvkveehSNmp+Gr9eQr5ItuOHa/ug7fAy20BaFK9KFlgVppHj+nvvRvUUrbMvNwj4GDdoIBpvVX1ubjuzAC7PuxnGNkzHz6deRS9+SvT55H8G/eXPsyctHbjXxjfZeXUTLLlqPzziLb9ysN5b9Uox8ArWWVqOMyiu0AsABUTOP6I716NWhLU7pfjY27tL+BvORJ392XkGDWwp1eGd2QpvR4E5kZMQbgK/I1mF1fpQGphFYU3IPvlax1lDIdKmt8Soez+DFvbj32gvQ+sS/4vikjjix3Tn4jbf2qUwxlcTI0oOvjMOAxQCMhubB1xg7UiJIELg8+FqnCRgCI2Sux7AubXD2RZOwgaN1Di1J5xuLK9wyRQlHxkpOEzSI6AmnIo5WOlKk6aeE5p/NVjvi2Y1c/CvHq0H18XVoFANfysCBL6dJAfjqmmSnkyY6X4vCXfjxmyU4rlV7vLFslZ0GkBEJOBS1lG5cjjPaN8W0J97EHopApyNm3D0ZLVqmYvwNk7Fo8Ud48415duSq/Um98P0v223pQo4koJ40ZjKeePRZ6pkRHUFUZ0PduWfaiR5KWbsC57RPwexnXrVlDG1Mam1cTyDZ0zw0yEhRLq4bMw4jLhxp5QWgtpaoDRiC2pP334wrrr8HOwSeimAkA+pLg6L6r5nUdWOvxYgRIxgF5zO6jdoz/bJHFO3D7eMut43ei8fciIVLFuOdec9iULc2GHPRcDprT4vsNK0rJQCNOOc8tE5tjetvvxMLly3F3Mdnom+3zrhw0Ei0bN2NTl+MjIoKRte0gUraj4CXkd/PX7yDFkkn4LyR47CFvmszDOlATsU+yTZkPzrkr42VowFfT/IBp2/3WTYmO7ABdPMK9Gp5HGYQfHcQCBSJlTDCrCzba+B7UrezMe76e20psIyznRn/uAXtUpNxw6Rb8PHHyzDv1dfR/dS+aNblDCz/dReyKwg0VW5qTOUwACEY0L7ytv+A4ef2Rnr6KVjxw1bk0ud1frt84/fo26wJHn56PvZQFjoNpPbLKvZQBvvQ7eTzMHH8fYyGeS26B1ePHIWrrxxLPjmzIZ4gawv6d07HyAn/xFbWmU1sFC68MHUKuqY2wSbOxrIZB+p4lq355v2EZR8+yxkbwVehbmQ9brtuAM44/1psZRZtEEvmelSyNDsXz95LEG/eAttycrCX1woKNAhVE3gJ0EU5WPDyE2iRcBxuuON+5NAU7RRPXi5efOB+Rr7NsHV/ps0AFZRVFnN4yfsZX773IgdfzqTWliJL5lvJ4Vsnbiin6sp87N7+K4ac1Red23TAqp83E1vcoKDoXf6jfgt8nW4DACbPtmekJT4hLnX5byxj4KuM/r0NMgAXlUYtwrDDzArhaRClWvHWNDK6FbePGY604/8TKcmtcHyrPvhsbRaFo7VIHXXiNCQwLDeSu6jXGavoWACYOuWmgwIhAw7+rdIIuvcHXDOoD7qfcznWUrqKfAW+7okunZetJvhSagH4ZBHANcrJuOzYTqVA0UXBIsnCDSLxvrj+1MfXoZE5HQcPB+W13+4AAB6LSURBVL6uHYuwWa8HX13TrjUKd+OXn77E35Ka4/XFX7qnCgMwKMvPwK6V76N9wv/EzOffwn4q9Iv3+b3pcZj+5JPYV1ll51UVQZbs3YqRgwfjpNMGY2c+o8rKPGTu3oBTuvXH8pVbbF28rLrUdq4rJDM6iqa/Vb99izNaNcWsp1/BDtZPH7CHFTR9tUeTKwieJbkYO3asHR3KInAWC9TYD2iWtHcjLh94Bl76aJFFzqYPltWasKJvTe0U0V039moMHTLInsbTKYmqKj04wvIcULWW+Pwzj6HHqd3RKDEF5w3oh1+Wv4MFbz2PRq374JM1BSiQXAgokcz9mH3/FLRv2wGJTVPtJMjG37bhoWkPom2LFtiTlYX8ci2vsH47f7wZy9571mYJAy4Zgz0cHbQxYw9csH/2JBYdymaHHIg1dbdzxfXo9VBJOrd9Bw1S/G42xbplA5rZaPZZ+dtXOLNdU9w9d56t+eZT9jryicLt2LPtF7TteibGTrqLwszAlx++guQWJ2E6B2BWZ2u6mr1FCvIwqP95OK1XH3eES5E867YNpuhObF37Hc7qfR5apffC1wSTXAJklgalMgZgG7/COW2SMPPR1+z0gfSmNdSKks3YueMntOl0BiZMnsJ6MvHSw/fa1H7LjmwOpORfD99kbMM53U/CqEm3g5N67KI5yV+fn3IfTklLxba8PNonr2mUixJsS3/DE9Nvxt9a9MZX6zVob8CtY/rj7OHXYjNjKpvBaplLU38GgreMuRYdWremLdOHOZhqTV4bwYjsxdOz77WTThNuvx9ZkUqLhrXWTUXi6Xv/iZMIvjuzi23NV/s92phD2UbMfeBGNGrWA8vXlRhglyii5gxNA/Su9SvRt2cHdOzaE1+u2sSZAJtSMEFMcG/+o88ywjU7oe/UxjjZkCUHvlUE3yoHuFr/KSQTAVJbmCyH1bk1PcGiMFgjFCOcJ6dNQqum/wspqS1xIqdyX/yS4c5tMm9pVE/A5RFYtNgdGFWMAQ8ydDoC59EDGOumodijjuYYBNZiKobT3Kem3YKmzbthxa8c2Slz9UVCseUEDjJar6zI3YuxV47EnQ8+ih0MBjS22GOKVKCmLa4dF32JxK+LTuUodfk5XJLc3QBFOQl4gzp9JKS2FZ1W07l2bv0FLdt3wSOMPvVAgs4rKipjR7BxxUK0avwX2zBT1PL01H+iW/NErM+gwVDXeurMlooKtmDxvKfRuMWp1Nk+W7P/fsVHOKnHUOzkIGW/OFuUb+tlkqsiPjlW1caVOCM9CbOemWcbdRpkZVTaNLOjZIwyNCWbOH4Chg07H/sLODVjRKsBhN6PrHWr0bNdG/y0ZYvtrmvNl+Okga/kHS3Oc+UnjMXwocOQm6tHm2UbBGaCqZ3UYHStkx9aG9YGqu6hcBOemnMXGrc9HauZJUrg0HKAonHNKioInppe26szCTyTyd/5Q4Yyoo6as6juqmgGXnrkbjRr8ldce/N92EqRyl7UvkDX3hER8OkBWLbkB/IjJclGJxoEwM6uHPgauLNdXcee1Yzu03H+DfdhPfWodVgtRwh8927+GWkdeuOhp16jjLfg2em3IqFtH6wmpuazaJXkR5DV6YKFb7yMdE7zv/t1k9mHrVvSpn78aiG6demEk7sNxM/rC6Blmjz2M8JByfLs+wFDT2mF0ePuwW7do/vb6ZuSTdi79Xu07HA6Zj72JhvMwHnd09G0SQoSktogqUkaWiYkoFOjv6B14//CX1LS8T+anYQZL7xBXCnHJy89iy4pCfhq7Sbspz0USaHkE/m/Ys69E5HQoR/WKyQt24HHplyH5PTTsIH6Ffhq3bSiNIM+ug9jrhmLgUNGIJP+EKkQflGe+fvxz4lXIS2xMe555FlbptKGs/SoZRbZ49JXn0fH1BR8tWYn9rH9TEatZeXsb+QXPHLPeKS074v1/GrtMcjRJuPP336JU9o3R6/TuuGn3xixs95cuoceQ9eRSrMHYqYGB5v1U4cWGMpPRPRtbeazOaN/E/Bq583WeWWM2gU18CXw2roWO6Qn1TQ91tpddDeWvfEoOiT9BYkJxyOhVXcsW72PynJM6Jl5AzgCgqbRBigyAhqbRXoWzZXYOprI3zsS8vXZ44H8rqe2FEVVsV3t8v789RIkprTBPQ/OtV1sTXG1rKIpida8VHbNyi/QtmUz3HjnTOynYemcpwDFFvXL3dRBVBN8jw3wOgqWMwLSNQ/IIoFreQVlxmg+krMP55zRD1eNHmNvtVLkpfVSRe5vPv8s2rVsjdWbt5ssXpj+D0YWJ+LX3fvsKI87ME795f2CJW88gRNanIYV6wjqhfvxxKy7cNnEKXaEy46kkQ//bLpkBbZdvv4LnN0hyXa2FflqtPe7/eKxtIyyYYQ6/prr7JyllhwivF8W1ftdo1jw3nwMHTYQ2YyodaRLGyLaOVafdaLDIgWWGXvtGAwdOtyOmWkZSK8G1LR4+zdLcWqbZHz57becCupdseU2rUT2Oowc1AvnXD4RW8l/VXkGlrzzHFqnd8OGrVrPdxuK2oXfv2uLLbnc8s+HGfVq4KezF+zAC3PutYdw7pg6G5nsrqIdrW3achbtvjI4fqgnIG02QJ+wgY+8qf91dXpopADH7a24tX6Rrum76rUNqPxNuGn0Reg8YDTWcqzJIhFByOAWfP/ZO/h7agcsWvEzEWInnpp6IxoTpH5giKkjZVpDVvRawsFz8bx56JDWEivXrLOHF1CShQ0rP0Wb9I7odc752Lwn1x6U0MxHm7OaQutRbRSsw81XDbejbr9xUMomoYIzQ0akP3z6Nhond8PCL7bZssdPXy3FF59+hk+XLseyz77GiiWf4McPXkPvti1w9sXjMG/lZny7dZctUe1Y9THaN/kPvPz+EgN12V21nlDLXY/xlw3EuZdNxnZeqyrajk/feRoJaSdj8be7bAlUZ5orS3ahIGcHOnfvh5vufMjNFDQo5G7HP8ZehiZJzfD0vA/ByZ0tOdrGKgdMjw+bv16E9CbH4YX3v8B22nMObbKUvqDTHpNHnYeBo9i+onT6u9ai13y7wp6APHvgBdi0Jy+Idt07i/UWNdVrwZ1t2urpUhfgHRR8teumhYcY+AqY5PhmVCSClG1qCVk5qpRs+RpntP4PtGj8H2jSNAnzF3+HDA4mGlnUgNYR7dloOpPegBXfqHJrvy6a47SK02Ud7/KAcyTkjVfvOtDSiAdfPYrLkQKFOXswefJEpDRvgfcXLHQDg/pGQ9Hxoj179mDIeeegY3oH/LB2t63baGBUX+2NXBzx/JRBbYlMiHYtkE8tng6X/DTTLzeoPQ+8Vr921UuoTI6m2tF++qE56NwmHT//vIbXNTjkISdzDwbRKEZeeh2dQ2+cKsbKD55Hu8b/jkeefhb72S8Zp97FUZW9Aef374VOfS7AxgyKKX8fLhp0Jp57d5k9PEHfQ4mm/HRQbWzIiHQEqGT95zijXRJmPPu+Rb72JiuCgwZYm2ZpzZpynzx2MoYNvhDZEcqfg5cMXS+4uem2f+DeaTPM+AzYWd7akEw1w6IsdH3CuIkGvpmRQkYyWnOmzRTsp09+iz7tU3HnfffZOhxNjBFtLha9+TxapjbB8x9+BkIVZ6KbsPH7hUhq2govzvuYQKI1ZfYnfzcemzMdCc264vMfthuwl5VkYtnbT6F1wn9iBiMkzdws4tXgQPuQ3esFNZpCC3y1+ef1YxvTioBr6fPwyAGt7EoDusBX172t+Qh3+UdvGN9vLvnFgoNIHkPbgp24edyV6HzmIGxVOBrZg8/fexlJLTpixpOvU86M1BVRc9DJz9mLC88bjl4n98XunAj9pARZG75D3w56uutSbNHj2QSpPPm3InravpY3tIyHoq1YvuAVTsNPxhtL1tJveSlHofU23HbdFejR93z35ByDNrVns2fNaIt1bpbotX8zBp/cAZdMnmJHzbQkplmSzg9f0r8HBgy/GLsVK7Fe+fGPny9Am7QEPPHGAnuSUjO+6J4N6NixB264bZoNyjpVo0H2zTdfQpNmp+CTLzfYvkFVwS688MDt6JR8Il59dxH2sU57ctVkS/vigJnHvgkgy/dvxKhBZ+GcCy4Dx2gUcKand5isWfY+OiQ3wlzaThZ51cwkf/tqnNq5LS648CJs2leEXOmAI5UGZ3t9Jf/qgSA7RSK7oO60EV0pewnA1+u7xrID3Y+f3Nk/28AJCjvnLzNF5EVdhKOjPS/dOx4nN/6/0DL5eDRNSWbE0BxJSS1xYqMEJLVsg+Nbn4Iv1u4E5cloS2eGHcAYkMTqddfcdW+Ih0/iU2fuKui8Wpu23XUCunvtGzVXUYnszC246OLzkND0RHvM9v13P8Dyz7/EjBmz0Omkk9G2Qxd8uPBTOhIdV8DLIU1r3/ZotIgy8KAosu/sk1sDdhFKfbwdKlnkFyL3KwzxZZ9iRi4RvcCIQKBln3xGb/1POwXt2nXA3Oeex4fvvUGwGozENt3w5c/bbV3LDudHtuK2MUOQnHAcJkyYgCVLFuG1V1/EwHPPQVqzVpi/6BvOBoBtv65F947pWLNtH+iDZkgCXK3Xa2Ygw5WMizZw0G3bDDOfehe7aNSFjIr1zget1eopPFsfJJBcd+1EDBw4Ajmc6tuJiZI9yMragW69BuGzL9fZdEyDgB4n1qamHt5RpKCNUrU1duw4DBw0hOVd27IXvR9WTxo988h9SKNj3HTbrViw5DNMnf04GrfqhAn/oFMSfwoi/E+bkyX7cOvYS9GuRRM8+Mg0fPjpAtx++61ITmrO7y/Y0lJleS6yd6/GWZwq60jZbXdNwd0PPIypD8zCAw88gAfvvw/THngQSxhV5lEuUb3DgDrQACh+TX/a/Arp8khIwYjpmqTz57Jhe7FQsOkKRWPRvbh88BC0T2uNOQ/NwMeLP8LlI0dRj60xb9Fy05sGAi3N3HL1pWjd5HhMuO5qLPlkIea9/pLJMzG5K9764CsocC4qysIDky/HSU3+iiuuGIsps5/GlKnT2e/7MW36FNwz40HMfHG+1VterONeuzFqyBC0aZ6O2XMetUeBr7jkEg56LfDmgk+gYDiHtmKv7NSshIAncLK1V4Lc0K5tcP74O7GR+TiPcbMpRuPffvIeWqalYsDAwXjr3Xfw0Nyn0K5bLwy4eDS2ZRfaE5CltGVFnvOffgQt2a/rxo/Fgs8+wb1T7mFQ1QqTb33AlrAqKKNta5ahS/NUdOtwEv4xlf2YNQv3z5iN+6Y9iKkPzqK9PIqvf9lk+zqMMPD14vfsnRLnDh6Id96Zb4+gd+3cCxecPxp7MoRVGo23Ysr1o4hxJ+DyMddh6vRHcP8Dj+HBB/l32kzcO/1hPPbcy6yzDPkEVi1N6ZF5e5lTgQbnOPAaXtB2OMyEwddNdwS+Qm6XOQAaFVaUoMgrkoHBXVLQhRFVUuO/48QmTZGWmIpmSWkE4lT8Z0ISTmx7Cj5bvc12JfXWJQdWDkiMAkMzgLfPNY3xcEjldUxK7x8Q+Gq6rfVpOYWcRRslWhsqLdqNDz58x0YuvRREL+bo1q0bbr/rHmzamWm/sEC7sRMQen2dvWSbgvT9F/CFpw9ekI6Org8efLU+6sDGE+9LXuUcWNhOGfVl56vpYJE923DzzTcjuVlzpCQ3wYUXjcA363Zw6sTxkU6rXxKQw2gz5YM3XkGfnt0IWglo1aoFLh89Bt+v2WinDfTWroVvv4cRgwab8eRVudc56qyiTX1pKBp8tbwQ3bIGfdq1xJyn3sQ+gpcNqjpQr4iX0289Aq1TI+Mn3IBhjCbyGaJpDaysPBOrf/kG6Z36Yifnl3oXtMBXstN5SFtXZzvSn46njZ9wPc6/4GJ7S5WiZMnB3mpWlEnKwLyX56JH9644sWkyTurdD4/OW4DN2ZQXedLbVYo0dbXzv9vwxEO3o3WnZjghNRFn9huAjz7+nP2hWLRkQVBZ/c1itEhqhMTGjZCU3IzUHMmpKTj+hL+hRWoSmibqeNJr9kYuvTtID93oLWOK8vXSde2DxJ3rSMmVlzzslzY0IyToxMBXfSnYi6r9u/DM9Glo16a5vU+lX//BWLT0Kzu6lcX8ipqr6bscUfDh84/i3HN74/iEv6NlqzRcdvnV+Hb1XkRoQzrdEeVsZ4AGnUZ/s83IvyekIS2tub0wRu/OaJSShjNGXIEt+QQPRomVkf2oyNyJp2ZMRZs2bZCQmMb6h2Mx29facDZxQycoZMOaYYkEwnrLHTK2YACjxsuuv8tOa+i8vZZy9Ga7qkg2Vn21DOcPH8SIPQnJbdti4t2zsUNbE5xJSy728IeWyyK78dn7L6JP31PZr0R06tIdjz35PHIKJCvWV5ZpRwTTGiegSeMkJKYl4YSURkhISUHjxBQ0pW7/npDCmfoXto6rNdyKSBa+Y/sXDh+AFhyAW7Vqg5vvmI39FLlmO9Zu7hac26MlEmknx3Gm31jPMjRJQ2IT8pvUjLpogYHnj7JgQ++Ekc3aKyoZytu7iL19GP45XxHeorrKP+FG8KGz6VFVH+35UF1PBxkgS7FaSy3Zj+r8XeY0jLShn+jQiYNcAl4WBZVfSUOorKYzarfWNW6OapGuMzADL434BJm4ER4+qQ571p5/Lew35ZNXrbsImOnQitoE0OqHlh1ixk6D0bRda39aKtHvXOn3yUoK9NCF41d1eQD+o8BXdTkAdmt+umYDk8mH8pdOOE3MKXDvr+BNOkOBLQkYOGlZyHTGaSbBU9Nl1amX3djAJAMg73pto9ZkrV+UmR0j4z2hukAlKy+fU27OGIJNpUK9TavC2YNtVBTkWQRqvzygdS6BsmYabF/8ClAV/eqcsNZ1Ne21s6SBvhWR848tNRgvzCeyt85RjpruKnKKRt1UX0fUbCZWqics9Wg35cR+6+EGAb4ehNGvMbjXCnKQj2gd0K3nC8wrqnMI6HvM3jQl1jTYqExv2tNJFjqfltm080+d6mSA/SYY87t+F9rxJ52FVqRsD1mYHbBu5tEhem001tXnoZPzs/har/XRrpEfysScvzjPXmdoLyfnrMHWEZlHkZWCItl9pJCDcxGn0tqToe4ELLmc2pdUu9mLAgq9clS/KmHvydUmH+tUZGrLilrfZl9tg4hyl3y0LsyaqGetW1LetB1tZrnzzpQfAYxiNd/RO1Nko9KhlnkEQrIzt5nJQVPvvmV+nQxg9ca33u2sl+9oYJU+86lXATkhgzYmXWlPQIMzbTFfs1utr+dZXvFaJeyhYlgVgyzmo73rTWVl9HH7hR3aqpZXCsrpWzqGSt3SXGxw07FSOypIGQv3hGXiVXtHZD3Wvl57qSUvrb1rWcPtfVXZTxNpEK6ukCzlfzoq52bcwjQFfeLP9o6oK/m3YR/9wz1kETzhxsHIkjFBsLE1uQB4XSEBFZWsTRUqTe/URCU7JlDWJhwdWCgv8OU4besqelm5TmhX6IXOYsbqceBrwCBDs+jOAeGRk9Zm2XFGIOJZwtb6qBxI01mBqHscmoAa/PSMRXXMa4//0cGkCIGOjqhoqUJ5ZWy2gSSB6R7b8fwaGEsmgbPUz9ehkwBWf2uDr/91XQ0Q2pW388nUgV7mXOrf3cq+yBEkf61P61ymll3En/pnQMcRXMahSE39kmys3wQqtaXTAHbcTT+vQ8cUYEq3ereDljvUjkBJUZjNjKhH+0FDOqgA1l6qLt0XMiJU9FvBsvQIu0agELjZT/YQLMzBDbCc3u18L53AIms6gL0Ris5EH3ZAKICWw9FoNahU0TFs04R2KP3q/cbqk4EJZwgC8gp6jwAlpyQXhdW0WcpIziJbLSNQ6L2tNmBItpSb/xUQDTAG3LJRDd4CeZtGa7PGAZLsR+2JXy2feN0dKcmW/KsqLVAgxe2LgMcBUCdUtGZeyQEm9p4MlYvSB9lf6d3eLkf5UaDm+Bo0DHjo6GazBZI/9a8Bjv2zdXTplQOogFBHKzXguicWq9mu20AqYF9le/qsJ1qlKw1Y6rd/P7KWGAwvNDCTBDiSr5aibEmK7elF55E8DsgRypx6tX0Z2SIBWBvGeizdTlTJh6kTO4kkW9CAItkQPO2FNVWSG2VE2Qtw9YSegjw7S87B2OmffTA/oh3yu70gSqBO35GsZLv6iSF7+TqDEAVv2uOwX7kgL5Jd7IVJ5FEDrbBRctRpGZ2akYz17mudS5ce/Yvk3Sab9knoQ5RPHfAluceLdchByw76n2QGQeWYsNVwACwOFCQ0F3WYo9DJFfUqWrSRWEZbWWrRmZi3NyTRWHWOVgZlI7qBrzNYkYR7tMZroKhlMQKMBFpIgWgxPQZeciwqUDwbYBiAsV8SEElCLS7N4b2IvZXIdvBpwC660ijr3pIvPgXi4tlHK2r/aPkPy8EpSNcd6HpQ1BEWA1/JjqO4wEMgYOCq8pS1/cSJwC5YcjFHiuqXRjRjcSAp8FDd9jhw4ITmGDKYqMCYozIBVy+gtvrolKYzAqDkaRspBF85tA6kCwQEZoqEzVhZXoZqYEogsN8BE8jTSRxgOP3rxIBfQrFIljpQPtuN5gAoneksppYndF1y0gCkMtkF1KNOGdCp9BCJRbqauVCXtvklXuWYlI9OVNhpGn5Xn6Vv0znrlZPYKRLWJfnaDwZoJsDPaku2EiHwiezdyAJg/lUf9KsQckrTGZ2wtk4Pl2RP+qtz9c4etQRFcCXJD+2hDtqe7WkI+BQISS7UtUWlLK8BR/pRXy14UgRGW7GBmLrUi87LGaXlF2Q5PTHgUF5F78onebprWl8noOUrEmewQiCztXjxRXnZhhp1bAOQBlHqSz9yGS2gPJhPtqfz87LdouJcAl+u2YoAUPbH8SMYiAmolLENYhpkpFMd52J7Ef1cEO1Vx0ps8GV/3CClYIA8sJ8amG1Qp50YGGoAII8CcfVFMtQ5ccmlzB72ok1Rl5pF6ey5PSKepyfaKBcN6mxX7euFWzqfroMAmhSa3QX9lR/J3iUX2YLaKuPMQnxpY1LBi8lJNsj+Gn/0JZWTjhyeOn+yRMyNga85vsBXApGjW2aNAlKyRjJFTXRQGQArtjfHy6nYAfupG91neXdNr3YkCYhrgK8DmhjoBG0cOWmkrHTLHzJaramoTjpZBaeLUqK1QyCQ4uRUFgFI6LzuRkpGT1QKqzHwVRRgz+3TeOy4HOsTvw582Qe26cBXIFkfT4dOJgcBbFBPGHwtGpURU4YGhFSaokNNte1nugUcNBQZlk19LEJzhuqmaxp0GG2oPJ1EZNM13ScYWWQnAKYT2skO6k8k/Vl9zGfGR5D3MhAPimwtCrF8LmrTtM6MjjJWFGY/4cPBWs7lf4PLwI7ApTVl2ZR04H4hWTMuLVOoTW1okXcat/FvICn9qW9aU6Ts2W+zTw4u0ommexoAJCPV4wCWPFGXWjeULCyv+sI6Bc5mj76/BmYOxBSxWdTIuqKKGjmYS86SkerW0UP7/Th+ljzsoaRaOj18cvqXHGqAL/sgEqCJJ1uSYR+kC/txA/ZF3+XkNghocBFQqy8CZenKlo+qWY/0r9kf9c6/mplKtjZzYn0x0CAfFXQEkUBNdWk2pPs2JZdv8HMlgxidTJHcZIPSo/JKf/oFDQGafCdaRjAkr+qPCwpcm+JL9YlH1W0DZ5TAzn5WKwCiXPVgiOmT/bP+q03mVT+lX82EZBcuuJD90w7o30bMp4dz9BpT/ZCqZjWaGdlZdPlIOQMW2o2CwzIFaLym/ghDiqqJbQR+bfh63HPLi84vbPamd79QLvIDH9QJX2SXNptjH/XLIrY0FANf6dphk8fc2FvNdFOF5HBh45ATOlBwyB2/pwp9pf5+/LoU6SmeJ04Hun745NoTj+q8vy4A83yIN3c/Xs5443Vbb9R91WF1ufxxCuUPeI7nO3o6kBzC7YUp3I/4fd//eL6aZZ0s/HV3r2b/4t/jeesjP4j6fHH7EDmQdnKtr76acvZ53T2Xz/PneIyTb8e3ZW1Ynnh9dj0oV6OdIG/Nej1//nucXDv13a8//7GguMyC9mv1K9z3+r4fiOL1+P4cvA/yG+87+h5uw+RXq46aMnVl3XfZSV2/OxD5elzbde8fuA7Hq2+ndj7Pj+fb8hif8TZ93nAdJjery/c3LpM6eQPy92pSzf5o4PGpDvjalDWUuYEaqIEaqIGODTWAbwM1UAM10J9ADeDbQA3UQA30J1AD+DZQAzVQA/0J1AC+DdRADdRAfwI1gG8DNVADNdCfQA3g20AN1EAN9CdQHfDVgWQd0PY39VdALAoXbKAGaqAGaqDDI4+jwlZ9Ft7GwFfvPfBRrz3XT9Jnn7mBGqiBGqiBDp/CWKrPuia8jYGvkFiP3Sr6DZMy+oIN1EAN1EANdHgkDA3jqV4SVF2t54tDa766IBDW3zA1pIbUkBpSQzqyFMZU/9mnGPgeKPmCDdRADdRADXR4VDvFrwH/H21LYpfAqkLwAAAAAElFTkSuQmCC)\n",
        "\n",
        "Input : รายการลูกค้า\n",
        "\n",
        "Output : ตารางแสดงผล\n",
        "\n",
        "(Hint : Array และ DataFrame)\n",
        "\n",
        "(1 คะแนน)\n",
        "\n"
      ]
    },
    {
      "cell_type": "code",
      "execution_count": null,
      "metadata": {
        "colab": {
          "base_uri": "https://localhost:8080/",
          "height": 143
        },
        "id": "hlUtI7OVWiQT",
        "outputId": "61477806-f7f8-4365-afab-ccc0a6048db3"
      },
      "outputs": [
        {
          "ename": "",
          "evalue": "",
          "output_type": "error",
          "traceback": [
            "\u001b[1;31mRunning cells with 'c:\\Users\\mekms\\AppData\\Local\\Programs\\Python\\Python310\\python.exe' requires ipykernel package.\n",
            "\u001b[1;31mRun the following command to install 'ipykernel' into the Python environment. \n",
            "\u001b[1;31mCommand: 'c:/Users/mekms/AppData/Local/Programs/Python/Python310/python.exe -m pip install ipykernel -U --user --force-reinstall'"
          ]
        }
      ],
      "source": [
        "############################################################\n",
        "#                      Answer: Problem 4                   #\n",
        "############################################################\n",
        "\n",
        "import pandas as pd\n",
        "\n",
        "# Define Array of นาย A, B, C เพื่อเก็บข้อมูล ชื่อ วันเดือนปีเกิด และเบอร์โทรศัพท์ \n",
        "data = {'ชื่อ':['A', 'B', 'C'],\n",
        "        'วันเดือนปีเกิด':['11/04/1988','25/01/2000','08/11/1992'],\n",
        "        'เบอร์โทรศัพท์':['0861112222','0893334422','0820400202']}\n",
        "\n",
        "\n",
        "# Transform Arrary to DataFrame (Table)\n",
        "df = pd.DataFrame(data,columns=['ชื่อ','วันเดือนปีเกิด','เบอร์โทรศัพท์'])\n",
        "\n",
        "# print DataFrame\n",
        "df"
      ]
    },
    {
      "cell_type": "markdown",
      "metadata": {
        "id": "Ugcy7cY-iZsq"
      },
      "source": [
        "**Problem 5**\n",
        "\n",
        "---\n",
        "\n",
        "\n",
        "5. จากข้อ 4. ให้นักศึกษาแก้ไขข้อมูลวันเดือนปีของ นาย B จาก 25/01/2000 เป็น 22/02/2000 และให้เพิ่มข้อมูลของนาย D ด้วย (นาย D, 04/03/2011, -)  โดยแสดงผลเป็นรูปแบบตารางเช่นเดียวกับข้อ 3.\n",
        "\n",
        "(Hint : df.at(rows,column) df.append(data, ignore_index=True), Dictionary)\n",
        "\n",
        "(1 คะแนน)"
      ]
    },
    {
      "cell_type": "code",
      "execution_count": null,
      "metadata": {
        "colab": {
          "base_uri": "https://localhost:8080/",
          "height": 175
        },
        "id": "IeOLLs3HkCW9",
        "outputId": "d43147ac-7ada-43ce-9e11-acf24bf83873"
      },
      "outputs": [
        {
          "data": {
            "text/html": [
              "\n",
              "  <div id=\"df-2a8c287a-2814-45a4-a515-2897e576fdf0\">\n",
              "    <div class=\"colab-df-container\">\n",
              "      <div>\n",
              "<style scoped>\n",
              "    .dataframe tbody tr th:only-of-type {\n",
              "        vertical-align: middle;\n",
              "    }\n",
              "\n",
              "    .dataframe tbody tr th {\n",
              "        vertical-align: top;\n",
              "    }\n",
              "\n",
              "    .dataframe thead th {\n",
              "        text-align: right;\n",
              "    }\n",
              "</style>\n",
              "<table border=\"1\" class=\"dataframe\">\n",
              "  <thead>\n",
              "    <tr style=\"text-align: right;\">\n",
              "      <th></th>\n",
              "      <th>ชื่อ</th>\n",
              "      <th>วันเดือนปีเกิด</th>\n",
              "      <th>เบอร์โทรศัพท์</th>\n",
              "    </tr>\n",
              "  </thead>\n",
              "  <tbody>\n",
              "    <tr>\n",
              "      <th>0</th>\n",
              "      <td>A</td>\n",
              "      <td>11/04/1988</td>\n",
              "      <td>0861112222</td>\n",
              "    </tr>\n",
              "    <tr>\n",
              "      <th>1</th>\n",
              "      <td>B</td>\n",
              "      <td>22/02/2000</td>\n",
              "      <td>0893334422</td>\n",
              "    </tr>\n",
              "    <tr>\n",
              "      <th>2</th>\n",
              "      <td>C</td>\n",
              "      <td>08/11/1992</td>\n",
              "      <td>0820400202</td>\n",
              "    </tr>\n",
              "    <tr>\n",
              "      <th>3</th>\n",
              "      <td>D</td>\n",
              "      <td>04/03/2011</td>\n",
              "      <td>-</td>\n",
              "    </tr>\n",
              "  </tbody>\n",
              "</table>\n",
              "</div>\n",
              "      <button class=\"colab-df-convert\" onclick=\"convertToInteractive('df-2a8c287a-2814-45a4-a515-2897e576fdf0')\"\n",
              "              title=\"Convert this dataframe to an interactive table.\"\n",
              "              style=\"display:none;\">\n",
              "        \n",
              "  <svg xmlns=\"http://www.w3.org/2000/svg\" height=\"24px\"viewBox=\"0 0 24 24\"\n",
              "       width=\"24px\">\n",
              "    <path d=\"M0 0h24v24H0V0z\" fill=\"none\"/>\n",
              "    <path d=\"M18.56 5.44l.94 2.06.94-2.06 2.06-.94-2.06-.94-.94-2.06-.94 2.06-2.06.94zm-11 1L8.5 8.5l.94-2.06 2.06-.94-2.06-.94L8.5 2.5l-.94 2.06-2.06.94zm10 10l.94 2.06.94-2.06 2.06-.94-2.06-.94-.94-2.06-.94 2.06-2.06.94z\"/><path d=\"M17.41 7.96l-1.37-1.37c-.4-.4-.92-.59-1.43-.59-.52 0-1.04.2-1.43.59L10.3 9.45l-7.72 7.72c-.78.78-.78 2.05 0 2.83L4 21.41c.39.39.9.59 1.41.59.51 0 1.02-.2 1.41-.59l7.78-7.78 2.81-2.81c.8-.78.8-2.07 0-2.86zM5.41 20L4 18.59l7.72-7.72 1.47 1.35L5.41 20z\"/>\n",
              "  </svg>\n",
              "      </button>\n",
              "      \n",
              "  <style>\n",
              "    .colab-df-container {\n",
              "      display:flex;\n",
              "      flex-wrap:wrap;\n",
              "      gap: 12px;\n",
              "    }\n",
              "\n",
              "    .colab-df-convert {\n",
              "      background-color: #E8F0FE;\n",
              "      border: none;\n",
              "      border-radius: 50%;\n",
              "      cursor: pointer;\n",
              "      display: none;\n",
              "      fill: #1967D2;\n",
              "      height: 32px;\n",
              "      padding: 0 0 0 0;\n",
              "      width: 32px;\n",
              "    }\n",
              "\n",
              "    .colab-df-convert:hover {\n",
              "      background-color: #E2EBFA;\n",
              "      box-shadow: 0px 1px 2px rgba(60, 64, 67, 0.3), 0px 1px 3px 1px rgba(60, 64, 67, 0.15);\n",
              "      fill: #174EA6;\n",
              "    }\n",
              "\n",
              "    [theme=dark] .colab-df-convert {\n",
              "      background-color: #3B4455;\n",
              "      fill: #D2E3FC;\n",
              "    }\n",
              "\n",
              "    [theme=dark] .colab-df-convert:hover {\n",
              "      background-color: #434B5C;\n",
              "      box-shadow: 0px 1px 3px 1px rgba(0, 0, 0, 0.15);\n",
              "      filter: drop-shadow(0px 1px 2px rgba(0, 0, 0, 0.3));\n",
              "      fill: #FFFFFF;\n",
              "    }\n",
              "  </style>\n",
              "\n",
              "      <script>\n",
              "        const buttonEl =\n",
              "          document.querySelector('#df-2a8c287a-2814-45a4-a515-2897e576fdf0 button.colab-df-convert');\n",
              "        buttonEl.style.display =\n",
              "          google.colab.kernel.accessAllowed ? 'block' : 'none';\n",
              "\n",
              "        async function convertToInteractive(key) {\n",
              "          const element = document.querySelector('#df-2a8c287a-2814-45a4-a515-2897e576fdf0');\n",
              "          const dataTable =\n",
              "            await google.colab.kernel.invokeFunction('convertToInteractive',\n",
              "                                                     [key], {});\n",
              "          if (!dataTable) return;\n",
              "\n",
              "          const docLinkHtml = 'Like what you see? Visit the ' +\n",
              "            '<a target=\"_blank\" href=https://colab.research.google.com/notebooks/data_table.ipynb>data table notebook</a>'\n",
              "            + ' to learn more about interactive tables.';\n",
              "          element.innerHTML = '';\n",
              "          dataTable['output_type'] = 'display_data';\n",
              "          await google.colab.output.renderOutput(dataTable, element);\n",
              "          const docLink = document.createElement('div');\n",
              "          docLink.innerHTML = docLinkHtml;\n",
              "          element.appendChild(docLink);\n",
              "        }\n",
              "      </script>\n",
              "    </div>\n",
              "  </div>\n",
              "  "
            ],
            "text/plain": [
              "  ชื่อ วันเดือนปีเกิด เบอร์โทรศัพท์\n",
              "0    A     11/04/1988    0861112222\n",
              "1    B     22/02/2000    0893334422\n",
              "2    C     08/11/1992    0820400202\n",
              "3    D     04/03/2011             -"
            ]
          },
          "execution_count": 14,
          "metadata": {},
          "output_type": "execute_result"
        }
      ],
      "source": [
        "############################################################\n",
        "#                      Answer: Problem 5                   #\n",
        "############################################################\n",
        "import pandas as pd\n",
        "\n",
        "data = {'ชื่อ':['A', 'B', 'C'],\n",
        "        'วันเดือนปีเกิด':['11/04/1988','25/01/2000','08/11/1992'],\n",
        "        'เบอร์โทรศัพท์':['0861112222','0893334422','0820400202']}\n",
        "\n",
        "df = pd.DataFrame(data,columns=['ชื่อ','วันเดือนปีเกิด','เบอร์โทรศัพท์'])\n",
        "\n",
        "# แก้ไขข้อมูล DataFrame โดยแก้วันเดือนปีของ นาย B\n",
        "df = df.replace(['25/01/2000'],'22/02/2000')\n",
        "# เพิ่มข้อมูล DataFrame โดยเพิ่มข้อมูลนาย D\n",
        "data2 = {'ชื่อ':'D',\n",
        "        'วันเดือนปีเกิด':'04/03/2011',\n",
        "         'เบอร์โทรศัพท์':'-'}\n",
        "\n",
        "df = df.append(data2,ignore_index=True)\n",
        "# แสดงผล DataFrame หลังปรับปรุงข้อมูลนาย B และ D แล้ว\n",
        "df"
      ]
    },
    {
      "cell_type": "markdown",
      "metadata": {
        "id": "JGeAZM2iWhAp"
      },
      "source": [
        "**Problem 6**\n",
        "\n",
        "---\n",
        "\n",
        "\n",
        "6.   นาย D ต้องการเก็บคะแนนของนักศึกษา โดยระบุรหัส และคะแนนของนักศึกษาแต่ละคนดังนี้ \n",
        "\n",
        "B5601: 80, B5602: 75, B5603: 90, B5604: 80, B5605: 75, B5606: 91, B7801: 55 \n",
        "\n",
        "ทั้งนี้ข้อมูลดังกล่าว ต้องสามารถแสดงผลในรูปแบบตาราง\n",
        "\n",
        "Input: รหัสนักศึกษา, คะแนน\n",
        "\n",
        "Output: ตาราง\n",
        "\n",
        "\n",
        "(Hint : Dictionary, DataFrame)\n",
        "\n",
        "(1 คะแนน)"
      ]
    },
    {
      "cell_type": "code",
      "execution_count": 18,
      "metadata": {
        "colab": {
          "base_uri": "https://localhost:8080/",
          "height": 269
        },
        "id": "XL99X9bsckIC",
        "outputId": "d361cb09-3433-475d-b5f8-c56960ef5e97"
      },
      "outputs": [
        {
          "data": {
            "text/html": [
              "\n",
              "  <div id=\"df-0558c2c8-9d52-44b8-8354-785df2162051\">\n",
              "    <div class=\"colab-df-container\">\n",
              "      <div>\n",
              "<style scoped>\n",
              "    .dataframe tbody tr th:only-of-type {\n",
              "        vertical-align: middle;\n",
              "    }\n",
              "\n",
              "    .dataframe tbody tr th {\n",
              "        vertical-align: top;\n",
              "    }\n",
              "\n",
              "    .dataframe thead th {\n",
              "        text-align: right;\n",
              "    }\n",
              "</style>\n",
              "<table border=\"1\" class=\"dataframe\">\n",
              "  <thead>\n",
              "    <tr style=\"text-align: right;\">\n",
              "      <th></th>\n",
              "      <th>รหัสนักศึกษา</th>\n",
              "      <th>คะแนน</th>\n",
              "    </tr>\n",
              "  </thead>\n",
              "  <tbody>\n",
              "    <tr>\n",
              "      <th>0</th>\n",
              "      <td>B5601</td>\n",
              "      <td>80</td>\n",
              "    </tr>\n",
              "    <tr>\n",
              "      <th>1</th>\n",
              "      <td>B5602</td>\n",
              "      <td>75</td>\n",
              "    </tr>\n",
              "    <tr>\n",
              "      <th>2</th>\n",
              "      <td>B5603</td>\n",
              "      <td>90</td>\n",
              "    </tr>\n",
              "    <tr>\n",
              "      <th>3</th>\n",
              "      <td>B5604</td>\n",
              "      <td>80</td>\n",
              "    </tr>\n",
              "    <tr>\n",
              "      <th>4</th>\n",
              "      <td>B5605</td>\n",
              "      <td>75</td>\n",
              "    </tr>\n",
              "    <tr>\n",
              "      <th>5</th>\n",
              "      <td>B5606</td>\n",
              "      <td>91</td>\n",
              "    </tr>\n",
              "    <tr>\n",
              "      <th>6</th>\n",
              "      <td>B7801</td>\n",
              "      <td>55</td>\n",
              "    </tr>\n",
              "  </tbody>\n",
              "</table>\n",
              "</div>\n",
              "      <button class=\"colab-df-convert\" onclick=\"convertToInteractive('df-0558c2c8-9d52-44b8-8354-785df2162051')\"\n",
              "              title=\"Convert this dataframe to an interactive table.\"\n",
              "              style=\"display:none;\">\n",
              "        \n",
              "  <svg xmlns=\"http://www.w3.org/2000/svg\" height=\"24px\"viewBox=\"0 0 24 24\"\n",
              "       width=\"24px\">\n",
              "    <path d=\"M0 0h24v24H0V0z\" fill=\"none\"/>\n",
              "    <path d=\"M18.56 5.44l.94 2.06.94-2.06 2.06-.94-2.06-.94-.94-2.06-.94 2.06-2.06.94zm-11 1L8.5 8.5l.94-2.06 2.06-.94-2.06-.94L8.5 2.5l-.94 2.06-2.06.94zm10 10l.94 2.06.94-2.06 2.06-.94-2.06-.94-.94-2.06-.94 2.06-2.06.94z\"/><path d=\"M17.41 7.96l-1.37-1.37c-.4-.4-.92-.59-1.43-.59-.52 0-1.04.2-1.43.59L10.3 9.45l-7.72 7.72c-.78.78-.78 2.05 0 2.83L4 21.41c.39.39.9.59 1.41.59.51 0 1.02-.2 1.41-.59l7.78-7.78 2.81-2.81c.8-.78.8-2.07 0-2.86zM5.41 20L4 18.59l7.72-7.72 1.47 1.35L5.41 20z\"/>\n",
              "  </svg>\n",
              "      </button>\n",
              "      \n",
              "  <style>\n",
              "    .colab-df-container {\n",
              "      display:flex;\n",
              "      flex-wrap:wrap;\n",
              "      gap: 12px;\n",
              "    }\n",
              "\n",
              "    .colab-df-convert {\n",
              "      background-color: #E8F0FE;\n",
              "      border: none;\n",
              "      border-radius: 50%;\n",
              "      cursor: pointer;\n",
              "      display: none;\n",
              "      fill: #1967D2;\n",
              "      height: 32px;\n",
              "      padding: 0 0 0 0;\n",
              "      width: 32px;\n",
              "    }\n",
              "\n",
              "    .colab-df-convert:hover {\n",
              "      background-color: #E2EBFA;\n",
              "      box-shadow: 0px 1px 2px rgba(60, 64, 67, 0.3), 0px 1px 3px 1px rgba(60, 64, 67, 0.15);\n",
              "      fill: #174EA6;\n",
              "    }\n",
              "\n",
              "    [theme=dark] .colab-df-convert {\n",
              "      background-color: #3B4455;\n",
              "      fill: #D2E3FC;\n",
              "    }\n",
              "\n",
              "    [theme=dark] .colab-df-convert:hover {\n",
              "      background-color: #434B5C;\n",
              "      box-shadow: 0px 1px 3px 1px rgba(0, 0, 0, 0.15);\n",
              "      filter: drop-shadow(0px 1px 2px rgba(0, 0, 0, 0.3));\n",
              "      fill: #FFFFFF;\n",
              "    }\n",
              "  </style>\n",
              "\n",
              "      <script>\n",
              "        const buttonEl =\n",
              "          document.querySelector('#df-0558c2c8-9d52-44b8-8354-785df2162051 button.colab-df-convert');\n",
              "        buttonEl.style.display =\n",
              "          google.colab.kernel.accessAllowed ? 'block' : 'none';\n",
              "\n",
              "        async function convertToInteractive(key) {\n",
              "          const element = document.querySelector('#df-0558c2c8-9d52-44b8-8354-785df2162051');\n",
              "          const dataTable =\n",
              "            await google.colab.kernel.invokeFunction('convertToInteractive',\n",
              "                                                     [key], {});\n",
              "          if (!dataTable) return;\n",
              "\n",
              "          const docLinkHtml = 'Like what you see? Visit the ' +\n",
              "            '<a target=\"_blank\" href=https://colab.research.google.com/notebooks/data_table.ipynb>data table notebook</a>'\n",
              "            + ' to learn more about interactive tables.';\n",
              "          element.innerHTML = '';\n",
              "          dataTable['output_type'] = 'display_data';\n",
              "          await google.colab.output.renderOutput(dataTable, element);\n",
              "          const docLink = document.createElement('div');\n",
              "          docLink.innerHTML = docLinkHtml;\n",
              "          element.appendChild(docLink);\n",
              "        }\n",
              "      </script>\n",
              "    </div>\n",
              "  </div>\n",
              "  "
            ],
            "text/plain": [
              "  รหัสนักศึกษา คะแนน\n",
              "0        B5601    80\n",
              "1        B5602    75\n",
              "2        B5603    90\n",
              "3        B5604    80\n",
              "4        B5605    75\n",
              "5        B5606    91\n",
              "6        B7801    55"
            ]
          },
          "execution_count": 18,
          "metadata": {},
          "output_type": "execute_result"
        }
      ],
      "source": [
        "############################################################\n",
        "#                      Answer: Problem 6                   #\n",
        "############################################################\n",
        "\n",
        "import pandas as pd\n",
        "\n",
        "data =  [{'รหัสนักศึกษา':'B5601','คะแนน':'80'},\n",
        "        {'รหัสนักศึกษา':'B5602','คะแนน':'75'},\n",
        "        {'รหัสนักศึกษา':'B5603','คะแนน':'90'},\n",
        "         {'รหัสนักศึกษา':'B5604','คะแนน':'80'},\n",
        "         {'รหัสนักศึกษา':'B5605','คะแนน':'75'},\n",
        "         {'รหัสนักศึกษา':'B5606','คะแนน':'91'},\n",
        "         {'รหัสนักศึกษา':'B7801','คะแนน':'55'},]\n",
        "\n",
        "df = pd.DataFrame.from_dict(data)\n",
        "df"
      ]
    }
  ],
  "metadata": {
    "colab": {
      "provenance": []
    },
    "kernelspec": {
      "display_name": "Python 3",
      "language": "python",
      "name": "python3"
    },
    "language_info": {
      "codemirror_mode": {
        "name": "ipython",
        "version": 3
      },
      "file_extension": ".py",
      "mimetype": "text/x-python",
      "name": "python",
      "nbconvert_exporter": "python",
      "pygments_lexer": "ipython3",
      "version": "3.10.6 (tags/v3.10.6:9c7b4bd, Aug  1 2022, 21:53:49) [MSC v.1932 64 bit (AMD64)]"
    },
    "vscode": {
      "interpreter": {
        "hash": "f17998a25dbc5d0087e9d36da2f1b8958c719c5b7320225595de63e383e611ce"
      }
    }
  },
  "nbformat": 4,
  "nbformat_minor": 0
}
